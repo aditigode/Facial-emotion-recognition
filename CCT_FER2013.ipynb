{
  "nbformat": 4,
  "nbformat_minor": 0,
  "metadata": {
    "colab": {
      "name": "CCT_FER2013.ipynb",
      "provenance": [],
      "collapsed_sections": []
    },
    "kernelspec": {
      "name": "python3",
      "display_name": "Python 3"
    },
    "language_info": {
      "name": "python"
    },
    "accelerator": "GPU"
  },
  "cells": [
    {
      "cell_type": "code",
      "execution_count": 1,
      "metadata": {
        "colab": {
          "base_uri": "https://localhost:8080/"
        },
        "id": "hiWk66mG3goe",
        "outputId": "3d38bf06-f3b8-48a2-abb7-50c9c95bd3df"
      },
      "outputs": [
        {
          "output_type": "stream",
          "name": "stdout",
          "text": [
            "Mounted at /content/drive\n"
          ]
        }
      ],
      "source": [
        "from google.colab import drive\n",
        "drive.mount('/content/drive')"
      ]
    },
    {
      "cell_type": "markdown",
      "source": [
        "import dataset"
      ],
      "metadata": {
        "id": "prZflpaNwIu4"
      }
    },
    {
      "cell_type": "code",
      "source": [
        "import pandas as pd\n",
        "\n",
        "df =pd.read_csv(\"drive/My Drive/fer2013/icml_face_data.csv\")\n",
        "df.head()"
      ],
      "metadata": {
        "colab": {
          "base_uri": "https://localhost:8080/",
          "height": 206
        },
        "id": "uHabzDjA473a",
        "outputId": "c54b1c30-a7fd-4881-8803-b70bdfac68d7"
      },
      "execution_count": 2,
      "outputs": [
        {
          "output_type": "execute_result",
          "data": {
            "text/plain": [
              "   emotion     Usage                                             pixels\n",
              "0        0  Training  70 80 82 72 58 58 60 63 54 58 60 48 89 115 121...\n",
              "1        0  Training  151 150 147 155 148 133 111 140 170 174 182 15...\n",
              "2        2  Training  231 212 156 164 174 138 161 173 182 200 106 38...\n",
              "3        4  Training  24 32 36 30 32 23 19 20 30 41 21 22 32 34 21 1...\n",
              "4        6  Training  4 0 0 0 0 0 0 0 0 0 0 0 3 15 23 28 48 50 58 84..."
            ],
            "text/html": [
              "\n",
              "  <div id=\"df-f837af4d-ef0d-43ca-8e29-d5c2f0563fee\">\n",
              "    <div class=\"colab-df-container\">\n",
              "      <div>\n",
              "<style scoped>\n",
              "    .dataframe tbody tr th:only-of-type {\n",
              "        vertical-align: middle;\n",
              "    }\n",
              "\n",
              "    .dataframe tbody tr th {\n",
              "        vertical-align: top;\n",
              "    }\n",
              "\n",
              "    .dataframe thead th {\n",
              "        text-align: right;\n",
              "    }\n",
              "</style>\n",
              "<table border=\"1\" class=\"dataframe\">\n",
              "  <thead>\n",
              "    <tr style=\"text-align: right;\">\n",
              "      <th></th>\n",
              "      <th>emotion</th>\n",
              "      <th>Usage</th>\n",
              "      <th>pixels</th>\n",
              "    </tr>\n",
              "  </thead>\n",
              "  <tbody>\n",
              "    <tr>\n",
              "      <th>0</th>\n",
              "      <td>0</td>\n",
              "      <td>Training</td>\n",
              "      <td>70 80 82 72 58 58 60 63 54 58 60 48 89 115 121...</td>\n",
              "    </tr>\n",
              "    <tr>\n",
              "      <th>1</th>\n",
              "      <td>0</td>\n",
              "      <td>Training</td>\n",
              "      <td>151 150 147 155 148 133 111 140 170 174 182 15...</td>\n",
              "    </tr>\n",
              "    <tr>\n",
              "      <th>2</th>\n",
              "      <td>2</td>\n",
              "      <td>Training</td>\n",
              "      <td>231 212 156 164 174 138 161 173 182 200 106 38...</td>\n",
              "    </tr>\n",
              "    <tr>\n",
              "      <th>3</th>\n",
              "      <td>4</td>\n",
              "      <td>Training</td>\n",
              "      <td>24 32 36 30 32 23 19 20 30 41 21 22 32 34 21 1...</td>\n",
              "    </tr>\n",
              "    <tr>\n",
              "      <th>4</th>\n",
              "      <td>6</td>\n",
              "      <td>Training</td>\n",
              "      <td>4 0 0 0 0 0 0 0 0 0 0 0 3 15 23 28 48 50 58 84...</td>\n",
              "    </tr>\n",
              "  </tbody>\n",
              "</table>\n",
              "</div>\n",
              "      <button class=\"colab-df-convert\" onclick=\"convertToInteractive('df-f837af4d-ef0d-43ca-8e29-d5c2f0563fee')\"\n",
              "              title=\"Convert this dataframe to an interactive table.\"\n",
              "              style=\"display:none;\">\n",
              "        \n",
              "  <svg xmlns=\"http://www.w3.org/2000/svg\" height=\"24px\"viewBox=\"0 0 24 24\"\n",
              "       width=\"24px\">\n",
              "    <path d=\"M0 0h24v24H0V0z\" fill=\"none\"/>\n",
              "    <path d=\"M18.56 5.44l.94 2.06.94-2.06 2.06-.94-2.06-.94-.94-2.06-.94 2.06-2.06.94zm-11 1L8.5 8.5l.94-2.06 2.06-.94-2.06-.94L8.5 2.5l-.94 2.06-2.06.94zm10 10l.94 2.06.94-2.06 2.06-.94-2.06-.94-.94-2.06-.94 2.06-2.06.94z\"/><path d=\"M17.41 7.96l-1.37-1.37c-.4-.4-.92-.59-1.43-.59-.52 0-1.04.2-1.43.59L10.3 9.45l-7.72 7.72c-.78.78-.78 2.05 0 2.83L4 21.41c.39.39.9.59 1.41.59.51 0 1.02-.2 1.41-.59l7.78-7.78 2.81-2.81c.8-.78.8-2.07 0-2.86zM5.41 20L4 18.59l7.72-7.72 1.47 1.35L5.41 20z\"/>\n",
              "  </svg>\n",
              "      </button>\n",
              "      \n",
              "  <style>\n",
              "    .colab-df-container {\n",
              "      display:flex;\n",
              "      flex-wrap:wrap;\n",
              "      gap: 12px;\n",
              "    }\n",
              "\n",
              "    .colab-df-convert {\n",
              "      background-color: #E8F0FE;\n",
              "      border: none;\n",
              "      border-radius: 50%;\n",
              "      cursor: pointer;\n",
              "      display: none;\n",
              "      fill: #1967D2;\n",
              "      height: 32px;\n",
              "      padding: 0 0 0 0;\n",
              "      width: 32px;\n",
              "    }\n",
              "\n",
              "    .colab-df-convert:hover {\n",
              "      background-color: #E2EBFA;\n",
              "      box-shadow: 0px 1px 2px rgba(60, 64, 67, 0.3), 0px 1px 3px 1px rgba(60, 64, 67, 0.15);\n",
              "      fill: #174EA6;\n",
              "    }\n",
              "\n",
              "    [theme=dark] .colab-df-convert {\n",
              "      background-color: #3B4455;\n",
              "      fill: #D2E3FC;\n",
              "    }\n",
              "\n",
              "    [theme=dark] .colab-df-convert:hover {\n",
              "      background-color: #434B5C;\n",
              "      box-shadow: 0px 1px 3px 1px rgba(0, 0, 0, 0.15);\n",
              "      filter: drop-shadow(0px 1px 2px rgba(0, 0, 0, 0.3));\n",
              "      fill: #FFFFFF;\n",
              "    }\n",
              "  </style>\n",
              "\n",
              "      <script>\n",
              "        const buttonEl =\n",
              "          document.querySelector('#df-f837af4d-ef0d-43ca-8e29-d5c2f0563fee button.colab-df-convert');\n",
              "        buttonEl.style.display =\n",
              "          google.colab.kernel.accessAllowed ? 'block' : 'none';\n",
              "\n",
              "        async function convertToInteractive(key) {\n",
              "          const element = document.querySelector('#df-f837af4d-ef0d-43ca-8e29-d5c2f0563fee');\n",
              "          const dataTable =\n",
              "            await google.colab.kernel.invokeFunction('convertToInteractive',\n",
              "                                                     [key], {});\n",
              "          if (!dataTable) return;\n",
              "\n",
              "          const docLinkHtml = 'Like what you see? Visit the ' +\n",
              "            '<a target=\"_blank\" href=https://colab.research.google.com/notebooks/data_table.ipynb>data table notebook</a>'\n",
              "            + ' to learn more about interactive tables.';\n",
              "          element.innerHTML = '';\n",
              "          dataTable['output_type'] = 'display_data';\n",
              "          await google.colab.output.renderOutput(dataTable, element);\n",
              "          const docLink = document.createElement('div');\n",
              "          docLink.innerHTML = docLinkHtml;\n",
              "          element.appendChild(docLink);\n",
              "        }\n",
              "      </script>\n",
              "    </div>\n",
              "  </div>\n",
              "  "
            ]
          },
          "metadata": {},
          "execution_count": 2
        }
      ]
    },
    {
      "cell_type": "code",
      "source": [
        "!pip install -U -q tensorflow-addons"
      ],
      "metadata": {
        "id": "kiKiU6gF1396",
        "colab": {
          "base_uri": "https://localhost:8080/"
        },
        "outputId": "5f310928-27b5-4bf5-80a5-ab395ea006f1"
      },
      "execution_count": 3,
      "outputs": [
        {
          "output_type": "stream",
          "name": "stdout",
          "text": [
            "\u001b[K     |████████████████████████████████| 1.1 MB 664 kB/s \n",
            "\u001b[?25h"
          ]
        }
      ]
    },
    {
      "cell_type": "code",
      "source": [
        "#!pip install tensorflow-gpu==2.8.0"
      ],
      "metadata": {
        "id": "K-jjzfCctngc"
      },
      "execution_count": 4,
      "outputs": []
    },
    {
      "cell_type": "code",
      "source": [
        "import numpy as np\n",
        "import tensorflow as tf\n",
        "from tensorflow.keras import layers\n",
        "np.set_printoptions(precision=3, suppress=True)\n",
        "\n",
        "from tensorflow import keras\n",
        "\n",
        "import matplotlib.pyplot as plt\n",
        "import tensorflow_addons as tfa\n",
        "\n",
        "\n"
      ],
      "metadata": {
        "id": "DE1V0zvO5RMr"
      },
      "execution_count": 5,
      "outputs": []
    },
    {
      "cell_type": "code",
      "source": [
        "df[' Usage'].value_counts()"
      ],
      "metadata": {
        "colab": {
          "base_uri": "https://localhost:8080/"
        },
        "id": "nC9Dj9ONRKSi",
        "outputId": "88c37ad9-8b88-424e-dd10-65c139a1ba14"
      },
      "execution_count": 6,
      "outputs": [
        {
          "output_type": "execute_result",
          "data": {
            "text/plain": [
              "Training       28709\n",
              "PublicTest      3589\n",
              "PrivateTest     3589\n",
              "Name:  Usage, dtype: int64"
            ]
          },
          "metadata": {},
          "execution_count": 6
        }
      ]
    },
    {
      "cell_type": "markdown",
      "source": [
        "Training is training set, PrivateTest is validation set, and PublicTest is testing set"
      ],
      "metadata": {
        "id": "69viERnxwMIG"
      }
    },
    {
      "cell_type": "code",
      "source": [
        "train_df = df[df[' Usage']=='Training']\n",
        "#train_df.columns['emotion']\n",
        "val_df = df[df[' Usage']=='PrivateTest']\n",
        "test_df = df[df[' Usage']=='PublicTest']"
      ],
      "metadata": {
        "id": "ng1CkMVURRHQ"
      },
      "execution_count": 7,
      "outputs": []
    },
    {
      "cell_type": "markdown",
      "source": [
        "Separate the features and labels in set"
      ],
      "metadata": {
        "id": "L8XMqvA5wWKX"
      }
    },
    {
      "cell_type": "code",
      "source": [
        "\n",
        "def split_features_labels(name,mode):\n",
        "  labels = \"fer2013_\" + mode + \"labels\"\n",
        "\n",
        "  labels = name.pop('emotion').to_frame()\n",
        "  name.columns=['Usage','pixels']\n",
        "  print(type(name))\n",
        "  #print(fer2013_train_features['pixels'])\n",
        "  name.pop('Usage')\n",
        "  labels.columns = ['emotion']\n",
        "  name.reset_index(drop=True,inplace = True)\n",
        "  labels.reset_index(drop=True,inplace=True)\n",
        "  return name,labels\n",
        "  #fer2013_train_features"
      ],
      "metadata": {
        "id": "i6Kp_ESV5i_K"
      },
      "execution_count": 8,
      "outputs": []
    },
    {
      "cell_type": "markdown",
      "source": [
        "split features and labels for training, validation, and testing set"
      ],
      "metadata": {
        "id": "1ohOoKuvwfIl"
      }
    },
    {
      "cell_type": "code",
      "source": [
        "fer2013_train_features = train_df.copy()\n",
        "fer2013_val_features = val_df.copy()\n",
        "fer2013_test_features = test_df.copy()\n",
        "fer2013_train_features,fer2013_train_labels = split_features_labels(fer2013_train_features,\"train\")\n",
        "fer2013_val_features,fer2013_val_labels = split_features_labels(fer2013_val_features,\"val\")\n",
        "fer2013_test_features,fer2013_test_labels = split_features_labels(fer2013_test_features,\"test\")"
      ],
      "metadata": {
        "colab": {
          "base_uri": "https://localhost:8080/"
        },
        "id": "OWrkFQbJUrV-",
        "outputId": "9e400ea3-b1c6-442b-c285-48209d9ef065"
      },
      "execution_count": 9,
      "outputs": [
        {
          "output_type": "stream",
          "name": "stdout",
          "text": [
            "<class 'pandas.core.frame.DataFrame'>\n",
            "<class 'pandas.core.frame.DataFrame'>\n",
            "<class 'pandas.core.frame.DataFrame'>\n"
          ]
        }
      ]
    },
    {
      "cell_type": "code",
      "source": [
        "fer2013_test_features"
      ],
      "metadata": {
        "colab": {
          "base_uri": "https://localhost:8080/",
          "height": 423
        },
        "id": "ao9MSIcfYRRW",
        "outputId": "458a18c8-3c1a-48c8-a2df-f04f594d66af"
      },
      "execution_count": 10,
      "outputs": [
        {
          "output_type": "execute_result",
          "data": {
            "text/plain": [
              "                                                 pixels\n",
              "0     254 254 254 254 254 249 255 160 2 58 53 70 77 ...\n",
              "1     156 184 198 202 204 207 210 212 213 214 215 21...\n",
              "2     69 118 61 60 96 121 103 87 103 88 70 90 115 12...\n",
              "3     205 203 236 157 83 158 120 116 94 86 155 180 2...\n",
              "4     87 79 74 66 74 96 77 80 80 84 83 89 102 91 84 ...\n",
              "...                                                 ...\n",
              "3584  178 176 172 173 173 174 176 173 166 166 206 22...\n",
              "3585  25 34 42 44 42 47 57 59 59 58 54 51 50 56 63 6...\n",
              "3586  255 255 255 255 255 255 255 255 255 255 255 25...\n",
              "3587  33 25 31 36 36 42 69 103 132 163 175 183 187 1...\n",
              "3588  61 63 59 75 151 159 166 161 143 170 127 131 18...\n",
              "\n",
              "[3589 rows x 1 columns]"
            ],
            "text/html": [
              "\n",
              "  <div id=\"df-b7f6b648-e64a-4dbc-ab88-1414015dc832\">\n",
              "    <div class=\"colab-df-container\">\n",
              "      <div>\n",
              "<style scoped>\n",
              "    .dataframe tbody tr th:only-of-type {\n",
              "        vertical-align: middle;\n",
              "    }\n",
              "\n",
              "    .dataframe tbody tr th {\n",
              "        vertical-align: top;\n",
              "    }\n",
              "\n",
              "    .dataframe thead th {\n",
              "        text-align: right;\n",
              "    }\n",
              "</style>\n",
              "<table border=\"1\" class=\"dataframe\">\n",
              "  <thead>\n",
              "    <tr style=\"text-align: right;\">\n",
              "      <th></th>\n",
              "      <th>pixels</th>\n",
              "    </tr>\n",
              "  </thead>\n",
              "  <tbody>\n",
              "    <tr>\n",
              "      <th>0</th>\n",
              "      <td>254 254 254 254 254 249 255 160 2 58 53 70 77 ...</td>\n",
              "    </tr>\n",
              "    <tr>\n",
              "      <th>1</th>\n",
              "      <td>156 184 198 202 204 207 210 212 213 214 215 21...</td>\n",
              "    </tr>\n",
              "    <tr>\n",
              "      <th>2</th>\n",
              "      <td>69 118 61 60 96 121 103 87 103 88 70 90 115 12...</td>\n",
              "    </tr>\n",
              "    <tr>\n",
              "      <th>3</th>\n",
              "      <td>205 203 236 157 83 158 120 116 94 86 155 180 2...</td>\n",
              "    </tr>\n",
              "    <tr>\n",
              "      <th>4</th>\n",
              "      <td>87 79 74 66 74 96 77 80 80 84 83 89 102 91 84 ...</td>\n",
              "    </tr>\n",
              "    <tr>\n",
              "      <th>...</th>\n",
              "      <td>...</td>\n",
              "    </tr>\n",
              "    <tr>\n",
              "      <th>3584</th>\n",
              "      <td>178 176 172 173 173 174 176 173 166 166 206 22...</td>\n",
              "    </tr>\n",
              "    <tr>\n",
              "      <th>3585</th>\n",
              "      <td>25 34 42 44 42 47 57 59 59 58 54 51 50 56 63 6...</td>\n",
              "    </tr>\n",
              "    <tr>\n",
              "      <th>3586</th>\n",
              "      <td>255 255 255 255 255 255 255 255 255 255 255 25...</td>\n",
              "    </tr>\n",
              "    <tr>\n",
              "      <th>3587</th>\n",
              "      <td>33 25 31 36 36 42 69 103 132 163 175 183 187 1...</td>\n",
              "    </tr>\n",
              "    <tr>\n",
              "      <th>3588</th>\n",
              "      <td>61 63 59 75 151 159 166 161 143 170 127 131 18...</td>\n",
              "    </tr>\n",
              "  </tbody>\n",
              "</table>\n",
              "<p>3589 rows × 1 columns</p>\n",
              "</div>\n",
              "      <button class=\"colab-df-convert\" onclick=\"convertToInteractive('df-b7f6b648-e64a-4dbc-ab88-1414015dc832')\"\n",
              "              title=\"Convert this dataframe to an interactive table.\"\n",
              "              style=\"display:none;\">\n",
              "        \n",
              "  <svg xmlns=\"http://www.w3.org/2000/svg\" height=\"24px\"viewBox=\"0 0 24 24\"\n",
              "       width=\"24px\">\n",
              "    <path d=\"M0 0h24v24H0V0z\" fill=\"none\"/>\n",
              "    <path d=\"M18.56 5.44l.94 2.06.94-2.06 2.06-.94-2.06-.94-.94-2.06-.94 2.06-2.06.94zm-11 1L8.5 8.5l.94-2.06 2.06-.94-2.06-.94L8.5 2.5l-.94 2.06-2.06.94zm10 10l.94 2.06.94-2.06 2.06-.94-2.06-.94-.94-2.06-.94 2.06-2.06.94z\"/><path d=\"M17.41 7.96l-1.37-1.37c-.4-.4-.92-.59-1.43-.59-.52 0-1.04.2-1.43.59L10.3 9.45l-7.72 7.72c-.78.78-.78 2.05 0 2.83L4 21.41c.39.39.9.59 1.41.59.51 0 1.02-.2 1.41-.59l7.78-7.78 2.81-2.81c.8-.78.8-2.07 0-2.86zM5.41 20L4 18.59l7.72-7.72 1.47 1.35L5.41 20z\"/>\n",
              "  </svg>\n",
              "      </button>\n",
              "      \n",
              "  <style>\n",
              "    .colab-df-container {\n",
              "      display:flex;\n",
              "      flex-wrap:wrap;\n",
              "      gap: 12px;\n",
              "    }\n",
              "\n",
              "    .colab-df-convert {\n",
              "      background-color: #E8F0FE;\n",
              "      border: none;\n",
              "      border-radius: 50%;\n",
              "      cursor: pointer;\n",
              "      display: none;\n",
              "      fill: #1967D2;\n",
              "      height: 32px;\n",
              "      padding: 0 0 0 0;\n",
              "      width: 32px;\n",
              "    }\n",
              "\n",
              "    .colab-df-convert:hover {\n",
              "      background-color: #E2EBFA;\n",
              "      box-shadow: 0px 1px 2px rgba(60, 64, 67, 0.3), 0px 1px 3px 1px rgba(60, 64, 67, 0.15);\n",
              "      fill: #174EA6;\n",
              "    }\n",
              "\n",
              "    [theme=dark] .colab-df-convert {\n",
              "      background-color: #3B4455;\n",
              "      fill: #D2E3FC;\n",
              "    }\n",
              "\n",
              "    [theme=dark] .colab-df-convert:hover {\n",
              "      background-color: #434B5C;\n",
              "      box-shadow: 0px 1px 3px 1px rgba(0, 0, 0, 0.15);\n",
              "      filter: drop-shadow(0px 1px 2px rgba(0, 0, 0, 0.3));\n",
              "      fill: #FFFFFF;\n",
              "    }\n",
              "  </style>\n",
              "\n",
              "      <script>\n",
              "        const buttonEl =\n",
              "          document.querySelector('#df-b7f6b648-e64a-4dbc-ab88-1414015dc832 button.colab-df-convert');\n",
              "        buttonEl.style.display =\n",
              "          google.colab.kernel.accessAllowed ? 'block' : 'none';\n",
              "\n",
              "        async function convertToInteractive(key) {\n",
              "          const element = document.querySelector('#df-b7f6b648-e64a-4dbc-ab88-1414015dc832');\n",
              "          const dataTable =\n",
              "            await google.colab.kernel.invokeFunction('convertToInteractive',\n",
              "                                                     [key], {});\n",
              "          if (!dataTable) return;\n",
              "\n",
              "          const docLinkHtml = 'Like what you see? Visit the ' +\n",
              "            '<a target=\"_blank\" href=https://colab.research.google.com/notebooks/data_table.ipynb>data table notebook</a>'\n",
              "            + ' to learn more about interactive tables.';\n",
              "          element.innerHTML = '';\n",
              "          dataTable['output_type'] = 'display_data';\n",
              "          await google.colab.output.renderOutput(dataTable, element);\n",
              "          const docLink = document.createElement('div');\n",
              "          docLink.innerHTML = docLinkHtml;\n",
              "          element.appendChild(docLink);\n",
              "        }\n",
              "      </script>\n",
              "    </div>\n",
              "  </div>\n",
              "  "
            ]
          },
          "metadata": {},
          "execution_count": 10
        }
      ]
    },
    {
      "cell_type": "code",
      "source": [
        "fer2013_train_labels.head()"
      ],
      "metadata": {
        "colab": {
          "base_uri": "https://localhost:8080/",
          "height": 206
        },
        "id": "dd3kgDP66aBg",
        "outputId": "98b4414f-a25f-4a7e-d181-b948551a7ef5"
      },
      "execution_count": 11,
      "outputs": [
        {
          "output_type": "execute_result",
          "data": {
            "text/plain": [
              "   emotion\n",
              "0        0\n",
              "1        0\n",
              "2        2\n",
              "3        4\n",
              "4        6"
            ],
            "text/html": [
              "\n",
              "  <div id=\"df-c8dc39c4-cd89-4f4f-bbc6-8a128486b706\">\n",
              "    <div class=\"colab-df-container\">\n",
              "      <div>\n",
              "<style scoped>\n",
              "    .dataframe tbody tr th:only-of-type {\n",
              "        vertical-align: middle;\n",
              "    }\n",
              "\n",
              "    .dataframe tbody tr th {\n",
              "        vertical-align: top;\n",
              "    }\n",
              "\n",
              "    .dataframe thead th {\n",
              "        text-align: right;\n",
              "    }\n",
              "</style>\n",
              "<table border=\"1\" class=\"dataframe\">\n",
              "  <thead>\n",
              "    <tr style=\"text-align: right;\">\n",
              "      <th></th>\n",
              "      <th>emotion</th>\n",
              "    </tr>\n",
              "  </thead>\n",
              "  <tbody>\n",
              "    <tr>\n",
              "      <th>0</th>\n",
              "      <td>0</td>\n",
              "    </tr>\n",
              "    <tr>\n",
              "      <th>1</th>\n",
              "      <td>0</td>\n",
              "    </tr>\n",
              "    <tr>\n",
              "      <th>2</th>\n",
              "      <td>2</td>\n",
              "    </tr>\n",
              "    <tr>\n",
              "      <th>3</th>\n",
              "      <td>4</td>\n",
              "    </tr>\n",
              "    <tr>\n",
              "      <th>4</th>\n",
              "      <td>6</td>\n",
              "    </tr>\n",
              "  </tbody>\n",
              "</table>\n",
              "</div>\n",
              "      <button class=\"colab-df-convert\" onclick=\"convertToInteractive('df-c8dc39c4-cd89-4f4f-bbc6-8a128486b706')\"\n",
              "              title=\"Convert this dataframe to an interactive table.\"\n",
              "              style=\"display:none;\">\n",
              "        \n",
              "  <svg xmlns=\"http://www.w3.org/2000/svg\" height=\"24px\"viewBox=\"0 0 24 24\"\n",
              "       width=\"24px\">\n",
              "    <path d=\"M0 0h24v24H0V0z\" fill=\"none\"/>\n",
              "    <path d=\"M18.56 5.44l.94 2.06.94-2.06 2.06-.94-2.06-.94-.94-2.06-.94 2.06-2.06.94zm-11 1L8.5 8.5l.94-2.06 2.06-.94-2.06-.94L8.5 2.5l-.94 2.06-2.06.94zm10 10l.94 2.06.94-2.06 2.06-.94-2.06-.94-.94-2.06-.94 2.06-2.06.94z\"/><path d=\"M17.41 7.96l-1.37-1.37c-.4-.4-.92-.59-1.43-.59-.52 0-1.04.2-1.43.59L10.3 9.45l-7.72 7.72c-.78.78-.78 2.05 0 2.83L4 21.41c.39.39.9.59 1.41.59.51 0 1.02-.2 1.41-.59l7.78-7.78 2.81-2.81c.8-.78.8-2.07 0-2.86zM5.41 20L4 18.59l7.72-7.72 1.47 1.35L5.41 20z\"/>\n",
              "  </svg>\n",
              "      </button>\n",
              "      \n",
              "  <style>\n",
              "    .colab-df-container {\n",
              "      display:flex;\n",
              "      flex-wrap:wrap;\n",
              "      gap: 12px;\n",
              "    }\n",
              "\n",
              "    .colab-df-convert {\n",
              "      background-color: #E8F0FE;\n",
              "      border: none;\n",
              "      border-radius: 50%;\n",
              "      cursor: pointer;\n",
              "      display: none;\n",
              "      fill: #1967D2;\n",
              "      height: 32px;\n",
              "      padding: 0 0 0 0;\n",
              "      width: 32px;\n",
              "    }\n",
              "\n",
              "    .colab-df-convert:hover {\n",
              "      background-color: #E2EBFA;\n",
              "      box-shadow: 0px 1px 2px rgba(60, 64, 67, 0.3), 0px 1px 3px 1px rgba(60, 64, 67, 0.15);\n",
              "      fill: #174EA6;\n",
              "    }\n",
              "\n",
              "    [theme=dark] .colab-df-convert {\n",
              "      background-color: #3B4455;\n",
              "      fill: #D2E3FC;\n",
              "    }\n",
              "\n",
              "    [theme=dark] .colab-df-convert:hover {\n",
              "      background-color: #434B5C;\n",
              "      box-shadow: 0px 1px 3px 1px rgba(0, 0, 0, 0.15);\n",
              "      filter: drop-shadow(0px 1px 2px rgba(0, 0, 0, 0.3));\n",
              "      fill: #FFFFFF;\n",
              "    }\n",
              "  </style>\n",
              "\n",
              "      <script>\n",
              "        const buttonEl =\n",
              "          document.querySelector('#df-c8dc39c4-cd89-4f4f-bbc6-8a128486b706 button.colab-df-convert');\n",
              "        buttonEl.style.display =\n",
              "          google.colab.kernel.accessAllowed ? 'block' : 'none';\n",
              "\n",
              "        async function convertToInteractive(key) {\n",
              "          const element = document.querySelector('#df-c8dc39c4-cd89-4f4f-bbc6-8a128486b706');\n",
              "          const dataTable =\n",
              "            await google.colab.kernel.invokeFunction('convertToInteractive',\n",
              "                                                     [key], {});\n",
              "          if (!dataTable) return;\n",
              "\n",
              "          const docLinkHtml = 'Like what you see? Visit the ' +\n",
              "            '<a target=\"_blank\" href=https://colab.research.google.com/notebooks/data_table.ipynb>data table notebook</a>'\n",
              "            + ' to learn more about interactive tables.';\n",
              "          element.innerHTML = '';\n",
              "          dataTable['output_type'] = 'display_data';\n",
              "          await google.colab.output.renderOutput(dataTable, element);\n",
              "          const docLink = document.createElement('div');\n",
              "          docLink.innerHTML = docLinkHtml;\n",
              "          element.appendChild(docLink);\n",
              "        }\n",
              "      </script>\n",
              "    </div>\n",
              "  </div>\n",
              "  "
            ]
          },
          "metadata": {},
          "execution_count": 11
        }
      ]
    },
    {
      "cell_type": "code",
      "source": [
        "fer2013_train_features"
      ],
      "metadata": {
        "colab": {
          "base_uri": "https://localhost:8080/",
          "height": 423
        },
        "id": "ja4_QAhe7AHl",
        "outputId": "f47e70aa-f6ec-42db-c222-f3bfb2f0e94b"
      },
      "execution_count": 12,
      "outputs": [
        {
          "output_type": "execute_result",
          "data": {
            "text/plain": [
              "                                                  pixels\n",
              "0      70 80 82 72 58 58 60 63 54 58 60 48 89 115 121...\n",
              "1      151 150 147 155 148 133 111 140 170 174 182 15...\n",
              "2      231 212 156 164 174 138 161 173 182 200 106 38...\n",
              "3      24 32 36 30 32 23 19 20 30 41 21 22 32 34 21 1...\n",
              "4      4 0 0 0 0 0 0 0 0 0 0 0 3 15 23 28 48 50 58 84...\n",
              "...                                                  ...\n",
              "28704  84 85 85 85 85 85 85 85 86 86 86 87 86 86 91 9...\n",
              "28705  114 112 113 113 111 111 112 113 115 113 114 11...\n",
              "28706  74 81 87 89 95 100 98 93 105 120 127 133 146 1...\n",
              "28707  222 227 203 90 86 90 84 77 94 87 99 119 134 14...\n",
              "28708  195 199 205 206 205 203 206 209 208 210 212 21...\n",
              "\n",
              "[28709 rows x 1 columns]"
            ],
            "text/html": [
              "\n",
              "  <div id=\"df-0cfb3bd2-93fc-47d8-b81a-9f76bb6a603f\">\n",
              "    <div class=\"colab-df-container\">\n",
              "      <div>\n",
              "<style scoped>\n",
              "    .dataframe tbody tr th:only-of-type {\n",
              "        vertical-align: middle;\n",
              "    }\n",
              "\n",
              "    .dataframe tbody tr th {\n",
              "        vertical-align: top;\n",
              "    }\n",
              "\n",
              "    .dataframe thead th {\n",
              "        text-align: right;\n",
              "    }\n",
              "</style>\n",
              "<table border=\"1\" class=\"dataframe\">\n",
              "  <thead>\n",
              "    <tr style=\"text-align: right;\">\n",
              "      <th></th>\n",
              "      <th>pixels</th>\n",
              "    </tr>\n",
              "  </thead>\n",
              "  <tbody>\n",
              "    <tr>\n",
              "      <th>0</th>\n",
              "      <td>70 80 82 72 58 58 60 63 54 58 60 48 89 115 121...</td>\n",
              "    </tr>\n",
              "    <tr>\n",
              "      <th>1</th>\n",
              "      <td>151 150 147 155 148 133 111 140 170 174 182 15...</td>\n",
              "    </tr>\n",
              "    <tr>\n",
              "      <th>2</th>\n",
              "      <td>231 212 156 164 174 138 161 173 182 200 106 38...</td>\n",
              "    </tr>\n",
              "    <tr>\n",
              "      <th>3</th>\n",
              "      <td>24 32 36 30 32 23 19 20 30 41 21 22 32 34 21 1...</td>\n",
              "    </tr>\n",
              "    <tr>\n",
              "      <th>4</th>\n",
              "      <td>4 0 0 0 0 0 0 0 0 0 0 0 3 15 23 28 48 50 58 84...</td>\n",
              "    </tr>\n",
              "    <tr>\n",
              "      <th>...</th>\n",
              "      <td>...</td>\n",
              "    </tr>\n",
              "    <tr>\n",
              "      <th>28704</th>\n",
              "      <td>84 85 85 85 85 85 85 85 86 86 86 87 86 86 91 9...</td>\n",
              "    </tr>\n",
              "    <tr>\n",
              "      <th>28705</th>\n",
              "      <td>114 112 113 113 111 111 112 113 115 113 114 11...</td>\n",
              "    </tr>\n",
              "    <tr>\n",
              "      <th>28706</th>\n",
              "      <td>74 81 87 89 95 100 98 93 105 120 127 133 146 1...</td>\n",
              "    </tr>\n",
              "    <tr>\n",
              "      <th>28707</th>\n",
              "      <td>222 227 203 90 86 90 84 77 94 87 99 119 134 14...</td>\n",
              "    </tr>\n",
              "    <tr>\n",
              "      <th>28708</th>\n",
              "      <td>195 199 205 206 205 203 206 209 208 210 212 21...</td>\n",
              "    </tr>\n",
              "  </tbody>\n",
              "</table>\n",
              "<p>28709 rows × 1 columns</p>\n",
              "</div>\n",
              "      <button class=\"colab-df-convert\" onclick=\"convertToInteractive('df-0cfb3bd2-93fc-47d8-b81a-9f76bb6a603f')\"\n",
              "              title=\"Convert this dataframe to an interactive table.\"\n",
              "              style=\"display:none;\">\n",
              "        \n",
              "  <svg xmlns=\"http://www.w3.org/2000/svg\" height=\"24px\"viewBox=\"0 0 24 24\"\n",
              "       width=\"24px\">\n",
              "    <path d=\"M0 0h24v24H0V0z\" fill=\"none\"/>\n",
              "    <path d=\"M18.56 5.44l.94 2.06.94-2.06 2.06-.94-2.06-.94-.94-2.06-.94 2.06-2.06.94zm-11 1L8.5 8.5l.94-2.06 2.06-.94-2.06-.94L8.5 2.5l-.94 2.06-2.06.94zm10 10l.94 2.06.94-2.06 2.06-.94-2.06-.94-.94-2.06-.94 2.06-2.06.94z\"/><path d=\"M17.41 7.96l-1.37-1.37c-.4-.4-.92-.59-1.43-.59-.52 0-1.04.2-1.43.59L10.3 9.45l-7.72 7.72c-.78.78-.78 2.05 0 2.83L4 21.41c.39.39.9.59 1.41.59.51 0 1.02-.2 1.41-.59l7.78-7.78 2.81-2.81c.8-.78.8-2.07 0-2.86zM5.41 20L4 18.59l7.72-7.72 1.47 1.35L5.41 20z\"/>\n",
              "  </svg>\n",
              "      </button>\n",
              "      \n",
              "  <style>\n",
              "    .colab-df-container {\n",
              "      display:flex;\n",
              "      flex-wrap:wrap;\n",
              "      gap: 12px;\n",
              "    }\n",
              "\n",
              "    .colab-df-convert {\n",
              "      background-color: #E8F0FE;\n",
              "      border: none;\n",
              "      border-radius: 50%;\n",
              "      cursor: pointer;\n",
              "      display: none;\n",
              "      fill: #1967D2;\n",
              "      height: 32px;\n",
              "      padding: 0 0 0 0;\n",
              "      width: 32px;\n",
              "    }\n",
              "\n",
              "    .colab-df-convert:hover {\n",
              "      background-color: #E2EBFA;\n",
              "      box-shadow: 0px 1px 2px rgba(60, 64, 67, 0.3), 0px 1px 3px 1px rgba(60, 64, 67, 0.15);\n",
              "      fill: #174EA6;\n",
              "    }\n",
              "\n",
              "    [theme=dark] .colab-df-convert {\n",
              "      background-color: #3B4455;\n",
              "      fill: #D2E3FC;\n",
              "    }\n",
              "\n",
              "    [theme=dark] .colab-df-convert:hover {\n",
              "      background-color: #434B5C;\n",
              "      box-shadow: 0px 1px 3px 1px rgba(0, 0, 0, 0.15);\n",
              "      filter: drop-shadow(0px 1px 2px rgba(0, 0, 0, 0.3));\n",
              "      fill: #FFFFFF;\n",
              "    }\n",
              "  </style>\n",
              "\n",
              "      <script>\n",
              "        const buttonEl =\n",
              "          document.querySelector('#df-0cfb3bd2-93fc-47d8-b81a-9f76bb6a603f button.colab-df-convert');\n",
              "        buttonEl.style.display =\n",
              "          google.colab.kernel.accessAllowed ? 'block' : 'none';\n",
              "\n",
              "        async function convertToInteractive(key) {\n",
              "          const element = document.querySelector('#df-0cfb3bd2-93fc-47d8-b81a-9f76bb6a603f');\n",
              "          const dataTable =\n",
              "            await google.colab.kernel.invokeFunction('convertToInteractive',\n",
              "                                                     [key], {});\n",
              "          if (!dataTable) return;\n",
              "\n",
              "          const docLinkHtml = 'Like what you see? Visit the ' +\n",
              "            '<a target=\"_blank\" href=https://colab.research.google.com/notebooks/data_table.ipynb>data table notebook</a>'\n",
              "            + ' to learn more about interactive tables.';\n",
              "          element.innerHTML = '';\n",
              "          dataTable['output_type'] = 'display_data';\n",
              "          await google.colab.output.renderOutput(dataTable, element);\n",
              "          const docLink = document.createElement('div');\n",
              "          docLink.innerHTML = docLinkHtml;\n",
              "          element.appendChild(docLink);\n",
              "        }\n",
              "      </script>\n",
              "    </div>\n",
              "  </div>\n",
              "  "
            ]
          },
          "metadata": {},
          "execution_count": 12
        }
      ]
    },
    {
      "cell_type": "markdown",
      "source": [
        "Counting the total number of examples for each type of class(total classes = 7)"
      ],
      "metadata": {
        "id": "s-1VNT7hyuop"
      }
    },
    {
      "cell_type": "code",
      "source": [
        "classes = sorted(fer2013_train_labels['emotion'].unique())\n",
        "print(\"total number of classes: \",len(classes))\n",
        "#print(classes)\n",
        "distribution = fer2013_train_labels.groupby('emotion')['emotion'].value_counts().to_dict()\n",
        "distribution"
      ],
      "metadata": {
        "colab": {
          "base_uri": "https://localhost:8080/"
        },
        "id": "7_-Yc98z7EIK",
        "outputId": "e78037d9-95d4-4ff7-fb11-022b7a9752fc"
      },
      "execution_count": 13,
      "outputs": [
        {
          "output_type": "stream",
          "name": "stdout",
          "text": [
            "total number of classes:  7\n"
          ]
        },
        {
          "output_type": "execute_result",
          "data": {
            "text/plain": [
              "{(0, 0): 3995,\n",
              " (1, 1): 436,\n",
              " (2, 2): 4097,\n",
              " (3, 3): 7215,\n",
              " (4, 4): 4830,\n",
              " (5, 5): 3171,\n",
              " (6, 6): 4965}"
            ]
          },
          "metadata": {},
          "execution_count": 13
        }
      ]
    },
    {
      "cell_type": "markdown",
      "source": [
        "Plot showing distribution of the seven classes"
      ],
      "metadata": {
        "id": "o4Sw4tEry2ZH"
      }
    },
    {
      "cell_type": "code",
      "source": [
        "\n",
        "plt.bar(classes, [distribution[(i, i)] for i in classes])\n",
        "plt.xlabel('Number of emotions', fontsize=15)\n",
        "plt.ylabel('Number of examples', fontsize=15)\n",
        "plt.xticks(classes, classes, fontsize=10)\n",
        "plt.title('Training set')\n",
        "plt.show()"
      ],
      "metadata": {
        "colab": {
          "base_uri": "https://localhost:8080/",
          "height": 300
        },
        "id": "fjOWJjChSIj1",
        "outputId": "f4a14cad-fa44-4a96-e839-6a415bc3b799"
      },
      "execution_count": 14,
      "outputs": [
        {
          "output_type": "display_data",
          "data": {
            "text/plain": [
              "<Figure size 432x288 with 1 Axes>"
            ],
            "image/png": "[encoded data removed]"
          },
          "metadata": {
            "needs_background": "light"
          }
        }
      ]
    },
    {
      "cell_type": "markdown",
      "source": [
        "Splitting the features and labels from strings into a numpy array of type unint8"
      ],
      "metadata": {
        "id": "IAvU9P2Qy9XS"
      }
    },
    {
      "cell_type": "code",
      "source": [
        "# X_train = np.array(fer2013_features, dtype = 'uint8')\n",
        "# y_train = np.array(fer2013_labels, dtype = 'uint8')\n",
        "X_train = []\n",
        "for index, row in fer2013_train_features.iterrows():\n",
        "  temp = row['pixels'].split(\" \")\n",
        "  X_train.append(np.array(temp))\n",
        "print(len(X_train))\n",
        "X_train = np.array(X_train, dtype = 'uint8')\n",
        "y_train = fer2013_train_labels.to_numpy(dtype = 'uint8')\n",
        "print(\"shape of y_train:\",y_train.shape)\n",
        "print(\"shape of X_train:\",X_train.shape)"
      ],
      "metadata": {
        "id": "xIwRbJZbk5PH",
        "colab": {
          "base_uri": "https://localhost:8080/"
        },
        "outputId": "5468e81e-9dc9-4ccf-8e27-27d07e70916a"
      },
      "execution_count": 15,
      "outputs": [
        {
          "output_type": "stream",
          "name": "stdout",
          "text": [
            "28709\n",
            "shape of y_train: (28709, 1)\n",
            "shape of X_train: (28709, 2304)\n"
          ]
        }
      ]
    },
    {
      "cell_type": "code",
      "source": [
        "X_val = []\n",
        "for index, row in fer2013_val_features.iterrows():\n",
        "  temp = row['pixels'].split(\" \")\n",
        "  X_val.append(np.array(temp))\n",
        "print(len(X_val))\n",
        "X_val = np.array(X_val, dtype = 'uint8')\n",
        "y_val = fer2013_val_labels.to_numpy(dtype = 'uint8')\n",
        "print(\"shape of y_val:\",y_val.shape)\n",
        "print(\"shape of X_val:\",X_val.shape)\n",
        "\n"
      ],
      "metadata": {
        "colab": {
          "base_uri": "https://localhost:8080/"
        },
        "id": "TfsU2k86mfYs",
        "outputId": "d033e625-5a46-44ad-e739-b80191e4115e"
      },
      "execution_count": 16,
      "outputs": [
        {
          "output_type": "stream",
          "name": "stdout",
          "text": [
            "3589\n",
            "shape of y_val: (3589, 1)\n",
            "shape of X_val: (3589, 2304)\n"
          ]
        }
      ]
    },
    {
      "cell_type": "code",
      "source": [
        "X_test = []\n",
        "for index, row in fer2013_test_features.iterrows():\n",
        "  temp = row['pixels'].split(\" \")\n",
        "  X_test.append(np.array(temp))\n",
        "print(len(X_test))\n",
        "X_test = np.array(X_test, dtype = 'uint8')\n",
        "y_test = fer2013_test_labels.to_numpy(dtype = 'uint8')\n",
        "print(\"shape of y_test:\",y_test.shape)\n",
        "print(\"shape of X_test:\",X_test.shape)\n",
        "\n"
      ],
      "metadata": {
        "colab": {
          "base_uri": "https://localhost:8080/"
        },
        "id": "wpPdY9lGZ0pG",
        "outputId": "7793f86c-1308-4f34-9c6d-aadcd94f5be3"
      },
      "execution_count": 17,
      "outputs": [
        {
          "output_type": "stream",
          "name": "stdout",
          "text": [
            "3589\n",
            "shape of y_test: (3589, 1)\n",
            "shape of X_test: (3589, 2304)\n"
          ]
        }
      ]
    },
    {
      "cell_type": "code",
      "source": [
        "X_train = X_train.reshape(X_train.shape[0],48,48,1)\n",
        "X_test = X_test.reshape(X_test.shape[0],48,48,1)\n",
        "print(\"X_train shape:\",X_train.shape)\n"
      ],
      "metadata": {
        "colab": {
          "base_uri": "https://localhost:8080/"
        },
        "id": "CB9wTRLfn1jM",
        "outputId": "0c3be536-94ef-4560-877c-80be374bf7bb"
      },
      "execution_count": 18,
      "outputs": [
        {
          "output_type": "stream",
          "name": "stdout",
          "text": [
            "X_train shape: (28709, 48, 48, 1)\n"
          ]
        }
      ]
    },
    {
      "cell_type": "code",
      "source": [
        "X_test.shape"
      ],
      "metadata": {
        "colab": {
          "base_uri": "https://localhost:8080/"
        },
        "id": "2flukzQQNxAq",
        "outputId": "30ff7bcd-e7d6-4577-eb3d-106b8223eba1"
      },
      "execution_count": 19,
      "outputs": [
        {
          "output_type": "execute_result",
          "data": {
            "text/plain": [
              "(3589, 48, 48, 1)"
            ]
          },
          "metadata": {},
          "execution_count": 19
        }
      ]
    },
    {
      "cell_type": "markdown",
      "source": [
        "Example image of a toddler in the dataset"
      ],
      "metadata": {
        "id": "IIFYSX5dzNuF"
      }
    },
    {
      "cell_type": "code",
      "source": [
        "#fer2013_features.iloc[1]\n",
        "#visualizing an image from the training dataset\n",
        "numpy_im = np.mat(fer2013_train_features.pixels[6]).reshape(48,48)\n",
        "print(numpy_im.shape)\n",
        "plt.imshow(numpy_im,cmap='gray')\n",
        "plt.show() "
      ],
      "metadata": {
        "colab": {
          "base_uri": "https://localhost:8080/",
          "height": 284
        },
        "id": "NIZCuvjKZWvR",
        "outputId": "fdf0382b-31a7-4a22-8d2a-99bb82474f7e"
      },
      "execution_count": 20,
      "outputs": [
        {
          "output_type": "stream",
          "name": "stdout",
          "text": [
            "(48, 48)\n"
          ]
        },
        {
          "output_type": "display_data",
          "data": {
            "text/plain": [
              "<Figure size 432x288 with 1 Axes>"
            ],
            "image/png": "[encoded data removed]"
          },
          "metadata": {
            "needs_background": "light"
          }
        }
      ]
    },
    {
      "cell_type": "markdown",
      "source": [
        "Data augmentation of the same image with variations in width, height, zoom, horizontal flip, and shear"
      ],
      "metadata": {
        "id": "pawxPbHlzT09"
      }
    },
    {
      "cell_type": "code",
      "source": [
        "\n",
        "from keras.preprocessing.image import ImageDataGenerator\n",
        "import cv2\n",
        "\n",
        "#augmenting data using ImageDataGenerator to augment data in real-time while training\n",
        "data_generator = ImageDataGenerator(rotation_range=20,\n",
        "                        width_shift_range=0.1,\n",
        "                        height_shift_range=0.1,\n",
        "                        zoom_range=0.1,\n",
        "                        fill_mode='nearest',\n",
        "                        shear_range=0.1,\n",
        "                        horizontal_flip=True)\n"
      ],
      "metadata": {
        "id": "f6skJa8oSyhd"
      },
      "execution_count": 21,
      "outputs": []
    },
    {
      "cell_type": "markdown",
      "source": [
        "Here you can see the data augmentation applied to get variations in the same image of the toddler that was dispalyed above"
      ],
      "metadata": {
        "id": "6tb_0v11zi0T"
      }
    },
    {
      "cell_type": "code",
      "source": [
        "#visualizing data augmentations for a single image from the training set\n",
        "img = np.expand_dims(X_train[6],0)\n",
        "print(img.shape)\n",
        "train_data1 = data_generator.flow(img,batch_size = 1)\n",
        "fig, ax = plt.subplots(nrows=1, ncols=8, figsize=(15,15))\n",
        "\n",
        "\n",
        "for i in range(8):\n",
        "    image = next(train_data1).reshape(48,48)\n",
        "    #print(\"shape is\",image.shape)\n",
        " \n",
        "    # plot the augmented images\n",
        "    ax[i].imshow(image,cmap='gray')"
      ],
      "metadata": {
        "colab": {
          "base_uri": "https://localhost:8080/",
          "height": 157
        },
        "id": "pU5333_lrhsT",
        "outputId": "34be5b3a-c637-4a86-d925-05174474e766"
      },
      "execution_count": 22,
      "outputs": [
        {
          "output_type": "stream",
          "name": "stdout",
          "text": [
            "(1, 48, 48, 1)\n"
          ]
        },
        {
          "output_type": "display_data",
          "data": {
            "text/plain": [
              "<Figure size 1080x1080 with 8 Axes>"
            ],
            "image/png": "[encoded data removed]"
          },
          "metadata": {
            "needs_background": "light"
          }
        }
      ]
    },
    {
      "cell_type": "code",
      "source": [
        "data_generator.fit(X_train)\n",
        "train_data = data_generator.flow(X_train,y_train,batch_size = 64)"
      ],
      "metadata": {
        "id": "qiiGMI0HpMrR"
      },
      "execution_count": 23,
      "outputs": []
    },
    {
      "cell_type": "markdown",
      "source": [
        "One-hot encoding training labels"
      ],
      "metadata": {
        "id": "_Suif8zCLKgs"
      }
    },
    {
      "cell_type": "code",
      "source": [
        "from tensorflow.keras.utils import to_categorical\n",
        "y_train = to_categorical(y_train)\n"
      ],
      "metadata": {
        "id": "4knDVSmjgpWE"
      },
      "execution_count": 24,
      "outputs": []
    },
    {
      "cell_type": "markdown",
      "source": [
        "one-hot-encoding testing labels"
      ],
      "metadata": {
        "id": "TCP9A_WNLTIg"
      }
    },
    {
      "cell_type": "code",
      "source": [
        "#y_train\n",
        "y_test = to_categorical(y_test)\n",
        "y_test"
      ],
      "metadata": {
        "id": "jo6Qzg3Gg7sB",
        "colab": {
          "base_uri": "https://localhost:8080/"
        },
        "outputId": "08cf2475-06b9-4087-878c-a684ca890ce3"
      },
      "execution_count": 25,
      "outputs": [
        {
          "output_type": "execute_result",
          "data": {
            "text/plain": [
              "array([[1., 0., 0., ..., 0., 0., 0.],\n",
              "       [0., 1., 0., ..., 0., 0., 0.],\n",
              "       [0., 0., 0., ..., 1., 0., 0.],\n",
              "       ...,\n",
              "       [0., 0., 0., ..., 1., 0., 0.],\n",
              "       [0., 0., 0., ..., 1., 0., 0.],\n",
              "       [0., 0., 0., ..., 1., 0., 0.]], dtype=float32)"
            ]
          },
          "metadata": {},
          "execution_count": 25
        }
      ]
    },
    {
      "cell_type": "code",
      "source": [
        "X_train.shape\n",
        "y_train.shape"
      ],
      "metadata": {
        "colab": {
          "base_uri": "https://localhost:8080/"
        },
        "id": "wqCLrKJ2wPET",
        "outputId": "72420088-3bd8-49dd-bc1b-46421c158cf5"
      },
      "execution_count": 26,
      "outputs": [
        {
          "output_type": "execute_result",
          "data": {
            "text/plain": [
              "(28709, 7)"
            ]
          },
          "metadata": {},
          "execution_count": 26
        }
      ]
    },
    {
      "cell_type": "markdown",
      "source": [
        "The following code for Compact Convolutional Transformer was taken from https://keras.io/examples/vision/cct/. Only the parameters were changed while experimenting to adapt to the FER2013 dataset"
      ],
      "metadata": {
        "id": "PjBrH5F-G5Gh"
      }
    },
    {
      "cell_type": "markdown",
      "source": [
        "Hyperparameters and constants"
      ],
      "metadata": {
        "id": "75Pyy9xo2J8p"
      }
    },
    {
      "cell_type": "code",
      "source": [
        "positional_emb = True\n",
        "conv_layers = 2\n",
        "projection_dim = 128\n",
        "\n",
        "num_heads = 2\n",
        "transformer_units = [\n",
        "    projection_dim,\n",
        "    projection_dim,]\n",
        "transformer_layers = 2\n",
        "stochastic_depth_rate = 0.1\n",
        "\n",
        "learning_rate = 0.001\n",
        "weight_decay = 0.0001\n",
        "batch_size = 64\n",
        "num_epochs = 50\n",
        "image_size = 48"
      ],
      "metadata": {
        "id": "ciyelrYa1k9V"
      },
      "execution_count": 27,
      "outputs": []
    },
    {
      "cell_type": "code",
      "source": [
        "num_classes = 7\n",
        "input_shape = (48, 48, 1)"
      ],
      "metadata": {
        "id": "wu9Gh4EC1l4c"
      },
      "execution_count": 28,
      "outputs": []
    },
    {
      "cell_type": "code",
      "source": [
        "class CCTTokenizer(layers.Layer):\n",
        "    def __init__(\n",
        "        self,\n",
        "        kernel_size=3,\n",
        "        stride=1,\n",
        "        padding=1,\n",
        "        pooling_kernel_size=3,\n",
        "        pooling_stride=2,\n",
        "        num_conv_layers=conv_layers,\n",
        "        num_output_channels=[64, 128],\n",
        "        positional_emb=positional_emb,\n",
        "        **kwargs,\n",
        "    ):\n",
        "        super(CCTTokenizer, self).__init__(**kwargs)\n",
        "\n",
        "        # This is our tokenizer.\n",
        "        self.conv_model = keras.Sequential()\n",
        "        for i in range(num_conv_layers):\n",
        "            self.conv_model.add(\n",
        "                layers.Conv2D(\n",
        "                    num_output_channels[i],\n",
        "                    kernel_size,\n",
        "                    stride,\n",
        "                    padding=\"valid\",\n",
        "                    use_bias=False,\n",
        "                    activation=\"relu\",\n",
        "                    kernel_initializer=\"he_normal\",\n",
        "                )\n",
        "            )\n",
        "            self.conv_model.add(layers.ZeroPadding2D(padding))\n",
        "            self.conv_model.add(\n",
        "                layers.MaxPool2D(pooling_kernel_size, pooling_stride, \"same\")\n",
        "            )\n",
        "\n",
        "        self.positional_emb = positional_emb\n",
        "\n",
        "    def call(self, images):\n",
        "        outputs = self.conv_model(images)\n",
        "        # After passing the images through our mini-network the spatial dimensions\n",
        "        # are flattened to form sequences.\n",
        "        reshaped = tf.reshape(\n",
        "            outputs,\n",
        "            (-1, tf.shape(outputs)[1] * tf.shape(outputs)[2], tf.shape(outputs)[-1]),\n",
        "        )\n",
        "        return reshaped\n",
        "\n",
        "    def positional_embedding(self, image_size):\n",
        "        # Positional embeddings are optional in CCT. Here, we calculate\n",
        "        # the number of sequences and initialize an `Embedding` layer to\n",
        "        # compute the positional embeddings later.\n",
        "        if self.positional_emb:\n",
        "            dummy_inputs = tf.ones((1, image_size, image_size, 1))\n",
        "            dummy_outputs = self.call(dummy_inputs)\n",
        "            sequence_length = tf.shape(dummy_outputs)[1]\n",
        "            projection_dim = tf.shape(dummy_outputs)[-1]\n",
        "\n",
        "            embed_layer = layers.Embedding(\n",
        "                input_dim=sequence_length, output_dim=projection_dim\n",
        "            )\n",
        "            return embed_layer, sequence_length\n",
        "        else:\n",
        "            return None"
      ],
      "metadata": {
        "id": "fD-TswMTawdY"
      },
      "execution_count": 29,
      "outputs": []
    },
    {
      "cell_type": "markdown",
      "source": [
        "Stochastic depth for regularization(randomly drops a set of layers)"
      ],
      "metadata": {
        "id": "yspK93Ova7A7"
      }
    },
    {
      "cell_type": "code",
      "source": [
        "# Referred from: github.com:rwightman/pytorch-image-models.\n",
        "class StochasticDepth(layers.Layer):\n",
        "    def __init__(self, drop_prop, **kwargs):\n",
        "        super(StochasticDepth, self).__init__(**kwargs)\n",
        "        self.drop_prob = drop_prop\n",
        "\n",
        "    def call(self, x, training=None):\n",
        "        if training:\n",
        "            keep_prob = 1 - self.drop_prob\n",
        "            shape = (tf.shape(x)[0],) + (1,) * (len(tf.shape(x)) - 1)\n",
        "            random_tensor = keep_prob + tf.random.uniform(shape, 0, 1)\n",
        "            random_tensor = tf.floor(random_tensor)\n",
        "            return (x / keep_prob) * random_tensor\n",
        "        return x\n"
      ],
      "metadata": {
        "id": "250yfUL9bAFv"
      },
      "execution_count": 30,
      "outputs": []
    },
    {
      "cell_type": "markdown",
      "source": [
        "MLP for the Transformers encoder"
      ],
      "metadata": {
        "id": "yvpTWnYrbEGo"
      }
    },
    {
      "cell_type": "code",
      "source": [
        "def mlp(x, hidden_units, dropout_rate):\n",
        "    for units in hidden_units:\n",
        "        x = layers.Dense(units, activation=tf.nn.gelu)(x)\n",
        "        x = layers.Dropout(dropout_rate)(x)\n",
        "    return x\n"
      ],
      "metadata": {
        "id": "0GCp4dfSbGGi"
      },
      "execution_count": 31,
      "outputs": []
    },
    {
      "cell_type": "code",
      "source": [
        "# Note the rescaling layer. These layers have pre-defined inference behavior.\n",
        "data_augmentation = keras.Sequential(\n",
        "    [\n",
        "        layers.Rescaling(scale=1.0 / 255),\n",
        "        layers.RandomCrop(image_size, image_size),\n",
        "        layers.RandomFlip(\"horizontal\"),\n",
        "     layers.RandomRotation(0.2)\n",
        "    ],\n",
        "    name=\"data_augmentation\",\n",
        ")"
      ],
      "metadata": {
        "id": "O3vqBZT8d3Y5"
      },
      "execution_count": 32,
      "outputs": []
    },
    {
      "cell_type": "code",
      "source": [
        "\n",
        "def create_cct_model(\n",
        "    image_size=image_size,\n",
        "    input_shape=input_shape,\n",
        "    num_heads=num_heads,\n",
        "    projection_dim=projection_dim,\n",
        "    transformer_units=transformer_units,\n",
        "):\n",
        "\n",
        "    inputs = layers.Input(input_shape)\n",
        "\n",
        "    # Augment data.\n",
        "    augmented = data_augmentation(inputs)\n",
        "\n",
        "    # Encode patches.\n",
        "    cct_tokenizer = CCTTokenizer()\n",
        "    encoded_patches = cct_tokenizer(augmented)\n",
        "\n",
        "    # Apply positional embedding.\n",
        "    if positional_emb:\n",
        "        pos_embed, seq_length = cct_tokenizer.positional_embedding(image_size)\n",
        "        positions = tf.range(start=0, limit=seq_length, delta=1)\n",
        "        position_embeddings = pos_embed(positions)\n",
        "        encoded_patches += position_embeddings\n",
        "\n",
        "    # Calculate Stochastic Depth probabilities.\n",
        "    dpr = [x for x in np.linspace(0, stochastic_depth_rate, transformer_layers)]\n",
        "\n",
        "    # Create multiple layers of the Transformer block.\n",
        "    for i in range(transformer_layers):\n",
        "        # Layer normalization 1.\n",
        "        x1 = layers.LayerNormalization(epsilon=1e-5)(encoded_patches)\n",
        "\n",
        "        # Create a multi-head attention layer.\n",
        "        attention_output = layers.MultiHeadAttention(\n",
        "            num_heads=num_heads, key_dim=projection_dim, dropout=0.1\n",
        "        )(x1, x1)\n",
        "\n",
        "        # Skip connection 1.\n",
        "        attention_output = StochasticDepth(dpr[i])(attention_output)\n",
        "        x2 = layers.Add()([attention_output, encoded_patches])\n",
        "\n",
        "        # Layer normalization 2.\n",
        "        x3 = layers.LayerNormalization(epsilon=1e-5)(x2)\n",
        "\n",
        "        # MLP.\n",
        "        x3 = mlp(x3, hidden_units=transformer_units, dropout_rate=0.1)\n",
        "\n",
        "        # Skip connection 2.\n",
        "        x3 = StochasticDepth(dpr[i])(x3)\n",
        "        encoded_patches = layers.Add()([x3, x2])\n",
        "\n",
        "    # Apply sequence pooling.\n",
        "    representation = layers.LayerNormalization(epsilon=1e-5)(encoded_patches)\n",
        "    attention_weights = tf.nn.softmax(layers.Dense(1)(representation), axis=1)\n",
        "    weighted_representation = tf.matmul(\n",
        "        attention_weights, representation, transpose_a=True\n",
        "    )\n",
        "    weighted_representation = tf.squeeze(weighted_representation, -2)\n",
        "\n",
        "    # Classify outputs.\n",
        "    logits = layers.Dense(num_classes)(weighted_representation)\n",
        "    # Create the Keras model.\n",
        "    model = keras.Model(inputs=inputs, outputs=logits)\n",
        "    return model"
      ],
      "metadata": {
        "id": "fVzjvJi5bP9B"
      },
      "execution_count": 33,
      "outputs": []
    },
    {
      "cell_type": "code",
      "source": [
        "X_test.shape"
      ],
      "metadata": {
        "colab": {
          "base_uri": "https://localhost:8080/"
        },
        "id": "CMUvtmaJNPTj",
        "outputId": "52361c1e-35f3-441b-e2c1-bd334f3ef27c"
      },
      "execution_count": 34,
      "outputs": [
        {
          "output_type": "execute_result",
          "data": {
            "text/plain": [
              "(3589, 48, 48, 1)"
            ]
          },
          "metadata": {},
          "execution_count": 34
        }
      ]
    },
    {
      "cell_type": "markdown",
      "source": [
        "Model training and evaluation"
      ],
      "metadata": {
        "id": "0My8O6H9baZp"
      }
    },
    {
      "cell_type": "code",
      "source": [
        "\n",
        "def run_experiment(model):\n",
        "    optimizer = tfa.optimizers.AdamW(learning_rate=0.0001, weight_decay=0.0001)\n",
        "\n",
        "    model.compile(\n",
        "        optimizer=optimizer,\n",
        "        loss=keras.losses.CategoricalCrossentropy(from_logits= True, label_smoothing=0.1),\n",
        "        metrics=[\n",
        "            keras.metrics.CategoricalAccuracy(name=\"accuracy\"),\n",
        "            keras.metrics.TopKCategoricalAccuracy(5, name=\"top-5-accuracy\"),\n",
        "            ],\n",
        "    )\n",
        "    # earlystop = tf.keras.callbacks.EarlyStopping(patience=10, min_delta=1e-4, restore_best_weights=True)\n",
        "    # lr = tf.keras.callbacks.ReduceLROnPlateau(monitor='val_loss', patience=3, verbose=1, factor=0.5, min_lr=1e-7)\n",
        "    checkpoint_filepath = \"model.h5\"\n",
        "    checkpoint_callback = keras.callbacks.ModelCheckpoint(\n",
        "        checkpoint_filepath,\n",
        "        monitor=\"val_accuracy\",\n",
        "        save_best_only=True,\n",
        "        save_weights_only=True,\n",
        "    )\n",
        "    model.summary()\n",
        "    history = model.fit(\n",
        "        x=X_train,\n",
        "        y=y_train,\n",
        "        batch_size=batch_size,\n",
        "        epochs=num_epochs,\n",
        "        validation_split=0.2,\n",
        "        callbacks=[checkpoint_callback],\n",
        "    )\n",
        "    # history = model.fit_generator(data_generator.flow(X_train,y_train,batch_size = 64),validation_data = (X_val,y_val),steps_per_epoch=len(X_train)//64,epochs=num_epochs,\n",
        "    #                               callbacks=[checkpoint_callback])\n",
        "\n",
        "    model.load_weights(checkpoint_filepath)\n",
        "    _, accuracy, top_5_accuracy = model.evaluate(X_test, y_test)\n",
        "    print(f\"Test accuracy: {round(accuracy * 100, 2)}%\")\n",
        "    print(f\"Test top 5 accuracy: {round(top_5_accuracy * 100, 2)}%\")\n",
        "\n",
        "    return history\n",
        "\n",
        "\n"
      ],
      "metadata": {
        "id": "NE5dJ89BbRjI"
      },
      "execution_count": 35,
      "outputs": []
    },
    {
      "cell_type": "markdown",
      "source": [
        "The code copied from Keras website ends here-----------"
      ],
      "metadata": {
        "id": "0QIk7fYZHPEy"
      }
    },
    {
      "cell_type": "code",
      "source": [
        "with tf.device(\"/gpu:0\"):\n",
        "  cct_model = create_cct_model()\n",
        "  hist = run_experiment(cct_model)"
      ],
      "metadata": {
        "colab": {
          "base_uri": "https://localhost:8080/"
        },
        "id": "M8Mty6_Suc0X",
        "outputId": "4630fef8-96d1-4b49-c525-43c6d51b35da"
      },
      "execution_count": 36,
      "outputs": [
        {
          "output_type": "stream",
          "name": "stdout",
          "text": [
            "Model: \"model\"\n",
            "__________________________________________________________________________________________________\n",
            " Layer (type)                   Output Shape         Param #     Connected to                     \n",
            "==================================================================================================\n",
            " input_1 (InputLayer)           [(None, 48, 48, 1)]  0           []                               \n",
            "                                                                                                  \n",
            " data_augmentation (Sequential)  (None, 48, 48, 1)   0           ['input_1[0][0]']                \n",
            "                                                                                                  \n",
            " cct_tokenizer (CCTTokenizer)   (None, 144, 128)     74304       ['data_augmentation[0][0]']      \n",
            "                                                                                                  \n",
            " tf.__operators__.add (TFOpLamb  (None, 144, 128)    0           ['cct_tokenizer[0][0]']          \n",
            " da)                                                                                              \n",
            "                                                                                                  \n",
            " layer_normalization (LayerNorm  (None, 144, 128)    256         ['tf.__operators__.add[0][0]']   \n",
            " alization)                                                                                       \n",
            "                                                                                                  \n",
            " multi_head_attention (MultiHea  (None, 144, 128)    131968      ['layer_normalization[0][0]',    \n",
            " dAttention)                                                      'layer_normalization[0][0]']    \n",
            "                                                                                                  \n",
            " stochastic_depth (StochasticDe  (None, 144, 128)    0           ['multi_head_attention[0][0]']   \n",
            " pth)                                                                                             \n",
            "                                                                                                  \n",
            " add (Add)                      (None, 144, 128)     0           ['stochastic_depth[0][0]',       \n",
            "                                                                  'tf.__operators__.add[0][0]']   \n",
            "                                                                                                  \n",
            " layer_normalization_1 (LayerNo  (None, 144, 128)    256         ['add[0][0]']                    \n",
            " rmalization)                                                                                     \n",
            "                                                                                                  \n",
            " dense (Dense)                  (None, 144, 128)     16512       ['layer_normalization_1[0][0]']  \n",
            "                                                                                                  \n",
            " dropout (Dropout)              (None, 144, 128)     0           ['dense[0][0]']                  \n",
            "                                                                                                  \n",
            " dense_1 (Dense)                (None, 144, 128)     16512       ['dropout[0][0]']                \n",
            "                                                                                                  \n",
            " dropout_1 (Dropout)            (None, 144, 128)     0           ['dense_1[0][0]']                \n",
            "                                                                                                  \n",
            " stochastic_depth_1 (Stochastic  (None, 144, 128)    0           ['dropout_1[0][0]']              \n",
            " Depth)                                                                                           \n",
            "                                                                                                  \n",
            " add_1 (Add)                    (None, 144, 128)     0           ['stochastic_depth_1[0][0]',     \n",
            "                                                                  'add[0][0]']                    \n",
            "                                                                                                  \n",
            " layer_normalization_2 (LayerNo  (None, 144, 128)    256         ['add_1[0][0]']                  \n",
            " rmalization)                                                                                     \n",
            "                                                                                                  \n",
            " multi_head_attention_1 (MultiH  (None, 144, 128)    131968      ['layer_normalization_2[0][0]',  \n",
            " eadAttention)                                                    'layer_normalization_2[0][0]']  \n",
            "                                                                                                  \n",
            " stochastic_depth_2 (Stochastic  (None, 144, 128)    0           ['multi_head_attention_1[0][0]'] \n",
            " Depth)                                                                                           \n",
            "                                                                                                  \n",
            " add_2 (Add)                    (None, 144, 128)     0           ['stochastic_depth_2[0][0]',     \n",
            "                                                                  'add_1[0][0]']                  \n",
            "                                                                                                  \n",
            " layer_normalization_3 (LayerNo  (None, 144, 128)    256         ['add_2[0][0]']                  \n",
            " rmalization)                                                                                     \n",
            "                                                                                                  \n",
            " dense_2 (Dense)                (None, 144, 128)     16512       ['layer_normalization_3[0][0]']  \n",
            "                                                                                                  \n",
            " dropout_2 (Dropout)            (None, 144, 128)     0           ['dense_2[0][0]']                \n",
            "                                                                                                  \n",
            " dense_3 (Dense)                (None, 144, 128)     16512       ['dropout_2[0][0]']              \n",
            "                                                                                                  \n",
            " dropout_3 (Dropout)            (None, 144, 128)     0           ['dense_3[0][0]']                \n",
            "                                                                                                  \n",
            " stochastic_depth_3 (Stochastic  (None, 144, 128)    0           ['dropout_3[0][0]']              \n",
            " Depth)                                                                                           \n",
            "                                                                                                  \n",
            " add_3 (Add)                    (None, 144, 128)     0           ['stochastic_depth_3[0][0]',     \n",
            "                                                                  'add_2[0][0]']                  \n",
            "                                                                                                  \n",
            " layer_normalization_4 (LayerNo  (None, 144, 128)    256         ['add_3[0][0]']                  \n",
            " rmalization)                                                                                     \n",
            "                                                                                                  \n",
            " dense_4 (Dense)                (None, 144, 1)       129         ['layer_normalization_4[0][0]']  \n",
            "                                                                                                  \n",
            " tf.nn.softmax (TFOpLambda)     (None, 144, 1)       0           ['dense_4[0][0]']                \n",
            "                                                                                                  \n",
            " tf.linalg.matmul (TFOpLambda)  (None, 1, 128)       0           ['tf.nn.softmax[0][0]',          \n",
            "                                                                  'layer_normalization_4[0][0]']  \n",
            "                                                                                                  \n",
            " tf.compat.v1.squeeze (TFOpLamb  (None, 128)         0           ['tf.linalg.matmul[0][0]']       \n",
            " da)                                                                                              \n",
            "                                                                                                  \n",
            " dense_5 (Dense)                (None, 7)            903         ['tf.compat.v1.squeeze[0][0]']   \n",
            "                                                                                                  \n",
            "==================================================================================================\n",
            "Total params: 406,600\n",
            "Trainable params: 406,600\n",
            "Non-trainable params: 0\n",
            "__________________________________________________________________________________________________\n",
            "Epoch 1/50\n",
            "359/359 [==============================] - 19s 38ms/step - loss: 1.8432 - accuracy: 0.2371 - top-5-accuracy: 0.8836 - val_loss: 1.8416 - val_accuracy: 0.1980 - val_top-5-accuracy: 0.8858\n",
            "Epoch 2/50\n",
            "359/359 [==============================] - 13s 35ms/step - loss: 1.8267 - accuracy: 0.2516 - top-5-accuracy: 0.8911 - val_loss: 1.8315 - val_accuracy: 0.2651 - val_top-5-accuracy: 0.8763\n",
            "Epoch 3/50\n",
            "359/359 [==============================] - 13s 35ms/step - loss: 1.8256 - accuracy: 0.2528 - top-5-accuracy: 0.8933 - val_loss: 1.8197 - val_accuracy: 0.2612 - val_top-5-accuracy: 0.8966\n",
            "Epoch 4/50\n",
            "359/359 [==============================] - 14s 38ms/step - loss: 1.8230 - accuracy: 0.2563 - top-5-accuracy: 0.8958 - val_loss: 1.8279 - val_accuracy: 0.2492 - val_top-5-accuracy: 0.8882\n",
            "Epoch 5/50\n",
            "359/359 [==============================] - 13s 35ms/step - loss: 1.8219 - accuracy: 0.2583 - top-5-accuracy: 0.8942 - val_loss: 1.8140 - val_accuracy: 0.2630 - val_top-5-accuracy: 0.8953\n",
            "Epoch 6/50\n",
            "359/359 [==============================] - 13s 36ms/step - loss: 1.8184 - accuracy: 0.2595 - top-5-accuracy: 0.8954 - val_loss: 1.8138 - val_accuracy: 0.2705 - val_top-5-accuracy: 0.8983\n",
            "Epoch 7/50\n",
            "359/359 [==============================] - 13s 35ms/step - loss: 1.8134 - accuracy: 0.2632 - top-5-accuracy: 0.8973 - val_loss: 1.7984 - val_accuracy: 0.2776 - val_top-5-accuracy: 0.9026\n",
            "Epoch 8/50\n",
            "359/359 [==============================] - 13s 36ms/step - loss: 1.8048 - accuracy: 0.2766 - top-5-accuracy: 0.9021 - val_loss: 1.8018 - val_accuracy: 0.2839 - val_top-5-accuracy: 0.9091\n",
            "Epoch 9/50\n",
            "359/359 [==============================] - 13s 36ms/step - loss: 1.7938 - accuracy: 0.2823 - top-5-accuracy: 0.9065 - val_loss: 1.7777 - val_accuracy: 0.2933 - val_top-5-accuracy: 0.9114\n",
            "Epoch 10/50\n",
            "359/359 [==============================] - 13s 36ms/step - loss: 1.7903 - accuracy: 0.2855 - top-5-accuracy: 0.9072 - val_loss: 1.7840 - val_accuracy: 0.2874 - val_top-5-accuracy: 0.9035\n",
            "Epoch 11/50\n",
            "359/359 [==============================] - 13s 36ms/step - loss: 1.7811 - accuracy: 0.2942 - top-5-accuracy: 0.9135 - val_loss: 1.7543 - val_accuracy: 0.3084 - val_top-5-accuracy: 0.9248\n",
            "Epoch 12/50\n",
            "359/359 [==============================] - 13s 35ms/step - loss: 1.7744 - accuracy: 0.2950 - top-5-accuracy: 0.9149 - val_loss: 1.7794 - val_accuracy: 0.2948 - val_top-5-accuracy: 0.9089\n",
            "Epoch 13/50\n",
            "359/359 [==============================] - 13s 35ms/step - loss: 1.7636 - accuracy: 0.3063 - top-5-accuracy: 0.9194 - val_loss: 1.7655 - val_accuracy: 0.2994 - val_top-5-accuracy: 0.9176\n",
            "Epoch 14/50\n",
            "359/359 [==============================] - 13s 36ms/step - loss: 1.7545 - accuracy: 0.3086 - top-5-accuracy: 0.9192 - val_loss: 1.7515 - val_accuracy: 0.3067 - val_top-5-accuracy: 0.9087\n",
            "Epoch 15/50\n",
            "359/359 [==============================] - 13s 36ms/step - loss: 1.7476 - accuracy: 0.3131 - top-5-accuracy: 0.9225 - val_loss: 1.7657 - val_accuracy: 0.3039 - val_top-5-accuracy: 0.9051\n",
            "Epoch 16/50\n",
            "359/359 [==============================] - 13s 35ms/step - loss: 1.7331 - accuracy: 0.3261 - top-5-accuracy: 0.9272 - val_loss: 1.7240 - val_accuracy: 0.3434 - val_top-5-accuracy: 0.9246\n",
            "Epoch 17/50\n",
            "359/359 [==============================] - 13s 36ms/step - loss: 1.7233 - accuracy: 0.3348 - top-5-accuracy: 0.9281 - val_loss: 1.6876 - val_accuracy: 0.3473 - val_top-5-accuracy: 0.9383\n",
            "Epoch 18/50\n",
            "359/359 [==============================] - 13s 36ms/step - loss: 1.7001 - accuracy: 0.3496 - top-5-accuracy: 0.9338 - val_loss: 1.6761 - val_accuracy: 0.3643 - val_top-5-accuracy: 0.9385\n",
            "Epoch 19/50\n",
            "359/359 [==============================] - 13s 36ms/step - loss: 1.6881 - accuracy: 0.3545 - top-5-accuracy: 0.9340 - val_loss: 1.6822 - val_accuracy: 0.3600 - val_top-5-accuracy: 0.9385\n",
            "Epoch 20/50\n",
            "359/359 [==============================] - 13s 36ms/step - loss: 1.6675 - accuracy: 0.3693 - top-5-accuracy: 0.9357 - val_loss: 1.6378 - val_accuracy: 0.3871 - val_top-5-accuracy: 0.9309\n",
            "Epoch 21/50\n",
            "359/359 [==============================] - 13s 35ms/step - loss: 1.6509 - accuracy: 0.3782 - top-5-accuracy: 0.9383 - val_loss: 1.6111 - val_accuracy: 0.4020 - val_top-5-accuracy: 0.9483\n",
            "Epoch 22/50\n",
            "359/359 [==============================] - 13s 35ms/step - loss: 1.6384 - accuracy: 0.3909 - top-5-accuracy: 0.9416 - val_loss: 1.5871 - val_accuracy: 0.4230 - val_top-5-accuracy: 0.9476\n",
            "Epoch 23/50\n",
            "359/359 [==============================] - 13s 36ms/step - loss: 1.6266 - accuracy: 0.3957 - top-5-accuracy: 0.9450 - val_loss: 1.5766 - val_accuracy: 0.4276 - val_top-5-accuracy: 0.9505\n",
            "Epoch 24/50\n",
            "359/359 [==============================] - 13s 35ms/step - loss: 1.6113 - accuracy: 0.4053 - top-5-accuracy: 0.9465 - val_loss: 1.5994 - val_accuracy: 0.4108 - val_top-5-accuracy: 0.9474\n",
            "Epoch 25/50\n",
            "359/359 [==============================] - 13s 35ms/step - loss: 1.6096 - accuracy: 0.4049 - top-5-accuracy: 0.9466 - val_loss: 1.6332 - val_accuracy: 0.3932 - val_top-5-accuracy: 0.9392\n",
            "Epoch 26/50\n",
            "359/359 [==============================] - 13s 36ms/step - loss: 1.5983 - accuracy: 0.4092 - top-5-accuracy: 0.9476 - val_loss: 1.5627 - val_accuracy: 0.4324 - val_top-5-accuracy: 0.9547\n",
            "Epoch 27/50\n",
            "359/359 [==============================] - 13s 36ms/step - loss: 1.5974 - accuracy: 0.4121 - top-5-accuracy: 0.9515 - val_loss: 1.5552 - val_accuracy: 0.4350 - val_top-5-accuracy: 0.9528\n",
            "Epoch 28/50\n",
            "359/359 [==============================] - 13s 35ms/step - loss: 1.5854 - accuracy: 0.4167 - top-5-accuracy: 0.9507 - val_loss: 1.5444 - val_accuracy: 0.4485 - val_top-5-accuracy: 0.9575\n",
            "Epoch 29/50\n",
            "359/359 [==============================] - 13s 36ms/step - loss: 1.5857 - accuracy: 0.4201 - top-5-accuracy: 0.9509 - val_loss: 1.5403 - val_accuracy: 0.4413 - val_top-5-accuracy: 0.9568\n",
            "Epoch 30/50\n",
            "359/359 [==============================] - 13s 35ms/step - loss: 1.5831 - accuracy: 0.4220 - top-5-accuracy: 0.9518 - val_loss: 1.5582 - val_accuracy: 0.4336 - val_top-5-accuracy: 0.9516\n",
            "Epoch 31/50\n",
            "359/359 [==============================] - 13s 36ms/step - loss: 1.5772 - accuracy: 0.4233 - top-5-accuracy: 0.9509 - val_loss: 1.5377 - val_accuracy: 0.4448 - val_top-5-accuracy: 0.9558\n",
            "Epoch 32/50\n",
            "359/359 [==============================] - 13s 35ms/step - loss: 1.5760 - accuracy: 0.4237 - top-5-accuracy: 0.9515 - val_loss: 1.5481 - val_accuracy: 0.4373 - val_top-5-accuracy: 0.9566\n",
            "Epoch 33/50\n",
            "359/359 [==============================] - 13s 36ms/step - loss: 1.5794 - accuracy: 0.4226 - top-5-accuracy: 0.9534 - val_loss: 1.5145 - val_accuracy: 0.4592 - val_top-5-accuracy: 0.9592\n",
            "Epoch 34/50\n",
            "359/359 [==============================] - 13s 35ms/step - loss: 1.5718 - accuracy: 0.4301 - top-5-accuracy: 0.9519 - val_loss: 1.5241 - val_accuracy: 0.4582 - val_top-5-accuracy: 0.9572\n",
            "Epoch 35/50\n",
            "359/359 [==============================] - 13s 36ms/step - loss: 1.5701 - accuracy: 0.4307 - top-5-accuracy: 0.9519 - val_loss: 1.5283 - val_accuracy: 0.4483 - val_top-5-accuracy: 0.9559\n",
            "Epoch 36/50\n",
            "359/359 [==============================] - 13s 36ms/step - loss: 1.5633 - accuracy: 0.4317 - top-5-accuracy: 0.9549 - val_loss: 1.5305 - val_accuracy: 0.4598 - val_top-5-accuracy: 0.9573\n",
            "Epoch 37/50\n",
            "359/359 [==============================] - 13s 36ms/step - loss: 1.5624 - accuracy: 0.4330 - top-5-accuracy: 0.9560 - val_loss: 1.5289 - val_accuracy: 0.4460 - val_top-5-accuracy: 0.9547\n",
            "Epoch 38/50\n",
            "359/359 [==============================] - 13s 36ms/step - loss: 1.5630 - accuracy: 0.4328 - top-5-accuracy: 0.9550 - val_loss: 1.5120 - val_accuracy: 0.4624 - val_top-5-accuracy: 0.9592\n",
            "Epoch 39/50\n",
            "359/359 [==============================] - 13s 36ms/step - loss: 1.5611 - accuracy: 0.4350 - top-5-accuracy: 0.9552 - val_loss: 1.5032 - val_accuracy: 0.4720 - val_top-5-accuracy: 0.9605\n",
            "Epoch 40/50\n",
            "359/359 [==============================] - 13s 35ms/step - loss: 1.5630 - accuracy: 0.4308 - top-5-accuracy: 0.9517 - val_loss: 1.5351 - val_accuracy: 0.4535 - val_top-5-accuracy: 0.9556\n",
            "Epoch 41/50\n",
            "359/359 [==============================] - 13s 36ms/step - loss: 1.5546 - accuracy: 0.4391 - top-5-accuracy: 0.9555 - val_loss: 1.5028 - val_accuracy: 0.4695 - val_top-5-accuracy: 0.9596\n",
            "Epoch 42/50\n",
            "359/359 [==============================] - 13s 36ms/step - loss: 1.5597 - accuracy: 0.4345 - top-5-accuracy: 0.9541 - val_loss: 1.5094 - val_accuracy: 0.4641 - val_top-5-accuracy: 0.9561\n",
            "Epoch 43/50\n",
            "359/359 [==============================] - 13s 36ms/step - loss: 1.5613 - accuracy: 0.4341 - top-5-accuracy: 0.9532 - val_loss: 1.5162 - val_accuracy: 0.4613 - val_top-5-accuracy: 0.9542\n",
            "Epoch 44/50\n",
            "359/359 [==============================] - 13s 36ms/step - loss: 1.5583 - accuracy: 0.4372 - top-5-accuracy: 0.9535 - val_loss: 1.5394 - val_accuracy: 0.4347 - val_top-5-accuracy: 0.9575\n",
            "Epoch 45/50\n",
            "359/359 [==============================] - 13s 36ms/step - loss: 1.5523 - accuracy: 0.4398 - top-5-accuracy: 0.9562 - val_loss: 1.5204 - val_accuracy: 0.4561 - val_top-5-accuracy: 0.9563\n",
            "Epoch 46/50\n",
            "359/359 [==============================] - 13s 36ms/step - loss: 1.5599 - accuracy: 0.4363 - top-5-accuracy: 0.9542 - val_loss: 1.5041 - val_accuracy: 0.4693 - val_top-5-accuracy: 0.9601\n",
            "Epoch 47/50\n",
            "359/359 [==============================] - 13s 35ms/step - loss: 1.5539 - accuracy: 0.4343 - top-5-accuracy: 0.9558 - val_loss: 1.5216 - val_accuracy: 0.4552 - val_top-5-accuracy: 0.9568\n",
            "Epoch 48/50\n",
            "359/359 [==============================] - 13s 36ms/step - loss: 1.5518 - accuracy: 0.4365 - top-5-accuracy: 0.9571 - val_loss: 1.5074 - val_accuracy: 0.4714 - val_top-5-accuracy: 0.9587\n",
            "Epoch 49/50\n",
            "359/359 [==============================] - 13s 36ms/step - loss: 1.5540 - accuracy: 0.4366 - top-5-accuracy: 0.9554 - val_loss: 1.5126 - val_accuracy: 0.4631 - val_top-5-accuracy: 0.9596\n",
            "Epoch 50/50\n",
            "359/359 [==============================] - 13s 36ms/step - loss: 1.5532 - accuracy: 0.4355 - top-5-accuracy: 0.9549 - val_loss: 1.5415 - val_accuracy: 0.4491 - val_top-5-accuracy: 0.9505\n",
            "113/113 [==============================] - 1s 9ms/step - loss: 1.5125 - accuracy: 0.4681 - top-5-accuracy: 0.9574\n",
            "Test accuracy: 46.81%\n",
            "Test top 5 accuracy: 95.74%\n"
          ]
        }
      ]
    },
    {
      "cell_type": "markdown",
      "source": [
        ""
      ],
      "metadata": {
        "id": "7OX-vtCKalDy"
      }
    },
    {
      "cell_type": "code",
      "source": [
        "from sklearn.metrics import confusion_matrix, classification_report, accuracy_score, f1_score"
      ],
      "metadata": {
        "id": "qpLS4N0FkgHb"
      },
      "execution_count": 37,
      "outputs": []
    },
    {
      "cell_type": "markdown",
      "source": [
        "plot for accuracy and loss"
      ],
      "metadata": {
        "id": "gxSe25QMGsej"
      }
    },
    {
      "cell_type": "code",
      "source": [
        "\n",
        "import matplotlib.pyplot as plt\n",
        "plt.plot(hist.history['accuracy'])\n",
        "plt.plot(hist.history['val_accuracy'])\n",
        "plt.title('model accuracy-CCT(on FER2013)')\n",
        "plt.xlabel('No. of epochs')\n",
        "plt.ylabel('Accuracy')\n",
        "plt.legend(['training', 'validation'], loc='upper left')\n",
        "plt.show()\n",
        "\n",
        "plt.plot(hist.history['loss'])\n",
        "plt.plot(hist.history['val_loss'])\n",
        "plt.title('model loss-CCT(on FER2013)')\n",
        "plt.xlabel('No. of epochs')\n",
        "plt.ylabel('Loss')\n",
        "\n",
        "plt.legend(['training', 'validation'], loc='upper left')\n",
        "plt.show()"
      ],
      "metadata": {
        "id": "tkT1dHd_xeMM",
        "colab": {
          "base_uri": "https://localhost:8080/",
          "height": 573
        },
        "outputId": "96567e9a-60e3-4b52-d334-a0553a3eab40"
      },
      "execution_count": 38,
      "outputs": [
        {
          "output_type": "display_data",
          "data": {
            "text/plain": [
              "<Figure size 432x288 with 1 Axes>"
            ],
            "image/png": "[encoded data removed]"
          },
          "metadata": {
            "needs_background": "light"
          }
        },
        {
          "output_type": "display_data",
          "data": {
            "text/plain": [
              "<Figure size 432x288 with 1 Axes>"
            ],
            "image/png": "[encoded data removed]"
          },
          "metadata": {
            "needs_background": "light"
          }
        }
      ]
    }
  ]
}