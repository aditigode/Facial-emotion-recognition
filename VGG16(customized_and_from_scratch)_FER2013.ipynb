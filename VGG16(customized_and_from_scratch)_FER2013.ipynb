{
  "nbformat": 4,
  "nbformat_minor": 0,
  "metadata": {
    "colab": {
      "name": "VGG16(customized and from scratch)_FER2013.ipynb",
      "provenance": [],
      "collapsed_sections": []
    },
    "kernelspec": {
      "name": "python3",
      "display_name": "Python 3"
    },
    "language_info": {
      "name": "python"
    },
    "accelerator": "GPU"
  },
  "cells": [
    {
      "cell_type": "code",
      "execution_count": null,
      "metadata": {
        "colab": {
          "base_uri": "https://localhost:8080/"
        },
        "id": "hiWk66mG3goe",
        "outputId": "3b94f522-f10c-41d2-d86f-f4193ad9053c"
      },
      "outputs": [
        {
          "output_type": "stream",
          "name": "stdout",
          "text": [
            "Drive already mounted at /content/drive; to attempt to forcibly remount, call drive.mount(\"/content/drive\", force_remount=True).\n"
          ]
        }
      ],
      "source": [
        "from google.colab import drive\n",
        "drive.mount('/content/drive')"
      ]
    },
    {
      "cell_type": "markdown",
      "source": [
        "Import FER2013 dataset"
      ],
      "metadata": {
        "id": "I13kOrBIaKM-"
      }
    },
    {
      "cell_type": "code",
      "source": [
        "import pandas as pd\n",
        "\n",
        "df =pd.read_csv(\"drive/My Drive/fer2013/icml_face_data.csv\")\n",
        "df.head()"
      ],
      "metadata": {
        "colab": {
          "base_uri": "https://localhost:8080/",
          "height": 206
        },
        "id": "uHabzDjA473a",
        "outputId": "ef67d5bd-2d58-4f60-d9ab-a4028b6d2314"
      },
      "execution_count": null,
      "outputs": [
        {
          "output_type": "execute_result",
          "data": {
            "text/plain": [
              "   emotion     Usage                                             pixels\n",
              "0        0  Training  70 80 82 72 58 58 60 63 54 58 60 48 89 115 121...\n",
              "1        0  Training  151 150 147 155 148 133 111 140 170 174 182 15...\n",
              "2        2  Training  231 212 156 164 174 138 161 173 182 200 106 38...\n",
              "3        4  Training  24 32 36 30 32 23 19 20 30 41 21 22 32 34 21 1...\n",
              "4        6  Training  4 0 0 0 0 0 0 0 0 0 0 0 3 15 23 28 48 50 58 84..."
            ],
            "text/html": [
              "\n",
              "  <div id=\"df-c71281a6-33cd-4d3b-88d3-e497468f601e\">\n",
              "    <div class=\"colab-df-container\">\n",
              "      <div>\n",
              "<style scoped>\n",
              "    .dataframe tbody tr th:only-of-type {\n",
              "        vertical-align: middle;\n",
              "    }\n",
              "\n",
              "    .dataframe tbody tr th {\n",
              "        vertical-align: top;\n",
              "    }\n",
              "\n",
              "    .dataframe thead th {\n",
              "        text-align: right;\n",
              "    }\n",
              "</style>\n",
              "<table border=\"1\" class=\"dataframe\">\n",
              "  <thead>\n",
              "    <tr style=\"text-align: right;\">\n",
              "      <th></th>\n",
              "      <th>emotion</th>\n",
              "      <th>Usage</th>\n",
              "      <th>pixels</th>\n",
              "    </tr>\n",
              "  </thead>\n",
              "  <tbody>\n",
              "    <tr>\n",
              "      <th>0</th>\n",
              "      <td>0</td>\n",
              "      <td>Training</td>\n",
              "      <td>70 80 82 72 58 58 60 63 54 58 60 48 89 115 121...</td>\n",
              "    </tr>\n",
              "    <tr>\n",
              "      <th>1</th>\n",
              "      <td>0</td>\n",
              "      <td>Training</td>\n",
              "      <td>151 150 147 155 148 133 111 140 170 174 182 15...</td>\n",
              "    </tr>\n",
              "    <tr>\n",
              "      <th>2</th>\n",
              "      <td>2</td>\n",
              "      <td>Training</td>\n",
              "      <td>231 212 156 164 174 138 161 173 182 200 106 38...</td>\n",
              "    </tr>\n",
              "    <tr>\n",
              "      <th>3</th>\n",
              "      <td>4</td>\n",
              "      <td>Training</td>\n",
              "      <td>24 32 36 30 32 23 19 20 30 41 21 22 32 34 21 1...</td>\n",
              "    </tr>\n",
              "    <tr>\n",
              "      <th>4</th>\n",
              "      <td>6</td>\n",
              "      <td>Training</td>\n",
              "      <td>4 0 0 0 0 0 0 0 0 0 0 0 3 15 23 28 48 50 58 84...</td>\n",
              "    </tr>\n",
              "  </tbody>\n",
              "</table>\n",
              "</div>\n",
              "      <button class=\"colab-df-convert\" onclick=\"convertToInteractive('df-c71281a6-33cd-4d3b-88d3-e497468f601e')\"\n",
              "              title=\"Convert this dataframe to an interactive table.\"\n",
              "              style=\"display:none;\">\n",
              "        \n",
              "  <svg xmlns=\"http://www.w3.org/2000/svg\" height=\"24px\"viewBox=\"0 0 24 24\"\n",
              "       width=\"24px\">\n",
              "    <path d=\"M0 0h24v24H0V0z\" fill=\"none\"/>\n",
              "    <path d=\"M18.56 5.44l.94 2.06.94-2.06 2.06-.94-2.06-.94-.94-2.06-.94 2.06-2.06.94zm-11 1L8.5 8.5l.94-2.06 2.06-.94-2.06-.94L8.5 2.5l-.94 2.06-2.06.94zm10 10l.94 2.06.94-2.06 2.06-.94-2.06-.94-.94-2.06-.94 2.06-2.06.94z\"/><path d=\"M17.41 7.96l-1.37-1.37c-.4-.4-.92-.59-1.43-.59-.52 0-1.04.2-1.43.59L10.3 9.45l-7.72 7.72c-.78.78-.78 2.05 0 2.83L4 21.41c.39.39.9.59 1.41.59.51 0 1.02-.2 1.41-.59l7.78-7.78 2.81-2.81c.8-.78.8-2.07 0-2.86zM5.41 20L4 18.59l7.72-7.72 1.47 1.35L5.41 20z\"/>\n",
              "  </svg>\n",
              "      </button>\n",
              "      \n",
              "  <style>\n",
              "    .colab-df-container {\n",
              "      display:flex;\n",
              "      flex-wrap:wrap;\n",
              "      gap: 12px;\n",
              "    }\n",
              "\n",
              "    .colab-df-convert {\n",
              "      background-color: #E8F0FE;\n",
              "      border: none;\n",
              "      border-radius: 50%;\n",
              "      cursor: pointer;\n",
              "      display: none;\n",
              "      fill: #1967D2;\n",
              "      height: 32px;\n",
              "      padding: 0 0 0 0;\n",
              "      width: 32px;\n",
              "    }\n",
              "\n",
              "    .colab-df-convert:hover {\n",
              "      background-color: #E2EBFA;\n",
              "      box-shadow: 0px 1px 2px rgba(60, 64, 67, 0.3), 0px 1px 3px 1px rgba(60, 64, 67, 0.15);\n",
              "      fill: #174EA6;\n",
              "    }\n",
              "\n",
              "    [theme=dark] .colab-df-convert {\n",
              "      background-color: #3B4455;\n",
              "      fill: #D2E3FC;\n",
              "    }\n",
              "\n",
              "    [theme=dark] .colab-df-convert:hover {\n",
              "      background-color: #434B5C;\n",
              "      box-shadow: 0px 1px 3px 1px rgba(0, 0, 0, 0.15);\n",
              "      filter: drop-shadow(0px 1px 2px rgba(0, 0, 0, 0.3));\n",
              "      fill: #FFFFFF;\n",
              "    }\n",
              "  </style>\n",
              "\n",
              "      <script>\n",
              "        const buttonEl =\n",
              "          document.querySelector('#df-c71281a6-33cd-4d3b-88d3-e497468f601e button.colab-df-convert');\n",
              "        buttonEl.style.display =\n",
              "          google.colab.kernel.accessAllowed ? 'block' : 'none';\n",
              "\n",
              "        async function convertToInteractive(key) {\n",
              "          const element = document.querySelector('#df-c71281a6-33cd-4d3b-88d3-e497468f601e');\n",
              "          const dataTable =\n",
              "            await google.colab.kernel.invokeFunction('convertToInteractive',\n",
              "                                                     [key], {});\n",
              "          if (!dataTable) return;\n",
              "\n",
              "          const docLinkHtml = 'Like what you see? Visit the ' +\n",
              "            '<a target=\"_blank\" href=https://colab.research.google.com/notebooks/data_table.ipynb>data table notebook</a>'\n",
              "            + ' to learn more about interactive tables.';\n",
              "          element.innerHTML = '';\n",
              "          dataTable['output_type'] = 'display_data';\n",
              "          await google.colab.output.renderOutput(dataTable, element);\n",
              "          const docLink = document.createElement('div');\n",
              "          docLink.innerHTML = docLinkHtml;\n",
              "          element.appendChild(docLink);\n",
              "        }\n",
              "      </script>\n",
              "    </div>\n",
              "  </div>\n",
              "  "
            ]
          },
          "metadata": {},
          "execution_count": 2
        }
      ]
    },
    {
      "cell_type": "code",
      "source": [
        "#!pip install tensorflow-gpu==2.8.0"
      ],
      "metadata": {
        "id": "K-jjzfCctngc"
      },
      "execution_count": null,
      "outputs": []
    },
    {
      "cell_type": "code",
      "source": [
        "import numpy as np\n",
        "import tensorflow as tf\n",
        "from tensorflow.keras import layers\n",
        "np.set_printoptions(precision=3, suppress=True)\n",
        "\n",
        "from tensorflow import keras\n",
        "\n",
        "import matplotlib.pyplot as plt\n",
        "import tensorflow_addons as tfa\n",
        "\n",
        "\n"
      ],
      "metadata": {
        "id": "DE1V0zvO5RMr"
      },
      "execution_count": null,
      "outputs": []
    },
    {
      "cell_type": "code",
      "source": [
        "df[' Usage'].value_counts()"
      ],
      "metadata": {
        "colab": {
          "base_uri": "https://localhost:8080/"
        },
        "id": "nC9Dj9ONRKSi",
        "outputId": "e4d147c4-6b5b-4893-fd8e-12771be38255"
      },
      "execution_count": null,
      "outputs": [
        {
          "output_type": "execute_result",
          "data": {
            "text/plain": [
              "Training       28709\n",
              "PublicTest      3589\n",
              "PrivateTest     3589\n",
              "Name:  Usage, dtype: int64"
            ]
          },
          "metadata": {},
          "execution_count": 6
        }
      ]
    },
    {
      "cell_type": "markdown",
      "source": [
        "Training is training set, PrivateTest is validation set, and PublicTest is testing set"
      ],
      "metadata": {
        "id": "CSER0iXpaS-b"
      }
    },
    {
      "cell_type": "code",
      "source": [
        "train_df = df[df[' Usage']=='Training']\n",
        "#train_df.columns['emotion']\n",
        "val_df = df[df[' Usage']=='PrivateTest']\n",
        "test_df = df[df[' Usage']=='PublicTest']"
      ],
      "metadata": {
        "id": "ng1CkMVURRHQ"
      },
      "execution_count": null,
      "outputs": []
    },
    {
      "cell_type": "markdown",
      "source": [
        "Seperate features and labels"
      ],
      "metadata": {
        "id": "MmI5udzFachU"
      }
    },
    {
      "cell_type": "code",
      "source": [
        "#separate the features and labels in training set\n",
        "def split_features_labels(name,mode):\n",
        "  labels = \"fer2013_\" + mode + \"labels\"\n",
        "\n",
        "  labels = name.pop('emotion').to_frame()\n",
        "  name.columns=['Usage','pixels']\n",
        "  print(type(name))\n",
        "  #print(fer2013_train_features['pixels'])\n",
        "  name.pop('Usage')\n",
        "  labels.columns = ['emotion']\n",
        "  name.reset_index(drop=True,inplace = True)\n",
        "  labels.reset_index(drop=True,inplace=True)\n",
        "  return name,labels\n",
        "  #fer2013_train_features"
      ],
      "metadata": {
        "id": "i6Kp_ESV5i_K"
      },
      "execution_count": null,
      "outputs": []
    },
    {
      "cell_type": "markdown",
      "source": [
        "split features and labels for training, validation, and testing set"
      ],
      "metadata": {
        "id": "YYihmzJNaaup"
      }
    },
    {
      "cell_type": "code",
      "source": [
        "fer2013_train_features = train_df.copy()\n",
        "fer2013_val_features = val_df.copy()\n",
        "fer2013_test_features = test_df.copy()\n",
        "fer2013_train_features,fer2013_train_labels = split_features_labels(fer2013_train_features,\"train\")\n",
        "fer2013_val_features,fer2013_val_labels = split_features_labels(fer2013_val_features,\"val\")\n",
        "fer2013_test_features,fer2013_test_labels = split_features_labels(fer2013_test_features,\"test\")"
      ],
      "metadata": {
        "colab": {
          "base_uri": "https://localhost:8080/"
        },
        "id": "OWrkFQbJUrV-",
        "outputId": "80312090-d634-481d-a126-c7b171569a95"
      },
      "execution_count": null,
      "outputs": [
        {
          "output_type": "stream",
          "name": "stdout",
          "text": [
            "<class 'pandas.core.frame.DataFrame'>\n",
            "<class 'pandas.core.frame.DataFrame'>\n",
            "<class 'pandas.core.frame.DataFrame'>\n"
          ]
        }
      ]
    },
    {
      "cell_type": "code",
      "source": [
        "fer2013_test_features"
      ],
      "metadata": {
        "colab": {
          "base_uri": "https://localhost:8080/",
          "height": 423
        },
        "id": "ao9MSIcfYRRW",
        "outputId": "0f51fea2-5ad0-4b1b-fe07-362b555283a4"
      },
      "execution_count": null,
      "outputs": [
        {
          "output_type": "execute_result",
          "data": {
            "text/plain": [
              "                                                 pixels\n",
              "0     254 254 254 254 254 249 255 160 2 58 53 70 77 ...\n",
              "1     156 184 198 202 204 207 210 212 213 214 215 21...\n",
              "2     69 118 61 60 96 121 103 87 103 88 70 90 115 12...\n",
              "3     205 203 236 157 83 158 120 116 94 86 155 180 2...\n",
              "4     87 79 74 66 74 96 77 80 80 84 83 89 102 91 84 ...\n",
              "...                                                 ...\n",
              "3584  178 176 172 173 173 174 176 173 166 166 206 22...\n",
              "3585  25 34 42 44 42 47 57 59 59 58 54 51 50 56 63 6...\n",
              "3586  255 255 255 255 255 255 255 255 255 255 255 25...\n",
              "3587  33 25 31 36 36 42 69 103 132 163 175 183 187 1...\n",
              "3588  61 63 59 75 151 159 166 161 143 170 127 131 18...\n",
              "\n",
              "[3589 rows x 1 columns]"
            ],
            "text/html": [
              "\n",
              "  <div id=\"df-4b6015af-edd7-4991-974f-11ebc119c64c\">\n",
              "    <div class=\"colab-df-container\">\n",
              "      <div>\n",
              "<style scoped>\n",
              "    .dataframe tbody tr th:only-of-type {\n",
              "        vertical-align: middle;\n",
              "    }\n",
              "\n",
              "    .dataframe tbody tr th {\n",
              "        vertical-align: top;\n",
              "    }\n",
              "\n",
              "    .dataframe thead th {\n",
              "        text-align: right;\n",
              "    }\n",
              "</style>\n",
              "<table border=\"1\" class=\"dataframe\">\n",
              "  <thead>\n",
              "    <tr style=\"text-align: right;\">\n",
              "      <th></th>\n",
              "      <th>pixels</th>\n",
              "    </tr>\n",
              "  </thead>\n",
              "  <tbody>\n",
              "    <tr>\n",
              "      <th>0</th>\n",
              "      <td>254 254 254 254 254 249 255 160 2 58 53 70 77 ...</td>\n",
              "    </tr>\n",
              "    <tr>\n",
              "      <th>1</th>\n",
              "      <td>156 184 198 202 204 207 210 212 213 214 215 21...</td>\n",
              "    </tr>\n",
              "    <tr>\n",
              "      <th>2</th>\n",
              "      <td>69 118 61 60 96 121 103 87 103 88 70 90 115 12...</td>\n",
              "    </tr>\n",
              "    <tr>\n",
              "      <th>3</th>\n",
              "      <td>205 203 236 157 83 158 120 116 94 86 155 180 2...</td>\n",
              "    </tr>\n",
              "    <tr>\n",
              "      <th>4</th>\n",
              "      <td>87 79 74 66 74 96 77 80 80 84 83 89 102 91 84 ...</td>\n",
              "    </tr>\n",
              "    <tr>\n",
              "      <th>...</th>\n",
              "      <td>...</td>\n",
              "    </tr>\n",
              "    <tr>\n",
              "      <th>3584</th>\n",
              "      <td>178 176 172 173 173 174 176 173 166 166 206 22...</td>\n",
              "    </tr>\n",
              "    <tr>\n",
              "      <th>3585</th>\n",
              "      <td>25 34 42 44 42 47 57 59 59 58 54 51 50 56 63 6...</td>\n",
              "    </tr>\n",
              "    <tr>\n",
              "      <th>3586</th>\n",
              "      <td>255 255 255 255 255 255 255 255 255 255 255 25...</td>\n",
              "    </tr>\n",
              "    <tr>\n",
              "      <th>3587</th>\n",
              "      <td>33 25 31 36 36 42 69 103 132 163 175 183 187 1...</td>\n",
              "    </tr>\n",
              "    <tr>\n",
              "      <th>3588</th>\n",
              "      <td>61 63 59 75 151 159 166 161 143 170 127 131 18...</td>\n",
              "    </tr>\n",
              "  </tbody>\n",
              "</table>\n",
              "<p>3589 rows × 1 columns</p>\n",
              "</div>\n",
              "      <button class=\"colab-df-convert\" onclick=\"convertToInteractive('df-4b6015af-edd7-4991-974f-11ebc119c64c')\"\n",
              "              title=\"Convert this dataframe to an interactive table.\"\n",
              "              style=\"display:none;\">\n",
              "        \n",
              "  <svg xmlns=\"http://www.w3.org/2000/svg\" height=\"24px\"viewBox=\"0 0 24 24\"\n",
              "       width=\"24px\">\n",
              "    <path d=\"M0 0h24v24H0V0z\" fill=\"none\"/>\n",
              "    <path d=\"M18.56 5.44l.94 2.06.94-2.06 2.06-.94-2.06-.94-.94-2.06-.94 2.06-2.06.94zm-11 1L8.5 8.5l.94-2.06 2.06-.94-2.06-.94L8.5 2.5l-.94 2.06-2.06.94zm10 10l.94 2.06.94-2.06 2.06-.94-2.06-.94-.94-2.06-.94 2.06-2.06.94z\"/><path d=\"M17.41 7.96l-1.37-1.37c-.4-.4-.92-.59-1.43-.59-.52 0-1.04.2-1.43.59L10.3 9.45l-7.72 7.72c-.78.78-.78 2.05 0 2.83L4 21.41c.39.39.9.59 1.41.59.51 0 1.02-.2 1.41-.59l7.78-7.78 2.81-2.81c.8-.78.8-2.07 0-2.86zM5.41 20L4 18.59l7.72-7.72 1.47 1.35L5.41 20z\"/>\n",
              "  </svg>\n",
              "      </button>\n",
              "      \n",
              "  <style>\n",
              "    .colab-df-container {\n",
              "      display:flex;\n",
              "      flex-wrap:wrap;\n",
              "      gap: 12px;\n",
              "    }\n",
              "\n",
              "    .colab-df-convert {\n",
              "      background-color: #E8F0FE;\n",
              "      border: none;\n",
              "      border-radius: 50%;\n",
              "      cursor: pointer;\n",
              "      display: none;\n",
              "      fill: #1967D2;\n",
              "      height: 32px;\n",
              "      padding: 0 0 0 0;\n",
              "      width: 32px;\n",
              "    }\n",
              "\n",
              "    .colab-df-convert:hover {\n",
              "      background-color: #E2EBFA;\n",
              "      box-shadow: 0px 1px 2px rgba(60, 64, 67, 0.3), 0px 1px 3px 1px rgba(60, 64, 67, 0.15);\n",
              "      fill: #174EA6;\n",
              "    }\n",
              "\n",
              "    [theme=dark] .colab-df-convert {\n",
              "      background-color: #3B4455;\n",
              "      fill: #D2E3FC;\n",
              "    }\n",
              "\n",
              "    [theme=dark] .colab-df-convert:hover {\n",
              "      background-color: #434B5C;\n",
              "      box-shadow: 0px 1px 3px 1px rgba(0, 0, 0, 0.15);\n",
              "      filter: drop-shadow(0px 1px 2px rgba(0, 0, 0, 0.3));\n",
              "      fill: #FFFFFF;\n",
              "    }\n",
              "  </style>\n",
              "\n",
              "      <script>\n",
              "        const buttonEl =\n",
              "          document.querySelector('#df-4b6015af-edd7-4991-974f-11ebc119c64c button.colab-df-convert');\n",
              "        buttonEl.style.display =\n",
              "          google.colab.kernel.accessAllowed ? 'block' : 'none';\n",
              "\n",
              "        async function convertToInteractive(key) {\n",
              "          const element = document.querySelector('#df-4b6015af-edd7-4991-974f-11ebc119c64c');\n",
              "          const dataTable =\n",
              "            await google.colab.kernel.invokeFunction('convertToInteractive',\n",
              "                                                     [key], {});\n",
              "          if (!dataTable) return;\n",
              "\n",
              "          const docLinkHtml = 'Like what you see? Visit the ' +\n",
              "            '<a target=\"_blank\" href=https://colab.research.google.com/notebooks/data_table.ipynb>data table notebook</a>'\n",
              "            + ' to learn more about interactive tables.';\n",
              "          element.innerHTML = '';\n",
              "          dataTable['output_type'] = 'display_data';\n",
              "          await google.colab.output.renderOutput(dataTable, element);\n",
              "          const docLink = document.createElement('div');\n",
              "          docLink.innerHTML = docLinkHtml;\n",
              "          element.appendChild(docLink);\n",
              "        }\n",
              "      </script>\n",
              "    </div>\n",
              "  </div>\n",
              "  "
            ]
          },
          "metadata": {},
          "execution_count": 10
        }
      ]
    },
    {
      "cell_type": "code",
      "source": [
        "fer2013_train_labels.head()"
      ],
      "metadata": {
        "colab": {
          "base_uri": "https://localhost:8080/",
          "height": 206
        },
        "id": "dd3kgDP66aBg",
        "outputId": "a46e0920-97c1-4d9b-ec7b-f7b183ebb4e0"
      },
      "execution_count": null,
      "outputs": [
        {
          "output_type": "execute_result",
          "data": {
            "text/plain": [
              "   emotion\n",
              "0        0\n",
              "1        0\n",
              "2        2\n",
              "3        4\n",
              "4        6"
            ],
            "text/html": [
              "\n",
              "  <div id=\"df-4f3375a1-bac1-462b-a5e8-ec82b63a201b\">\n",
              "    <div class=\"colab-df-container\">\n",
              "      <div>\n",
              "<style scoped>\n",
              "    .dataframe tbody tr th:only-of-type {\n",
              "        vertical-align: middle;\n",
              "    }\n",
              "\n",
              "    .dataframe tbody tr th {\n",
              "        vertical-align: top;\n",
              "    }\n",
              "\n",
              "    .dataframe thead th {\n",
              "        text-align: right;\n",
              "    }\n",
              "</style>\n",
              "<table border=\"1\" class=\"dataframe\">\n",
              "  <thead>\n",
              "    <tr style=\"text-align: right;\">\n",
              "      <th></th>\n",
              "      <th>emotion</th>\n",
              "    </tr>\n",
              "  </thead>\n",
              "  <tbody>\n",
              "    <tr>\n",
              "      <th>0</th>\n",
              "      <td>0</td>\n",
              "    </tr>\n",
              "    <tr>\n",
              "      <th>1</th>\n",
              "      <td>0</td>\n",
              "    </tr>\n",
              "    <tr>\n",
              "      <th>2</th>\n",
              "      <td>2</td>\n",
              "    </tr>\n",
              "    <tr>\n",
              "      <th>3</th>\n",
              "      <td>4</td>\n",
              "    </tr>\n",
              "    <tr>\n",
              "      <th>4</th>\n",
              "      <td>6</td>\n",
              "    </tr>\n",
              "  </tbody>\n",
              "</table>\n",
              "</div>\n",
              "      <button class=\"colab-df-convert\" onclick=\"convertToInteractive('df-4f3375a1-bac1-462b-a5e8-ec82b63a201b')\"\n",
              "              title=\"Convert this dataframe to an interactive table.\"\n",
              "              style=\"display:none;\">\n",
              "        \n",
              "  <svg xmlns=\"http://www.w3.org/2000/svg\" height=\"24px\"viewBox=\"0 0 24 24\"\n",
              "       width=\"24px\">\n",
              "    <path d=\"M0 0h24v24H0V0z\" fill=\"none\"/>\n",
              "    <path d=\"M18.56 5.44l.94 2.06.94-2.06 2.06-.94-2.06-.94-.94-2.06-.94 2.06-2.06.94zm-11 1L8.5 8.5l.94-2.06 2.06-.94-2.06-.94L8.5 2.5l-.94 2.06-2.06.94zm10 10l.94 2.06.94-2.06 2.06-.94-2.06-.94-.94-2.06-.94 2.06-2.06.94z\"/><path d=\"M17.41 7.96l-1.37-1.37c-.4-.4-.92-.59-1.43-.59-.52 0-1.04.2-1.43.59L10.3 9.45l-7.72 7.72c-.78.78-.78 2.05 0 2.83L4 21.41c.39.39.9.59 1.41.59.51 0 1.02-.2 1.41-.59l7.78-7.78 2.81-2.81c.8-.78.8-2.07 0-2.86zM5.41 20L4 18.59l7.72-7.72 1.47 1.35L5.41 20z\"/>\n",
              "  </svg>\n",
              "      </button>\n",
              "      \n",
              "  <style>\n",
              "    .colab-df-container {\n",
              "      display:flex;\n",
              "      flex-wrap:wrap;\n",
              "      gap: 12px;\n",
              "    }\n",
              "\n",
              "    .colab-df-convert {\n",
              "      background-color: #E8F0FE;\n",
              "      border: none;\n",
              "      border-radius: 50%;\n",
              "      cursor: pointer;\n",
              "      display: none;\n",
              "      fill: #1967D2;\n",
              "      height: 32px;\n",
              "      padding: 0 0 0 0;\n",
              "      width: 32px;\n",
              "    }\n",
              "\n",
              "    .colab-df-convert:hover {\n",
              "      background-color: #E2EBFA;\n",
              "      box-shadow: 0px 1px 2px rgba(60, 64, 67, 0.3), 0px 1px 3px 1px rgba(60, 64, 67, 0.15);\n",
              "      fill: #174EA6;\n",
              "    }\n",
              "\n",
              "    [theme=dark] .colab-df-convert {\n",
              "      background-color: #3B4455;\n",
              "      fill: #D2E3FC;\n",
              "    }\n",
              "\n",
              "    [theme=dark] .colab-df-convert:hover {\n",
              "      background-color: #434B5C;\n",
              "      box-shadow: 0px 1px 3px 1px rgba(0, 0, 0, 0.15);\n",
              "      filter: drop-shadow(0px 1px 2px rgba(0, 0, 0, 0.3));\n",
              "      fill: #FFFFFF;\n",
              "    }\n",
              "  </style>\n",
              "\n",
              "      <script>\n",
              "        const buttonEl =\n",
              "          document.querySelector('#df-4f3375a1-bac1-462b-a5e8-ec82b63a201b button.colab-df-convert');\n",
              "        buttonEl.style.display =\n",
              "          google.colab.kernel.accessAllowed ? 'block' : 'none';\n",
              "\n",
              "        async function convertToInteractive(key) {\n",
              "          const element = document.querySelector('#df-4f3375a1-bac1-462b-a5e8-ec82b63a201b');\n",
              "          const dataTable =\n",
              "            await google.colab.kernel.invokeFunction('convertToInteractive',\n",
              "                                                     [key], {});\n",
              "          if (!dataTable) return;\n",
              "\n",
              "          const docLinkHtml = 'Like what you see? Visit the ' +\n",
              "            '<a target=\"_blank\" href=https://colab.research.google.com/notebooks/data_table.ipynb>data table notebook</a>'\n",
              "            + ' to learn more about interactive tables.';\n",
              "          element.innerHTML = '';\n",
              "          dataTable['output_type'] = 'display_data';\n",
              "          await google.colab.output.renderOutput(dataTable, element);\n",
              "          const docLink = document.createElement('div');\n",
              "          docLink.innerHTML = docLinkHtml;\n",
              "          element.appendChild(docLink);\n",
              "        }\n",
              "      </script>\n",
              "    </div>\n",
              "  </div>\n",
              "  "
            ]
          },
          "metadata": {},
          "execution_count": 11
        }
      ]
    },
    {
      "cell_type": "code",
      "source": [
        "fer2013_train_features"
      ],
      "metadata": {
        "colab": {
          "base_uri": "https://localhost:8080/",
          "height": 423
        },
        "id": "ja4_QAhe7AHl",
        "outputId": "0c5a0be5-269a-4faf-e010-2f0c9ee94f49"
      },
      "execution_count": null,
      "outputs": [
        {
          "output_type": "execute_result",
          "data": {
            "text/plain": [
              "                                                  pixels\n",
              "0      70 80 82 72 58 58 60 63 54 58 60 48 89 115 121...\n",
              "1      151 150 147 155 148 133 111 140 170 174 182 15...\n",
              "2      231 212 156 164 174 138 161 173 182 200 106 38...\n",
              "3      24 32 36 30 32 23 19 20 30 41 21 22 32 34 21 1...\n",
              "4      4 0 0 0 0 0 0 0 0 0 0 0 3 15 23 28 48 50 58 84...\n",
              "...                                                  ...\n",
              "28704  84 85 85 85 85 85 85 85 86 86 86 87 86 86 91 9...\n",
              "28705  114 112 113 113 111 111 112 113 115 113 114 11...\n",
              "28706  74 81 87 89 95 100 98 93 105 120 127 133 146 1...\n",
              "28707  222 227 203 90 86 90 84 77 94 87 99 119 134 14...\n",
              "28708  195 199 205 206 205 203 206 209 208 210 212 21...\n",
              "\n",
              "[28709 rows x 1 columns]"
            ],
            "text/html": [
              "\n",
              "  <div id=\"df-4934653c-a623-4e9c-a475-6dd86abebde8\">\n",
              "    <div class=\"colab-df-container\">\n",
              "      <div>\n",
              "<style scoped>\n",
              "    .dataframe tbody tr th:only-of-type {\n",
              "        vertical-align: middle;\n",
              "    }\n",
              "\n",
              "    .dataframe tbody tr th {\n",
              "        vertical-align: top;\n",
              "    }\n",
              "\n",
              "    .dataframe thead th {\n",
              "        text-align: right;\n",
              "    }\n",
              "</style>\n",
              "<table border=\"1\" class=\"dataframe\">\n",
              "  <thead>\n",
              "    <tr style=\"text-align: right;\">\n",
              "      <th></th>\n",
              "      <th>pixels</th>\n",
              "    </tr>\n",
              "  </thead>\n",
              "  <tbody>\n",
              "    <tr>\n",
              "      <th>0</th>\n",
              "      <td>70 80 82 72 58 58 60 63 54 58 60 48 89 115 121...</td>\n",
              "    </tr>\n",
              "    <tr>\n",
              "      <th>1</th>\n",
              "      <td>151 150 147 155 148 133 111 140 170 174 182 15...</td>\n",
              "    </tr>\n",
              "    <tr>\n",
              "      <th>2</th>\n",
              "      <td>231 212 156 164 174 138 161 173 182 200 106 38...</td>\n",
              "    </tr>\n",
              "    <tr>\n",
              "      <th>3</th>\n",
              "      <td>24 32 36 30 32 23 19 20 30 41 21 22 32 34 21 1...</td>\n",
              "    </tr>\n",
              "    <tr>\n",
              "      <th>4</th>\n",
              "      <td>4 0 0 0 0 0 0 0 0 0 0 0 3 15 23 28 48 50 58 84...</td>\n",
              "    </tr>\n",
              "    <tr>\n",
              "      <th>...</th>\n",
              "      <td>...</td>\n",
              "    </tr>\n",
              "    <tr>\n",
              "      <th>28704</th>\n",
              "      <td>84 85 85 85 85 85 85 85 86 86 86 87 86 86 91 9...</td>\n",
              "    </tr>\n",
              "    <tr>\n",
              "      <th>28705</th>\n",
              "      <td>114 112 113 113 111 111 112 113 115 113 114 11...</td>\n",
              "    </tr>\n",
              "    <tr>\n",
              "      <th>28706</th>\n",
              "      <td>74 81 87 89 95 100 98 93 105 120 127 133 146 1...</td>\n",
              "    </tr>\n",
              "    <tr>\n",
              "      <th>28707</th>\n",
              "      <td>222 227 203 90 86 90 84 77 94 87 99 119 134 14...</td>\n",
              "    </tr>\n",
              "    <tr>\n",
              "      <th>28708</th>\n",
              "      <td>195 199 205 206 205 203 206 209 208 210 212 21...</td>\n",
              "    </tr>\n",
              "  </tbody>\n",
              "</table>\n",
              "<p>28709 rows × 1 columns</p>\n",
              "</div>\n",
              "      <button class=\"colab-df-convert\" onclick=\"convertToInteractive('df-4934653c-a623-4e9c-a475-6dd86abebde8')\"\n",
              "              title=\"Convert this dataframe to an interactive table.\"\n",
              "              style=\"display:none;\">\n",
              "        \n",
              "  <svg xmlns=\"http://www.w3.org/2000/svg\" height=\"24px\"viewBox=\"0 0 24 24\"\n",
              "       width=\"24px\">\n",
              "    <path d=\"M0 0h24v24H0V0z\" fill=\"none\"/>\n",
              "    <path d=\"M18.56 5.44l.94 2.06.94-2.06 2.06-.94-2.06-.94-.94-2.06-.94 2.06-2.06.94zm-11 1L8.5 8.5l.94-2.06 2.06-.94-2.06-.94L8.5 2.5l-.94 2.06-2.06.94zm10 10l.94 2.06.94-2.06 2.06-.94-2.06-.94-.94-2.06-.94 2.06-2.06.94z\"/><path d=\"M17.41 7.96l-1.37-1.37c-.4-.4-.92-.59-1.43-.59-.52 0-1.04.2-1.43.59L10.3 9.45l-7.72 7.72c-.78.78-.78 2.05 0 2.83L4 21.41c.39.39.9.59 1.41.59.51 0 1.02-.2 1.41-.59l7.78-7.78 2.81-2.81c.8-.78.8-2.07 0-2.86zM5.41 20L4 18.59l7.72-7.72 1.47 1.35L5.41 20z\"/>\n",
              "  </svg>\n",
              "      </button>\n",
              "      \n",
              "  <style>\n",
              "    .colab-df-container {\n",
              "      display:flex;\n",
              "      flex-wrap:wrap;\n",
              "      gap: 12px;\n",
              "    }\n",
              "\n",
              "    .colab-df-convert {\n",
              "      background-color: #E8F0FE;\n",
              "      border: none;\n",
              "      border-radius: 50%;\n",
              "      cursor: pointer;\n",
              "      display: none;\n",
              "      fill: #1967D2;\n",
              "      height: 32px;\n",
              "      padding: 0 0 0 0;\n",
              "      width: 32px;\n",
              "    }\n",
              "\n",
              "    .colab-df-convert:hover {\n",
              "      background-color: #E2EBFA;\n",
              "      box-shadow: 0px 1px 2px rgba(60, 64, 67, 0.3), 0px 1px 3px 1px rgba(60, 64, 67, 0.15);\n",
              "      fill: #174EA6;\n",
              "    }\n",
              "\n",
              "    [theme=dark] .colab-df-convert {\n",
              "      background-color: #3B4455;\n",
              "      fill: #D2E3FC;\n",
              "    }\n",
              "\n",
              "    [theme=dark] .colab-df-convert:hover {\n",
              "      background-color: #434B5C;\n",
              "      box-shadow: 0px 1px 3px 1px rgba(0, 0, 0, 0.15);\n",
              "      filter: drop-shadow(0px 1px 2px rgba(0, 0, 0, 0.3));\n",
              "      fill: #FFFFFF;\n",
              "    }\n",
              "  </style>\n",
              "\n",
              "      <script>\n",
              "        const buttonEl =\n",
              "          document.querySelector('#df-4934653c-a623-4e9c-a475-6dd86abebde8 button.colab-df-convert');\n",
              "        buttonEl.style.display =\n",
              "          google.colab.kernel.accessAllowed ? 'block' : 'none';\n",
              "\n",
              "        async function convertToInteractive(key) {\n",
              "          const element = document.querySelector('#df-4934653c-a623-4e9c-a475-6dd86abebde8');\n",
              "          const dataTable =\n",
              "            await google.colab.kernel.invokeFunction('convertToInteractive',\n",
              "                                                     [key], {});\n",
              "          if (!dataTable) return;\n",
              "\n",
              "          const docLinkHtml = 'Like what you see? Visit the ' +\n",
              "            '<a target=\"_blank\" href=https://colab.research.google.com/notebooks/data_table.ipynb>data table notebook</a>'\n",
              "            + ' to learn more about interactive tables.';\n",
              "          element.innerHTML = '';\n",
              "          dataTable['output_type'] = 'display_data';\n",
              "          await google.colab.output.renderOutput(dataTable, element);\n",
              "          const docLink = document.createElement('div');\n",
              "          docLink.innerHTML = docLinkHtml;\n",
              "          element.appendChild(docLink);\n",
              "        }\n",
              "      </script>\n",
              "    </div>\n",
              "  </div>\n",
              "  "
            ]
          },
          "metadata": {},
          "execution_count": 12
        }
      ]
    },
    {
      "cell_type": "markdown",
      "source": [
        "Counting the total number of examples for each type of class(total classes = 7)"
      ],
      "metadata": {
        "id": "icT72bNOahT5"
      }
    },
    {
      "cell_type": "code",
      "source": [
        "classes = sorted(fer2013_train_labels['emotion'].unique())\n",
        "print(\"total number of classes: \",len(classes))\n",
        "#print(classes)\n",
        "distribution = fer2013_train_labels.groupby('emotion')['emotion'].value_counts().to_dict()\n",
        "distribution"
      ],
      "metadata": {
        "colab": {
          "base_uri": "https://localhost:8080/"
        },
        "id": "7_-Yc98z7EIK",
        "outputId": "89cb7345-9d07-45fd-a384-9f5fc68c155a"
      },
      "execution_count": null,
      "outputs": [
        {
          "output_type": "stream",
          "name": "stdout",
          "text": [
            "total number of classes:  7\n"
          ]
        },
        {
          "output_type": "execute_result",
          "data": {
            "text/plain": [
              "{(0, 0): 3995,\n",
              " (1, 1): 436,\n",
              " (2, 2): 4097,\n",
              " (3, 3): 7215,\n",
              " (4, 4): 4830,\n",
              " (5, 5): 3171,\n",
              " (6, 6): 4965}"
            ]
          },
          "metadata": {},
          "execution_count": 13
        }
      ]
    },
    {
      "cell_type": "markdown",
      "source": [
        "Plot showing distribution of the seven classes"
      ],
      "metadata": {
        "id": "k2cBkgVOamWr"
      }
    },
    {
      "cell_type": "code",
      "source": [
        "\n",
        "plt.bar(classes, [distribution[(i, i)] for i in classes])\n",
        "plt.xlabel('Number of emotions', fontsize=15)\n",
        "plt.ylabel('Number of examples', fontsize=15)\n",
        "plt.xticks(classes, classes, fontsize=10)\n",
        "plt.title('Training set')\n",
        "plt.show()"
      ],
      "metadata": {
        "colab": {
          "base_uri": "https://localhost:8080/",
          "height": 300
        },
        "id": "fjOWJjChSIj1",
        "outputId": "f1a538fc-d907-4ecf-b860-fa06eb944731"
      },
      "execution_count": null,
      "outputs": [
        {
          "output_type": "display_data",
          "data": {
            "text/plain": [
              "<Figure size 432x288 with 1 Axes>"
            ],
            "image/png": "[encoded data removed]"
          },
          "metadata": {
            "needs_background": "light"
          }
        }
      ]
    },
    {
      "cell_type": "markdown",
      "source": [
        "Splitting the features and labels from strings into a numpy array of type unint8"
      ],
      "metadata": {
        "id": "8O06Po90a0_Y"
      }
    },
    {
      "cell_type": "code",
      "source": [
        "# X_train = np.array(fer2013_features, dtype = 'uint8')\n",
        "# y_train = np.array(fer2013_labels, dtype = 'uint8')\n",
        "X_train = []\n",
        "for index, row in fer2013_train_features.iterrows():\n",
        "  temp = row['pixels'].split(\" \")\n",
        "  X_train.append(np.array(temp))\n",
        "print(len(X_train))\n",
        "X_train = np.array(X_train, dtype = 'uint8')\n",
        "y_train = fer2013_train_labels.to_numpy(dtype = 'uint8')\n",
        "print(\"shape of y_train:\",y_train.shape)\n",
        "print(\"shape of X_train:\",X_train.shape)"
      ],
      "metadata": {
        "id": "xIwRbJZbk5PH",
        "colab": {
          "base_uri": "https://localhost:8080/"
        },
        "outputId": "ace48f41-9e4d-4562-eb39-24c76212672b"
      },
      "execution_count": null,
      "outputs": [
        {
          "output_type": "stream",
          "name": "stdout",
          "text": [
            "28709\n",
            "shape of y_train: (28709, 1)\n",
            "shape of X_train: (28709, 2304)\n"
          ]
        }
      ]
    },
    {
      "cell_type": "code",
      "source": [
        "X_val = []\n",
        "for index, row in fer2013_val_features.iterrows():\n",
        "  temp = row['pixels'].split(\" \")\n",
        "  X_val.append(np.array(temp))\n",
        "print(len(X_val))\n",
        "X_val = np.array(X_val, dtype = 'uint8')\n",
        "y_val = fer2013_val_labels.to_numpy(dtype = 'uint8')\n",
        "print(\"shape of y_val:\",y_val.shape)\n",
        "print(\"shape of X_val:\",X_val.shape)\n",
        "\n"
      ],
      "metadata": {
        "colab": {
          "base_uri": "https://localhost:8080/"
        },
        "id": "TfsU2k86mfYs",
        "outputId": "abba2a6c-d4e0-440b-f95a-0a4ffe0a94c5"
      },
      "execution_count": null,
      "outputs": [
        {
          "output_type": "stream",
          "name": "stdout",
          "text": [
            "3589\n",
            "shape of y_val: (3589, 1)\n",
            "shape of X_val: (3589, 2304)\n"
          ]
        }
      ]
    },
    {
      "cell_type": "code",
      "source": [
        "X_test = []\n",
        "for index, row in fer2013_test_features.iterrows():\n",
        "  temp = row['pixels'].split(\" \")\n",
        "  X_test.append(np.array(temp))\n",
        "print(len(X_test))\n",
        "X_test = np.array(X_test, dtype = 'uint8')\n",
        "y_test = fer2013_test_labels.to_numpy(dtype = 'uint8')\n",
        "print(\"shape of y_test:\",y_test.shape)\n",
        "print(\"shape of X_test:\",X_test.shape)\n",
        "\n"
      ],
      "metadata": {
        "colab": {
          "base_uri": "https://localhost:8080/"
        },
        "id": "wpPdY9lGZ0pG",
        "outputId": "46c5ddfd-0a88-44fc-9067-7b7fb7258ada"
      },
      "execution_count": null,
      "outputs": [
        {
          "output_type": "stream",
          "name": "stdout",
          "text": [
            "3589\n",
            "shape of y_test: (3589, 1)\n",
            "shape of X_test: (3589, 2304)\n"
          ]
        }
      ]
    },
    {
      "cell_type": "markdown",
      "source": [
        "Example image of a toddler in the dataset"
      ],
      "metadata": {
        "id": "e6YZ9qv0a5GJ"
      }
    },
    {
      "cell_type": "code",
      "source": [
        "#fer2013_features.iloc[1]\n",
        "#visualizing an image from the training dataset\n",
        "numpy_im = np.mat(X_train[6]).reshape(48,48)\n",
        "print(numpy_im.shape)\n",
        "plt.imshow(numpy_im,cmap='gray')\n",
        "plt.show() "
      ],
      "metadata": {
        "colab": {
          "base_uri": "https://localhost:8080/",
          "height": 284
        },
        "id": "NIZCuvjKZWvR",
        "outputId": "9666c666-4f5f-42cb-a350-d66e98a42155"
      },
      "execution_count": null,
      "outputs": [
        {
          "output_type": "stream",
          "name": "stdout",
          "text": [
            "(48, 48)\n"
          ]
        },
        {
          "output_type": "display_data",
          "data": {
            "text/plain": [
              "<Figure size 432x288 with 1 Axes>"
            ],
            "image/png": "[encoded data removed]"
          },
          "metadata": {
            "needs_background": "light"
          }
        }
      ]
    },
    {
      "cell_type": "markdown",
      "source": [
        "Reshaping the 1D features into 48 X 48"
      ],
      "metadata": {
        "id": "28Tp3sVba9Rn"
      }
    },
    {
      "cell_type": "code",
      "source": [
        "X_train = X_train.reshape(X_train.shape[0],48,48,1)\n",
        "X_val = X_val.reshape(X_val.shape[0],48,48,1)\n",
        "X_test = X_test.reshape(X_test.shape[0],48,48,1)\n",
        "print(\"X_train shape:\",X_train.shape)\n"
      ],
      "metadata": {
        "colab": {
          "base_uri": "https://localhost:8080/"
        },
        "id": "CB9wTRLfn1jM",
        "outputId": "81cd35ab-e1ec-48a4-911b-eb8684317139"
      },
      "execution_count": null,
      "outputs": [
        {
          "output_type": "stream",
          "name": "stdout",
          "text": [
            "X_train shape: (28709, 48, 48, 1)\n"
          ]
        }
      ]
    },
    {
      "cell_type": "markdown",
      "source": [
        "Converting train, validation, and test labels to categorical(one-hot encoding)"
      ],
      "metadata": {
        "id": "elKSVi-5bDnt"
      }
    },
    {
      "cell_type": "code",
      "source": [
        "from tensorflow.keras.utils import to_categorical\n",
        "y_train = to_categorical(y_train)\n",
        "y_val = to_categorical(y_val)\n",
        "y_test = to_categorical(y_test)"
      ],
      "metadata": {
        "id": "xB2arX-KiDAG"
      },
      "execution_count": null,
      "outputs": []
    },
    {
      "cell_type": "markdown",
      "source": [
        "We can see that the training data is unbalanced with very high number of examples from class 3 and lowest concentration of class 1 examples. We will have to balance this data using data augmentation."
      ],
      "metadata": {
        "id": "A2pjXLvdax7k"
      }
    },
    {
      "cell_type": "markdown",
      "source": [
        "Data augmentation of the same image with variations in width, height, zoom, horizontal flip, and shear"
      ],
      "metadata": {
        "id": "4xC1DjVBbSTk"
      }
    },
    {
      "cell_type": "code",
      "source": [
        "\n",
        "from keras.preprocessing.image import ImageDataGenerator\n",
        "import cv2\n",
        "\n",
        "#augmenting data using ImageDataGenerator to augment data in real-time while training\n",
        "data_generator = ImageDataGenerator(rotation_range=20,\n",
        "                        width_shift_range=0.1,\n",
        "                        height_shift_range=0.1,\n",
        "                        zoom_range=0.1,\n",
        "                        fill_mode='nearest',\n",
        "                        shear_range=0.1,\n",
        "                        horizontal_flip=True)\n",
        "\n",
        "val_gen = ImageDataGenerator()"
      ],
      "metadata": {
        "id": "f6skJa8oSyhd"
      },
      "execution_count": null,
      "outputs": []
    },
    {
      "cell_type": "markdown",
      "source": [
        "Here you can see the data augmentation applied to get variations in the same image of the toddler that was dispalyed above"
      ],
      "metadata": {
        "id": "STntsjXXbNc3"
      }
    },
    {
      "cell_type": "code",
      "source": [
        "#visualizing data augmentations for a single image from the training set\n",
        "img = np.expand_dims(X_train[6],0)\n",
        "print(img.shape)\n",
        "train_data1 = data_generator.flow(img,batch_size = 1)\n",
        "fig, ax = plt.subplots(nrows=1, ncols=8, figsize=(15,15))\n",
        "\n",
        "\n",
        "for i in range(8):\n",
        "    image = next(train_data1).reshape(48,48)\n",
        "    #print(\"shape is\",image.shape)\n",
        " \n",
        "    # plot the augmented images\n",
        "    ax[i].imshow(image,cmap='gray')"
      ],
      "metadata": {
        "colab": {
          "base_uri": "https://localhost:8080/",
          "height": 157
        },
        "id": "pU5333_lrhsT",
        "outputId": "0262304d-d45c-4690-f75d-cf85ebcf8d3f"
      },
      "execution_count": null,
      "outputs": [
        {
          "output_type": "stream",
          "name": "stdout",
          "text": [
            "(1, 48, 48, 1)\n"
          ]
        },
        {
          "output_type": "display_data",
          "data": {
            "text/plain": [
              "<Figure size 1080x1080 with 8 Axes>"
            ],
            "image/png": "[encoded data removed]"
          },
          "metadata": {
            "needs_background": "light"
          }
        }
      ]
    },
    {
      "cell_type": "markdown",
      "source": [
        "Creating data generators for train and validation data. Note: shuffle in validation data is set to False and the batch size will be 64"
      ],
      "metadata": {
        "id": "LNayxyX-bcVR"
      }
    },
    {
      "cell_type": "code",
      "source": [
        "data_generator.fit(X_train)\n",
        "train_data = data_generator.flow(X_train,y_train,batch_size = 64)\n",
        "val_gen.fit(X_val)\n",
        "val_data = val_gen.flow(X_val,y_val,batch_size = 64,shuffle=False)\n"
      ],
      "metadata": {
        "id": "qiiGMI0HpMrR"
      },
      "execution_count": null,
      "outputs": []
    },
    {
      "cell_type": "code",
      "source": [
        "#y_train\n",
        "from tensorflow.keras.layers import Dense, Flatten, Dropout,BatchNormalization ,Activation,Conv2D, MaxPool2D\n",
        "from tensorflow.keras.models import Model, Sequential\n",
        "from tensorflow.keras.callbacks import ReduceLROnPlateau, ModelCheckpoint, EarlyStopping\n",
        "from tensorflow.keras.optimizers import Adam"
      ],
      "metadata": {
        "id": "jo6Qzg3Gg7sB"
      },
      "execution_count": null,
      "outputs": []
    },
    {
      "cell_type": "markdown",
      "source": [
        "dropout 30% of the neurons"
      ],
      "metadata": {
        "id": "WhZUPnvnbo_e"
      }
    },
    {
      "cell_type": "code",
      "source": [
        "# from tensorflow.keras.applications.vgg16 import VGG16\n",
        "dropout_rate = 0.3"
      ],
      "metadata": {
        "id": "bQGElZe4zw8n"
      },
      "execution_count": null,
      "outputs": []
    },
    {
      "cell_type": "markdown",
      "source": [
        "VGG16 model with additional batch normalization and dropout layers"
      ],
      "metadata": {
        "id": "gNmNsG1gbsXG"
      }
    },
    {
      "cell_type": "code",
      "source": [
        "model = Sequential()\n",
        "model.add(Conv2D(input_shape=(48,48,1),filters=64,kernel_size=(3,3),padding=\"same\", activation=\"relu\"))\n",
        "model.add(Conv2D(filters=64,kernel_size=(3,3),padding=\"same\", activation=\"relu\"))\n",
        "model.add(BatchNormalization())\n",
        "model.add(MaxPool2D(pool_size=(2,2),strides=(2,2)))\n",
        "model.add(Dropout(dropout_rate))\n",
        "\n",
        "model.add(Conv2D(filters=128, kernel_size=(3,3), padding=\"same\", activation=\"relu\"))\n",
        "model.add(Conv2D(filters=128, kernel_size=(3,3), padding=\"same\", activation=\"relu\"))\n",
        "model.add(BatchNormalization())\n",
        "model.add(MaxPool2D(pool_size=(2,2),strides=(2,2)))\n",
        "model.add(Dropout(dropout_rate))\n",
        "\n",
        "model.add(Conv2D(filters=256, kernel_size=(3,3), padding=\"same\", activation=\"relu\"))\n",
        "model.add(BatchNormalization())\n",
        "model.add(Conv2D(filters=256, kernel_size=(3,3), padding=\"same\", activation=\"relu\"))\n",
        "model.add(BatchNormalization())\n",
        "model.add(Conv2D(filters=256, kernel_size=(3,3), padding=\"same\", activation=\"relu\"))\n",
        "model.add(BatchNormalization())\n",
        "model.add(MaxPool2D(pool_size=(2,2),strides=(2,2)))\n",
        "model.add(Dropout(dropout_rate))\n",
        "\n",
        "model.add(Conv2D(filters=512, kernel_size=(3,3), padding=\"same\", activation=\"relu\"))\n",
        "model.add(BatchNormalization())\n",
        "model.add(Conv2D(filters=512, kernel_size=(3,3), padding=\"same\", activation=\"relu\"))\n",
        "model.add(BatchNormalization())\n",
        "model.add(Conv2D(filters=512, kernel_size=(3,3), padding=\"same\", activation=\"relu\"))\n",
        "model.add(BatchNormalization())\n",
        "model.add(MaxPool2D(pool_size=(2,2),strides=(2,2)))\n",
        "model.add(Dropout(dropout_rate))\n",
        "\n",
        "model.add(Conv2D(filters=512, kernel_size=(3,3), padding=\"same\", activation=\"relu\"))\n",
        "model.add(BatchNormalization())\n",
        "model.add(Conv2D(filters=512, kernel_size=(3,3), padding=\"same\", activation=\"relu\"))\n",
        "model.add(BatchNormalization())\n",
        "model.add(Conv2D(filters=512, kernel_size=(3,3), padding=\"same\", activation=\"relu\"))\n",
        "model.add(BatchNormalization())\n",
        "model.add(MaxPool2D(pool_size=(2,2),strides=(2,2)))\n",
        "model.add(Dropout(dropout_rate))\n",
        "\n",
        "model.add(Flatten())\n",
        "model.add(Dense(units=4096,activation=\"relu\"))\n",
        "model.add(Dropout(dropout_rate))\n",
        "model.add(Dense(units=4096,activation=\"relu\"))\n",
        "model.add(Dropout(dropout_rate))\n",
        "model.add(Dense(units=7, activation=\"softmax\"))"
      ],
      "metadata": {
        "id": "5-ykk46YeqD0"
      },
      "execution_count": null,
      "outputs": []
    },
    {
      "cell_type": "markdown",
      "source": [
        "This how a block of model looks like"
      ],
      "metadata": {
        "id": "6l0p5OvAbynv"
      }
    },
    {
      "cell_type": "code",
      "source": [
        "from tensorflow.keras.utils import plot_model\n",
        "plot_model(model,to_file=\"drive/My Drive/fer2013/cvit_model_2.png\", show_shapes=False, show_layer_names=True,dpi=96,layer_range=['conv2d_1','conv2d_3'],rankdir='TB')"
      ],
      "metadata": {
        "id": "FqF_pScZoEIS",
        "colab": {
          "base_uri": "https://localhost:8080/",
          "height": 564
        },
        "outputId": "c8c4b14c-b868-4435-f540-359042a6eb20"
      },
      "execution_count": null,
      "outputs": [
        {
          "output_type": "execute_result",
          "data": {
            "text/plain": [
              "<IPython.core.display.Image object>"
            ],
            "image/png": "[encoded data removed]"
          },
          "metadata": {},
          "execution_count": 28
        }
      ]
    },
    {
      "cell_type": "code",
      "source": [
        "model.summary()"
      ],
      "metadata": {
        "colab": {
          "base_uri": "https://localhost:8080/"
        },
        "id": "PWAsc3fffU5t",
        "outputId": "b3c7bba1-57b7-4efb-d806-edd068d95018"
      },
      "execution_count": null,
      "outputs": [
        {
          "output_type": "stream",
          "name": "stdout",
          "text": [
            "Model: \"sequential\"\n",
            "_________________________________________________________________\n",
            " Layer (type)                Output Shape              Param #   \n",
            "=================================================================\n",
            " conv2d (Conv2D)             (None, 48, 48, 64)        640       \n",
            "                                                                 \n",
            " conv2d_1 (Conv2D)           (None, 48, 48, 64)        36928     \n",
            "                                                                 \n",
            " batch_normalization (BatchN  (None, 48, 48, 64)       256       \n",
            " ormalization)                                                   \n",
            "                                                                 \n",
            " max_pooling2d (MaxPooling2D  (None, 24, 24, 64)       0         \n",
            " )                                                               \n",
            "                                                                 \n",
            " dropout (Dropout)           (None, 24, 24, 64)        0         \n",
            "                                                                 \n",
            " conv2d_2 (Conv2D)           (None, 24, 24, 128)       73856     \n",
            "                                                                 \n",
            " conv2d_3 (Conv2D)           (None, 24, 24, 128)       147584    \n",
            "                                                                 \n",
            " batch_normalization_1 (Batc  (None, 24, 24, 128)      512       \n",
            " hNormalization)                                                 \n",
            "                                                                 \n",
            " max_pooling2d_1 (MaxPooling  (None, 12, 12, 128)      0         \n",
            " 2D)                                                             \n",
            "                                                                 \n",
            " dropout_1 (Dropout)         (None, 12, 12, 128)       0         \n",
            "                                                                 \n",
            " conv2d_4 (Conv2D)           (None, 12, 12, 256)       295168    \n",
            "                                                                 \n",
            " batch_normalization_2 (Batc  (None, 12, 12, 256)      1024      \n",
            " hNormalization)                                                 \n",
            "                                                                 \n",
            " conv2d_5 (Conv2D)           (None, 12, 12, 256)       590080    \n",
            "                                                                 \n",
            " batch_normalization_3 (Batc  (None, 12, 12, 256)      1024      \n",
            " hNormalization)                                                 \n",
            "                                                                 \n",
            " conv2d_6 (Conv2D)           (None, 12, 12, 256)       590080    \n",
            "                                                                 \n",
            " batch_normalization_4 (Batc  (None, 12, 12, 256)      1024      \n",
            " hNormalization)                                                 \n",
            "                                                                 \n",
            " max_pooling2d_2 (MaxPooling  (None, 6, 6, 256)        0         \n",
            " 2D)                                                             \n",
            "                                                                 \n",
            " dropout_2 (Dropout)         (None, 6, 6, 256)         0         \n",
            "                                                                 \n",
            " conv2d_7 (Conv2D)           (None, 6, 6, 512)         1180160   \n",
            "                                                                 \n",
            " batch_normalization_5 (Batc  (None, 6, 6, 512)        2048      \n",
            " hNormalization)                                                 \n",
            "                                                                 \n",
            " conv2d_8 (Conv2D)           (None, 6, 6, 512)         2359808   \n",
            "                                                                 \n",
            " batch_normalization_6 (Batc  (None, 6, 6, 512)        2048      \n",
            " hNormalization)                                                 \n",
            "                                                                 \n",
            " conv2d_9 (Conv2D)           (None, 6, 6, 512)         2359808   \n",
            "                                                                 \n",
            " batch_normalization_7 (Batc  (None, 6, 6, 512)        2048      \n",
            " hNormalization)                                                 \n",
            "                                                                 \n",
            " max_pooling2d_3 (MaxPooling  (None, 3, 3, 512)        0         \n",
            " 2D)                                                             \n",
            "                                                                 \n",
            " dropout_3 (Dropout)         (None, 3, 3, 512)         0         \n",
            "                                                                 \n",
            " conv2d_10 (Conv2D)          (None, 3, 3, 512)         2359808   \n",
            "                                                                 \n",
            " batch_normalization_8 (Batc  (None, 3, 3, 512)        2048      \n",
            " hNormalization)                                                 \n",
            "                                                                 \n",
            " conv2d_11 (Conv2D)          (None, 3, 3, 512)         2359808   \n",
            "                                                                 \n",
            " batch_normalization_9 (Batc  (None, 3, 3, 512)        2048      \n",
            " hNormalization)                                                 \n",
            "                                                                 \n",
            " conv2d_12 (Conv2D)          (None, 3, 3, 512)         2359808   \n",
            "                                                                 \n",
            " batch_normalization_10 (Bat  (None, 3, 3, 512)        2048      \n",
            " chNormalization)                                                \n",
            "                                                                 \n",
            " max_pooling2d_4 (MaxPooling  (None, 1, 1, 512)        0         \n",
            " 2D)                                                             \n",
            "                                                                 \n",
            " dropout_4 (Dropout)         (None, 1, 1, 512)         0         \n",
            "                                                                 \n",
            " flatten (Flatten)           (None, 512)               0         \n",
            "                                                                 \n",
            " dense (Dense)               (None, 4096)              2101248   \n",
            "                                                                 \n",
            " dropout_5 (Dropout)         (None, 4096)              0         \n",
            "                                                                 \n",
            " dense_1 (Dense)             (None, 4096)              16781312  \n",
            "                                                                 \n",
            " dropout_6 (Dropout)         (None, 4096)              0         \n",
            "                                                                 \n",
            " dense_2 (Dense)             (None, 7)                 28679     \n",
            "                                                                 \n",
            "=================================================================\n",
            "Total params: 33,640,903\n",
            "Trainable params: 33,632,839\n",
            "Non-trainable params: 8,064\n",
            "_________________________________________________________________\n"
          ]
        }
      ]
    },
    {
      "cell_type": "markdown",
      "source": [
        "model checkpoints for monitoring validation loss and accuracy and saving the best models, early stopping after 30 epochs of no improvement in validation accuary, and reducing learning rate by a factor 0.5 after no improvement in validation accuracy for 5 epochs and with lower bound of 1e-7"
      ],
      "metadata": {
        "id": "1tQzsDQncBIj"
      }
    },
    {
      "cell_type": "code",
      "source": [
        "#scheduler = ReduceLROnPlateau(monitor = 'val_loss',patience = 20,verbose = 1,factor = 0.50, min_lr = 1e-10)\n",
        "\n",
        "# checkpoint = ModelCheckpoint('model.h5')\n",
        "checkpoint_acc = ModelCheckpoint(\"vgg16_acc.h5\", monitor='val_accuracy', verbose=1, save_best_only=True, save_weights_only=False,mode='max')\n",
        "checkpoint_loss = ModelCheckpoint(\"vgg16_loss.h5\", monitor='val_loss', verbose=1, save_best_only=True, save_weights_only=False,mode='min')\n",
        "lr_reduce = ReduceLROnPlateau(monitor='val_accuracy', mode='max', factor=0.5, patience=5, min_lr=1e-7, cooldown=1, verbose=1)\n",
        "early_stopping = EarlyStopping(monitor='val_accuracy',mode='max',verbose=1, patience=30)"
      ],
      "metadata": {
        "id": "xzEqskQ3fXQv"
      },
      "execution_count": null,
      "outputs": []
    },
    {
      "cell_type": "markdown",
      "source": [
        "Adam optimizer with a learning rate of 0.001"
      ],
      "metadata": {
        "id": "pn48ki6Lcgp0"
      }
    },
    {
      "cell_type": "code",
      "source": [
        "#from keras.optimizers import Adam\n",
        "optimizer = Adam(learning_rate=0.001)"
      ],
      "metadata": {
        "id": "iv1TwEqgfhxv"
      },
      "execution_count": null,
      "outputs": []
    },
    {
      "cell_type": "markdown",
      "source": [
        "Loss as categorical cross entropy"
      ],
      "metadata": {
        "id": "Hy9RFbr6co20"
      }
    },
    {
      "cell_type": "code",
      "source": [
        "model.compile(\n",
        "        optimizer=optimizer,\n",
        "        loss=keras.losses.CategoricalCrossentropy(),\n",
        "        metrics=[\n",
        "            keras.metrics.CategoricalAccuracy(name=\"accuracy\"),\n",
        "            ],\n",
        "    )"
      ],
      "metadata": {
        "id": "tGcfCkF7fk-H"
      },
      "execution_count": null,
      "outputs": []
    },
    {
      "cell_type": "markdown",
      "source": [
        "Train the model using GPU on colab"
      ],
      "metadata": {
        "id": "nNQhyqMFcvGU"
      }
    },
    {
      "cell_type": "code",
      "source": [
        "with tf.device(\"/gpu:0\"):\n",
        "  hist = model.fit_generator(steps_per_epoch=X_train.shape[0] // 64,generator=train_data, validation_data= val_data, validation_steps=X_val.shape[0] //64,epochs=150,callbacks=[checkpoint_acc,checkpoint_loss,early_stopping,lr_reduce])"
      ],
      "metadata": {
        "colab": {
          "base_uri": "https://localhost:8080/"
        },
        "id": "u5xkYvKsf5ml",
        "outputId": "2598e06a-5cc3-428c-ea61-49f44618f10d"
      },
      "execution_count": null,
      "outputs": [
        {
          "output_type": "stream",
          "name": "stdout",
          "text": [
            "Epoch 1/150\n"
          ]
        },
        {
          "output_type": "stream",
          "name": "stderr",
          "text": [
            "/usr/local/lib/python3.7/dist-packages/ipykernel_launcher.py:2: UserWarning: `Model.fit_generator` is deprecated and will be removed in a future version. Please use `Model.fit`, which supports generators.\n",
            "  \n"
          ]
        },
        {
          "output_type": "stream",
          "name": "stdout",
          "text": [
            "448/448 [==============================] - ETA: 0s - loss: 1.8859 - accuracy: 0.2519\n",
            "Epoch 1: val_accuracy improved from -inf to 0.28739, saving model to vgg16_acc.h5\n",
            "\n",
            "Epoch 1: val_loss improved from inf to 1.73223, saving model to vgg16_loss.h5\n",
            "448/448 [==============================] - 43s 82ms/step - loss: 1.8859 - accuracy: 0.2519 - val_loss: 1.7322 - val_accuracy: 0.2874 - lr: 0.0010\n",
            "Epoch 2/150\n",
            "448/448 [==============================] - ETA: 0s - loss: 1.6798 - accuracy: 0.3270\n",
            "Epoch 2: val_accuracy improved from 0.28739 to 0.40179, saving model to vgg16_acc.h5\n",
            "\n",
            "Epoch 2: val_loss did not improve from 1.73223\n",
            "448/448 [==============================] - 34s 76ms/step - loss: 1.6798 - accuracy: 0.3270 - val_loss: 1.7830 - val_accuracy: 0.4018 - lr: 0.0010\n",
            "Epoch 3/150\n",
            "448/448 [==============================] - ETA: 0s - loss: 1.5175 - accuracy: 0.4153\n",
            "Epoch 3: val_accuracy improved from 0.40179 to 0.45117, saving model to vgg16_acc.h5\n",
            "\n",
            "Epoch 3: val_loss improved from 1.73223 to 1.43971, saving model to vgg16_loss.h5\n",
            "448/448 [==============================] - 36s 81ms/step - loss: 1.5175 - accuracy: 0.4153 - val_loss: 1.4397 - val_accuracy: 0.4512 - lr: 0.0010\n",
            "Epoch 4/150\n",
            "448/448 [==============================] - ETA: 0s - loss: 1.4232 - accuracy: 0.4507\n",
            "Epoch 4: val_accuracy improved from 0.45117 to 0.48047, saving model to vgg16_acc.h5\n",
            "\n",
            "Epoch 4: val_loss improved from 1.43971 to 1.39394, saving model to vgg16_loss.h5\n",
            "448/448 [==============================] - 35s 79ms/step - loss: 1.4232 - accuracy: 0.4507 - val_loss: 1.3939 - val_accuracy: 0.4805 - lr: 0.0010\n",
            "Epoch 5/150\n",
            "448/448 [==============================] - ETA: 0s - loss: 1.3631 - accuracy: 0.4787\n",
            "Epoch 5: val_accuracy did not improve from 0.48047\n",
            "\n",
            "Epoch 5: val_loss did not improve from 1.39394\n",
            "448/448 [==============================] - 33s 73ms/step - loss: 1.3631 - accuracy: 0.4787 - val_loss: 1.7055 - val_accuracy: 0.3265 - lr: 0.0010\n",
            "Epoch 6/150\n",
            "448/448 [==============================] - ETA: 0s - loss: 1.3290 - accuracy: 0.4914\n",
            "Epoch 6: val_accuracy improved from 0.48047 to 0.50753, saving model to vgg16_acc.h5\n",
            "\n",
            "Epoch 6: val_loss improved from 1.39394 to 1.30313, saving model to vgg16_loss.h5\n",
            "448/448 [==============================] - 35s 79ms/step - loss: 1.3290 - accuracy: 0.4914 - val_loss: 1.3031 - val_accuracy: 0.5075 - lr: 0.0010\n",
            "Epoch 7/150\n",
            "448/448 [==============================] - ETA: 0s - loss: 1.2902 - accuracy: 0.5099\n",
            "Epoch 7: val_accuracy improved from 0.50753 to 0.52148, saving model to vgg16_acc.h5\n",
            "\n",
            "Epoch 7: val_loss improved from 1.30313 to 1.23893, saving model to vgg16_loss.h5\n",
            "448/448 [==============================] - 35s 79ms/step - loss: 1.2902 - accuracy: 0.5099 - val_loss: 1.2389 - val_accuracy: 0.5215 - lr: 0.0010\n",
            "Epoch 8/150\n",
            "448/448 [==============================] - ETA: 0s - loss: 1.2538 - accuracy: 0.5239\n",
            "Epoch 8: val_accuracy improved from 0.52148 to 0.55692, saving model to vgg16_acc.h5\n",
            "\n",
            "Epoch 8: val_loss improved from 1.23893 to 1.17594, saving model to vgg16_loss.h5\n",
            "448/448 [==============================] - 35s 78ms/step - loss: 1.2538 - accuracy: 0.5239 - val_loss: 1.1759 - val_accuracy: 0.5569 - lr: 0.0010\n",
            "Epoch 9/150\n",
            "448/448 [==============================] - ETA: 0s - loss: 1.2154 - accuracy: 0.5412\n",
            "Epoch 9: val_accuracy did not improve from 0.55692\n",
            "\n",
            "Epoch 9: val_loss did not improve from 1.17594\n",
            "448/448 [==============================] - 32s 72ms/step - loss: 1.2154 - accuracy: 0.5412 - val_loss: 1.1889 - val_accuracy: 0.5301 - lr: 0.0010\n",
            "Epoch 10/150\n",
            "448/448 [==============================] - ETA: 0s - loss: 1.1929 - accuracy: 0.5514\n",
            "Epoch 10: val_accuracy improved from 0.55692 to 0.57338, saving model to vgg16_acc.h5\n",
            "\n",
            "Epoch 10: val_loss improved from 1.17594 to 1.17523, saving model to vgg16_loss.h5\n",
            "448/448 [==============================] - 35s 79ms/step - loss: 1.1929 - accuracy: 0.5514 - val_loss: 1.1752 - val_accuracy: 0.5734 - lr: 0.0010\n",
            "Epoch 11/150\n",
            "448/448 [==============================] - ETA: 0s - loss: 1.1663 - accuracy: 0.5657\n",
            "Epoch 11: val_accuracy improved from 0.57338 to 0.58817, saving model to vgg16_acc.h5\n",
            "\n",
            "Epoch 11: val_loss improved from 1.17523 to 1.09536, saving model to vgg16_loss.h5\n",
            "448/448 [==============================] - 36s 79ms/step - loss: 1.1663 - accuracy: 0.5657 - val_loss: 1.0954 - val_accuracy: 0.5882 - lr: 0.0010\n",
            "Epoch 12/150\n",
            "448/448 [==============================] - ETA: 0s - loss: 1.1414 - accuracy: 0.5759\n",
            "Epoch 12: val_accuracy improved from 0.58817 to 0.58873, saving model to vgg16_acc.h5\n",
            "\n",
            "Epoch 12: val_loss improved from 1.09536 to 1.07282, saving model to vgg16_loss.h5\n",
            "448/448 [==============================] - 35s 79ms/step - loss: 1.1414 - accuracy: 0.5759 - val_loss: 1.0728 - val_accuracy: 0.5887 - lr: 0.0010\n",
            "Epoch 13/150\n",
            "448/448 [==============================] - ETA: 0s - loss: 1.1164 - accuracy: 0.5842\n",
            "Epoch 13: val_accuracy did not improve from 0.58873\n",
            "\n",
            "Epoch 13: val_loss did not improve from 1.07282\n",
            "448/448 [==============================] - 33s 73ms/step - loss: 1.1164 - accuracy: 0.5842 - val_loss: 1.1180 - val_accuracy: 0.5873 - lr: 0.0010\n",
            "Epoch 14/150\n",
            "448/448 [==============================] - ETA: 0s - loss: 1.1055 - accuracy: 0.5919\n",
            "Epoch 14: val_accuracy did not improve from 0.58873\n",
            "\n",
            "Epoch 14: val_loss did not improve from 1.07282\n",
            "448/448 [==============================] - 32s 72ms/step - loss: 1.1055 - accuracy: 0.5919 - val_loss: 1.1355 - val_accuracy: 0.5792 - lr: 0.0010\n",
            "Epoch 15/150\n",
            "448/448 [==============================] - ETA: 0s - loss: 1.0914 - accuracy: 0.5954\n",
            "Epoch 15: val_accuracy improved from 0.58873 to 0.60575, saving model to vgg16_acc.h5\n",
            "\n",
            "Epoch 15: val_loss improved from 1.07282 to 1.05377, saving model to vgg16_loss.h5\n",
            "448/448 [==============================] - 35s 79ms/step - loss: 1.0914 - accuracy: 0.5954 - val_loss: 1.0538 - val_accuracy: 0.6057 - lr: 0.0010\n",
            "Epoch 16/150\n",
            "448/448 [==============================] - ETA: 0s - loss: 1.0671 - accuracy: 0.6038\n",
            "Epoch 16: val_accuracy did not improve from 0.60575\n",
            "\n",
            "Epoch 16: val_loss did not improve from 1.05377\n",
            "448/448 [==============================] - 32s 72ms/step - loss: 1.0671 - accuracy: 0.6038 - val_loss: 1.0630 - val_accuracy: 0.5938 - lr: 0.0010\n",
            "Epoch 17/150\n",
            "448/448 [==============================] - ETA: 0s - loss: 1.0645 - accuracy: 0.6044\n",
            "Epoch 17: val_accuracy did not improve from 0.60575\n",
            "\n",
            "Epoch 17: val_loss did not improve from 1.05377\n",
            "448/448 [==============================] - 32s 72ms/step - loss: 1.0645 - accuracy: 0.6044 - val_loss: 1.0698 - val_accuracy: 0.5985 - lr: 0.0010\n",
            "Epoch 18/150\n",
            "448/448 [==============================] - ETA: 0s - loss: 1.0677 - accuracy: 0.6051\n",
            "Epoch 18: val_accuracy improved from 0.60575 to 0.61607, saving model to vgg16_acc.h5\n",
            "\n",
            "Epoch 18: val_loss improved from 1.05377 to 1.01681, saving model to vgg16_loss.h5\n",
            "448/448 [==============================] - 36s 79ms/step - loss: 1.0677 - accuracy: 0.6051 - val_loss: 1.0168 - val_accuracy: 0.6161 - lr: 0.0010\n",
            "Epoch 19/150\n",
            "448/448 [==============================] - ETA: 0s - loss: 1.0366 - accuracy: 0.6184\n",
            "Epoch 19: val_accuracy improved from 0.61607 to 0.63142, saving model to vgg16_acc.h5\n",
            "\n",
            "Epoch 19: val_loss improved from 1.01681 to 0.98039, saving model to vgg16_loss.h5\n",
            "448/448 [==============================] - 35s 78ms/step - loss: 1.0366 - accuracy: 0.6184 - val_loss: 0.9804 - val_accuracy: 0.6314 - lr: 0.0010\n",
            "Epoch 20/150\n",
            "448/448 [==============================] - ETA: 0s - loss: 1.0139 - accuracy: 0.6231\n",
            "Epoch 20: val_accuracy did not improve from 0.63142\n",
            "\n",
            "Epoch 20: val_loss did not improve from 0.98039\n",
            "448/448 [==============================] - 32s 72ms/step - loss: 1.0139 - accuracy: 0.6231 - val_loss: 0.9958 - val_accuracy: 0.6236 - lr: 0.0010\n",
            "Epoch 21/150\n",
            "448/448 [==============================] - ETA: 0s - loss: 1.0027 - accuracy: 0.6281\n",
            "Epoch 21: val_accuracy improved from 0.63142 to 0.63225, saving model to vgg16_acc.h5\n",
            "\n",
            "Epoch 21: val_loss did not improve from 0.98039\n",
            "448/448 [==============================] - 33s 74ms/step - loss: 1.0027 - accuracy: 0.6281 - val_loss: 1.0026 - val_accuracy: 0.6323 - lr: 0.0010\n",
            "Epoch 22/150\n",
            "448/448 [==============================] - ETA: 0s - loss: 0.9992 - accuracy: 0.6311\n",
            "Epoch 22: val_accuracy did not improve from 0.63225\n",
            "\n",
            "Epoch 22: val_loss did not improve from 0.98039\n",
            "448/448 [==============================] - 32s 72ms/step - loss: 0.9992 - accuracy: 0.6311 - val_loss: 1.0138 - val_accuracy: 0.6191 - lr: 0.0010\n",
            "Epoch 23/150\n",
            "448/448 [==============================] - ETA: 0s - loss: 0.9858 - accuracy: 0.6354\n",
            "Epoch 23: val_accuracy improved from 0.63225 to 0.64258, saving model to vgg16_acc.h5\n",
            "\n",
            "Epoch 23: val_loss did not improve from 0.98039\n",
            "448/448 [==============================] - 33s 74ms/step - loss: 0.9858 - accuracy: 0.6354 - val_loss: 0.9931 - val_accuracy: 0.6426 - lr: 0.0010\n",
            "Epoch 24/150\n",
            "448/448 [==============================] - ETA: 0s - loss: 0.9671 - accuracy: 0.6432\n",
            "Epoch 24: val_accuracy did not improve from 0.64258\n",
            "\n",
            "Epoch 24: val_loss did not improve from 0.98039\n",
            "448/448 [==============================] - 32s 72ms/step - loss: 0.9671 - accuracy: 0.6432 - val_loss: 1.0101 - val_accuracy: 0.6180 - lr: 0.0010\n",
            "Epoch 25/150\n",
            "448/448 [==============================] - ETA: 0s - loss: 0.9595 - accuracy: 0.6480\n",
            "Epoch 25: val_accuracy improved from 0.64258 to 0.64397, saving model to vgg16_acc.h5\n",
            "\n",
            "Epoch 25: val_loss did not improve from 0.98039\n",
            "448/448 [==============================] - 33s 74ms/step - loss: 0.9595 - accuracy: 0.6480 - val_loss: 0.9898 - val_accuracy: 0.6440 - lr: 0.0010\n",
            "Epoch 26/150\n",
            "448/448 [==============================] - ETA: 0s - loss: 0.9568 - accuracy: 0.6495\n",
            "Epoch 26: val_accuracy did not improve from 0.64397\n",
            "\n",
            "Epoch 26: val_loss improved from 0.98039 to 0.96234, saving model to vgg16_loss.h5\n",
            "448/448 [==============================] - 33s 74ms/step - loss: 0.9568 - accuracy: 0.6495 - val_loss: 0.9623 - val_accuracy: 0.6415 - lr: 0.0010\n",
            "Epoch 27/150\n",
            "448/448 [==============================] - ETA: 0s - loss: 0.9382 - accuracy: 0.6525\n",
            "Epoch 27: val_accuracy did not improve from 0.64397\n",
            "\n",
            "Epoch 27: val_loss improved from 0.96234 to 0.94553, saving model to vgg16_loss.h5\n",
            "448/448 [==============================] - 33s 74ms/step - loss: 0.9382 - accuracy: 0.6525 - val_loss: 0.9455 - val_accuracy: 0.6395 - lr: 0.0010\n",
            "Epoch 28/150\n",
            "448/448 [==============================] - ETA: 0s - loss: 0.9272 - accuracy: 0.6592\n",
            "Epoch 28: val_accuracy improved from 0.64397 to 0.65151, saving model to vgg16_acc.h5\n",
            "\n",
            "Epoch 28: val_loss did not improve from 0.94553\n",
            "448/448 [==============================] - 33s 75ms/step - loss: 0.9272 - accuracy: 0.6592 - val_loss: 0.9605 - val_accuracy: 0.6515 - lr: 0.0010\n",
            "Epoch 29/150\n",
            "448/448 [==============================] - ETA: 0s - loss: 0.9181 - accuracy: 0.6627\n",
            "Epoch 29: val_accuracy did not improve from 0.65151\n",
            "\n",
            "Epoch 29: val_loss did not improve from 0.94553\n",
            "448/448 [==============================] - 32s 72ms/step - loss: 0.9181 - accuracy: 0.6627 - val_loss: 0.9928 - val_accuracy: 0.6443 - lr: 0.0010\n",
            "Epoch 30/150\n",
            "448/448 [==============================] - ETA: 0s - loss: 0.9080 - accuracy: 0.6667\n",
            "Epoch 30: val_accuracy did not improve from 0.65151\n",
            "\n",
            "Epoch 30: val_loss did not improve from 0.94553\n",
            "448/448 [==============================] - 32s 72ms/step - loss: 0.9080 - accuracy: 0.6667 - val_loss: 1.0281 - val_accuracy: 0.6345 - lr: 0.0010\n",
            "Epoch 31/150\n",
            "448/448 [==============================] - ETA: 0s - loss: 0.9082 - accuracy: 0.6633\n",
            "Epoch 31: val_accuracy did not improve from 0.65151\n",
            "\n",
            "Epoch 31: val_loss improved from 0.94553 to 0.94315, saving model to vgg16_loss.h5\n",
            "448/448 [==============================] - 33s 74ms/step - loss: 0.9082 - accuracy: 0.6633 - val_loss: 0.9431 - val_accuracy: 0.6484 - lr: 0.0010\n",
            "Epoch 32/150\n",
            "448/448 [==============================] - ETA: 0s - loss: 0.8930 - accuracy: 0.6747\n",
            "Epoch 32: val_accuracy did not improve from 0.65151\n",
            "\n",
            "Epoch 32: val_loss did not improve from 0.94315\n",
            "448/448 [==============================] - 32s 72ms/step - loss: 0.8930 - accuracy: 0.6747 - val_loss: 0.9640 - val_accuracy: 0.6334 - lr: 0.0010\n",
            "Epoch 33/150\n",
            "448/448 [==============================] - ETA: 0s - loss: 0.8878 - accuracy: 0.6738\n",
            "Epoch 33: val_accuracy did not improve from 0.65151\n",
            "\n",
            "Epoch 33: val_loss did not improve from 0.94315\n",
            "\n",
            "Epoch 33: ReduceLROnPlateau reducing learning rate to 0.0005000000237487257.\n",
            "448/448 [==============================] - 32s 72ms/step - loss: 0.8878 - accuracy: 0.6738 - val_loss: 1.0330 - val_accuracy: 0.6214 - lr: 0.0010\n",
            "Epoch 34/150\n",
            "448/448 [==============================] - ETA: 0s - loss: 0.8273 - accuracy: 0.6965\n",
            "Epoch 34: val_accuracy improved from 0.65151 to 0.67411, saving model to vgg16_acc.h5\n",
            "\n",
            "Epoch 34: val_loss improved from 0.94315 to 0.89242, saving model to vgg16_loss.h5\n",
            "448/448 [==============================] - 35s 78ms/step - loss: 0.8273 - accuracy: 0.6965 - val_loss: 0.8924 - val_accuracy: 0.6741 - lr: 5.0000e-04\n",
            "Epoch 35/150\n",
            "448/448 [==============================] - ETA: 0s - loss: 0.8070 - accuracy: 0.7066\n",
            "Epoch 35: val_accuracy did not improve from 0.67411\n",
            "\n",
            "Epoch 35: val_loss did not improve from 0.89242\n",
            "448/448 [==============================] - 32s 72ms/step - loss: 0.8070 - accuracy: 0.7066 - val_loss: 0.8955 - val_accuracy: 0.6702 - lr: 5.0000e-04\n",
            "Epoch 36/150\n",
            "448/448 [==============================] - ETA: 0s - loss: 0.7952 - accuracy: 0.7083\n",
            "Epoch 36: val_accuracy did not improve from 0.67411\n",
            "\n",
            "Epoch 36: val_loss did not improve from 0.89242\n",
            "448/448 [==============================] - 32s 72ms/step - loss: 0.7952 - accuracy: 0.7083 - val_loss: 0.9001 - val_accuracy: 0.6730 - lr: 5.0000e-04\n",
            "Epoch 37/150\n",
            "448/448 [==============================] - ETA: 0s - loss: 0.7846 - accuracy: 0.7119\n",
            "Epoch 37: val_accuracy improved from 0.67411 to 0.67494, saving model to vgg16_acc.h5\n",
            "\n",
            "Epoch 37: val_loss improved from 0.89242 to 0.88317, saving model to vgg16_loss.h5\n",
            "448/448 [==============================] - 35s 78ms/step - loss: 0.7846 - accuracy: 0.7119 - val_loss: 0.8832 - val_accuracy: 0.6749 - lr: 5.0000e-04\n",
            "Epoch 38/150\n",
            "448/448 [==============================] - ETA: 0s - loss: 0.7742 - accuracy: 0.7158\n",
            "Epoch 38: val_accuracy did not improve from 0.67494\n",
            "\n",
            "Epoch 38: val_loss did not improve from 0.88317\n",
            "448/448 [==============================] - 33s 73ms/step - loss: 0.7742 - accuracy: 0.7158 - val_loss: 0.9221 - val_accuracy: 0.6741 - lr: 5.0000e-04\n",
            "Epoch 39/150\n",
            "448/448 [==============================] - ETA: 0s - loss: 0.8682 - accuracy: 0.6835\n",
            "Epoch 39: val_accuracy did not improve from 0.67494\n",
            "\n",
            "Epoch 39: val_loss did not improve from 0.88317\n",
            "448/448 [==============================] - 32s 72ms/step - loss: 0.8682 - accuracy: 0.6835 - val_loss: 1.6486 - val_accuracy: 0.4581 - lr: 5.0000e-04\n",
            "Epoch 40/150\n",
            "448/448 [==============================] - ETA: 0s - loss: 0.9952 - accuracy: 0.6296\n",
            "Epoch 40: val_accuracy did not improve from 0.67494\n",
            "\n",
            "Epoch 40: val_loss did not improve from 0.88317\n",
            "448/448 [==============================] - 32s 72ms/step - loss: 0.9952 - accuracy: 0.6296 - val_loss: 0.9409 - val_accuracy: 0.6576 - lr: 5.0000e-04\n",
            "Epoch 41/150\n",
            "448/448 [==============================] - ETA: 0s - loss: 0.8788 - accuracy: 0.6748\n",
            "Epoch 41: val_accuracy did not improve from 0.67494\n",
            "\n",
            "Epoch 41: val_loss did not improve from 0.88317\n",
            "448/448 [==============================] - 32s 72ms/step - loss: 0.8788 - accuracy: 0.6748 - val_loss: 0.9501 - val_accuracy: 0.6624 - lr: 5.0000e-04\n",
            "Epoch 42/150\n",
            "448/448 [==============================] - ETA: 0s - loss: 0.8406 - accuracy: 0.6898\n",
            "Epoch 42: val_accuracy did not improve from 0.67494\n",
            "\n",
            "Epoch 42: val_loss did not improve from 0.88317\n",
            "\n",
            "Epoch 42: ReduceLROnPlateau reducing learning rate to 0.0002500000118743628.\n",
            "448/448 [==============================] - 33s 73ms/step - loss: 0.8406 - accuracy: 0.6898 - val_loss: 0.9106 - val_accuracy: 0.6716 - lr: 5.0000e-04\n",
            "Epoch 43/150\n",
            "448/448 [==============================] - ETA: 0s - loss: 0.8136 - accuracy: 0.7005\n",
            "Epoch 43: val_accuracy did not improve from 0.67494\n",
            "\n",
            "Epoch 43: val_loss did not improve from 0.88317\n",
            "448/448 [==============================] - 32s 72ms/step - loss: 0.8136 - accuracy: 0.7005 - val_loss: 0.9081 - val_accuracy: 0.6660 - lr: 2.5000e-04\n",
            "Epoch 44/150\n",
            "448/448 [==============================] - ETA: 0s - loss: 0.7896 - accuracy: 0.7069\n",
            "Epoch 44: val_accuracy did not improve from 0.67494\n",
            "\n",
            "Epoch 44: val_loss did not improve from 0.88317\n",
            "448/448 [==============================] - 32s 72ms/step - loss: 0.7896 - accuracy: 0.7069 - val_loss: 0.9143 - val_accuracy: 0.6730 - lr: 2.5000e-04\n",
            "Epoch 45/150\n",
            "448/448 [==============================] - ETA: 0s - loss: 0.7819 - accuracy: 0.7106\n",
            "Epoch 45: val_accuracy did not improve from 0.67494\n",
            "\n",
            "Epoch 45: val_loss did not improve from 0.88317\n",
            "448/448 [==============================] - 32s 72ms/step - loss: 0.7819 - accuracy: 0.7106 - val_loss: 0.9112 - val_accuracy: 0.6735 - lr: 2.5000e-04\n",
            "Epoch 46/150\n",
            "448/448 [==============================] - ETA: 0s - loss: 0.7738 - accuracy: 0.7151\n",
            "Epoch 46: val_accuracy improved from 0.67494 to 0.68304, saving model to vgg16_acc.h5\n",
            "\n",
            "Epoch 46: val_loss did not improve from 0.88317\n",
            "448/448 [==============================] - 34s 75ms/step - loss: 0.7738 - accuracy: 0.7151 - val_loss: 0.8880 - val_accuracy: 0.6830 - lr: 2.5000e-04\n",
            "Epoch 47/150\n",
            "448/448 [==============================] - ETA: 0s - loss: 0.7605 - accuracy: 0.7178\n",
            "Epoch 47: val_accuracy improved from 0.68304 to 0.68331, saving model to vgg16_acc.h5\n",
            "\n",
            "Epoch 47: val_loss did not improve from 0.88317\n",
            "448/448 [==============================] - 33s 75ms/step - loss: 0.7605 - accuracy: 0.7178 - val_loss: 0.9001 - val_accuracy: 0.6833 - lr: 2.5000e-04\n",
            "Epoch 48/150\n",
            "448/448 [==============================] - ETA: 0s - loss: 0.7529 - accuracy: 0.7260\n",
            "Epoch 48: val_accuracy improved from 0.68331 to 0.68638, saving model to vgg16_acc.h5\n",
            "\n",
            "Epoch 48: val_loss did not improve from 0.88317\n",
            "448/448 [==============================] - 33s 74ms/step - loss: 0.7529 - accuracy: 0.7260 - val_loss: 0.8861 - val_accuracy: 0.6864 - lr: 2.5000e-04\n",
            "Epoch 49/150\n",
            "448/448 [==============================] - ETA: 0s - loss: 0.7598 - accuracy: 0.7211\n",
            "Epoch 49: val_accuracy did not improve from 0.68638\n",
            "\n",
            "Epoch 49: val_loss did not improve from 0.88317\n",
            "448/448 [==============================] - 32s 72ms/step - loss: 0.7598 - accuracy: 0.7211 - val_loss: 0.8922 - val_accuracy: 0.6805 - lr: 2.5000e-04\n",
            "Epoch 50/150\n",
            "448/448 [==============================] - ETA: 0s - loss: 0.7456 - accuracy: 0.7247\n",
            "Epoch 50: val_accuracy did not improve from 0.68638\n",
            "\n",
            "Epoch 50: val_loss did not improve from 0.88317\n",
            "448/448 [==============================] - 32s 72ms/step - loss: 0.7456 - accuracy: 0.7247 - val_loss: 0.8867 - val_accuracy: 0.6830 - lr: 2.5000e-04\n",
            "Epoch 51/150\n",
            "448/448 [==============================] - ETA: 0s - loss: 0.7349 - accuracy: 0.7299\n",
            "Epoch 51: val_accuracy did not improve from 0.68638\n",
            "\n",
            "Epoch 51: val_loss did not improve from 0.88317\n",
            "448/448 [==============================] - 32s 72ms/step - loss: 0.7349 - accuracy: 0.7299 - val_loss: 0.8905 - val_accuracy: 0.6830 - lr: 2.5000e-04\n",
            "Epoch 52/150\n",
            "448/448 [==============================] - ETA: 0s - loss: 0.7251 - accuracy: 0.7333\n",
            "Epoch 52: val_accuracy improved from 0.68638 to 0.68722, saving model to vgg16_acc.h5\n",
            "\n",
            "Epoch 52: val_loss did not improve from 0.88317\n",
            "448/448 [==============================] - 33s 74ms/step - loss: 0.7251 - accuracy: 0.7333 - val_loss: 0.8881 - val_accuracy: 0.6872 - lr: 2.5000e-04\n",
            "Epoch 53/150\n",
            "448/448 [==============================] - ETA: 0s - loss: 0.7201 - accuracy: 0.7346\n",
            "Epoch 53: val_accuracy improved from 0.68722 to 0.69308, saving model to vgg16_acc.h5\n",
            "\n",
            "Epoch 53: val_loss improved from 0.88317 to 0.88151, saving model to vgg16_loss.h5\n",
            "448/448 [==============================] - 35s 78ms/step - loss: 0.7201 - accuracy: 0.7346 - val_loss: 0.8815 - val_accuracy: 0.6931 - lr: 2.5000e-04\n",
            "Epoch 54/150\n",
            "448/448 [==============================] - ETA: 0s - loss: 0.7140 - accuracy: 0.7357\n",
            "Epoch 54: val_accuracy did not improve from 0.69308\n",
            "\n",
            "Epoch 54: val_loss did not improve from 0.88151\n",
            "448/448 [==============================] - 32s 72ms/step - loss: 0.7140 - accuracy: 0.7357 - val_loss: 0.8975 - val_accuracy: 0.6789 - lr: 2.5000e-04\n",
            "Epoch 55/150\n",
            "448/448 [==============================] - ETA: 0s - loss: 0.7077 - accuracy: 0.7394\n",
            "Epoch 55: val_accuracy did not improve from 0.69308\n",
            "\n",
            "Epoch 55: val_loss did not improve from 0.88151\n",
            "448/448 [==============================] - 32s 72ms/step - loss: 0.7077 - accuracy: 0.7394 - val_loss: 0.8957 - val_accuracy: 0.6808 - lr: 2.5000e-04\n",
            "Epoch 56/150\n",
            "448/448 [==============================] - ETA: 0s - loss: 0.7045 - accuracy: 0.7409\n",
            "Epoch 56: val_accuracy did not improve from 0.69308\n",
            "\n",
            "Epoch 56: val_loss did not improve from 0.88151\n",
            "448/448 [==============================] - 33s 73ms/step - loss: 0.7045 - accuracy: 0.7409 - val_loss: 0.9003 - val_accuracy: 0.6861 - lr: 2.5000e-04\n",
            "Epoch 57/150\n",
            "448/448 [==============================] - ETA: 0s - loss: 0.6959 - accuracy: 0.7422\n",
            "Epoch 57: val_accuracy did not improve from 0.69308\n",
            "\n",
            "Epoch 57: val_loss did not improve from 0.88151\n",
            "448/448 [==============================] - 33s 73ms/step - loss: 0.6959 - accuracy: 0.7422 - val_loss: 0.8917 - val_accuracy: 0.6878 - lr: 2.5000e-04\n",
            "Epoch 58/150\n",
            "448/448 [==============================] - ETA: 0s - loss: 0.6912 - accuracy: 0.7470\n",
            "Epoch 58: val_accuracy did not improve from 0.69308\n",
            "\n",
            "Epoch 58: val_loss improved from 0.88151 to 0.87673, saving model to vgg16_loss.h5\n",
            "\n",
            "Epoch 58: ReduceLROnPlateau reducing learning rate to 0.0001250000059371814.\n",
            "448/448 [==============================] - 34s 75ms/step - loss: 0.6912 - accuracy: 0.7470 - val_loss: 0.8767 - val_accuracy: 0.6903 - lr: 2.5000e-04\n",
            "Epoch 59/150\n",
            "448/448 [==============================] - ETA: 0s - loss: 0.6784 - accuracy: 0.7473\n",
            "Epoch 59: val_accuracy improved from 0.69308 to 0.69392, saving model to vgg16_acc.h5\n",
            "\n",
            "Epoch 59: val_loss did not improve from 0.87673\n",
            "448/448 [==============================] - 34s 75ms/step - loss: 0.6784 - accuracy: 0.7473 - val_loss: 0.8778 - val_accuracy: 0.6939 - lr: 1.2500e-04\n",
            "Epoch 60/150\n",
            "448/448 [==============================] - ETA: 0s - loss: 0.6647 - accuracy: 0.7548\n",
            "Epoch 60: val_accuracy did not improve from 0.69392\n",
            "\n",
            "Epoch 60: val_loss did not improve from 0.87673\n",
            "448/448 [==============================] - 33s 73ms/step - loss: 0.6647 - accuracy: 0.7548 - val_loss: 0.8889 - val_accuracy: 0.6869 - lr: 1.2500e-04\n",
            "Epoch 61/150\n",
            "448/448 [==============================] - ETA: 0s - loss: 0.6611 - accuracy: 0.7553\n",
            "Epoch 61: val_accuracy did not improve from 0.69392\n",
            "\n",
            "Epoch 61: val_loss did not improve from 0.87673\n",
            "448/448 [==============================] - 32s 72ms/step - loss: 0.6611 - accuracy: 0.7553 - val_loss: 0.8943 - val_accuracy: 0.6920 - lr: 1.2500e-04\n",
            "Epoch 62/150\n",
            "448/448 [==============================] - ETA: 0s - loss: 0.6658 - accuracy: 0.7553\n",
            "Epoch 62: val_accuracy did not improve from 0.69392\n",
            "\n",
            "Epoch 62: val_loss did not improve from 0.87673\n",
            "448/448 [==============================] - 32s 72ms/step - loss: 0.6658 - accuracy: 0.7553 - val_loss: 0.8774 - val_accuracy: 0.6864 - lr: 1.2500e-04\n",
            "Epoch 63/150\n",
            "448/448 [==============================] - ETA: 0s - loss: 0.6524 - accuracy: 0.7615\n",
            "Epoch 63: val_accuracy did not improve from 0.69392\n",
            "\n",
            "Epoch 63: val_loss did not improve from 0.87673\n",
            "448/448 [==============================] - 32s 72ms/step - loss: 0.6524 - accuracy: 0.7615 - val_loss: 0.9002 - val_accuracy: 0.6836 - lr: 1.2500e-04\n",
            "Epoch 64/150\n",
            "448/448 [==============================] - ETA: 0s - loss: 0.6485 - accuracy: 0.7625\n",
            "Epoch 64: val_accuracy improved from 0.69392 to 0.69448, saving model to vgg16_acc.h5\n",
            "\n",
            "Epoch 64: val_loss did not improve from 0.87673\n",
            "448/448 [==============================] - 33s 74ms/step - loss: 0.6485 - accuracy: 0.7625 - val_loss: 0.8828 - val_accuracy: 0.6945 - lr: 1.2500e-04\n",
            "Epoch 65/150\n",
            "448/448 [==============================] - ETA: 0s - loss: 0.6474 - accuracy: 0.7632\n",
            "Epoch 65: val_accuracy did not improve from 0.69448\n",
            "\n",
            "Epoch 65: val_loss did not improve from 0.87673\n",
            "448/448 [==============================] - 32s 72ms/step - loss: 0.6474 - accuracy: 0.7632 - val_loss: 0.8971 - val_accuracy: 0.6908 - lr: 1.2500e-04\n",
            "Epoch 66/150\n",
            "448/448 [==============================] - ETA: 0s - loss: 0.6439 - accuracy: 0.7628\n",
            "Epoch 66: val_accuracy did not improve from 0.69448\n",
            "\n",
            "Epoch 66: val_loss did not improve from 0.87673\n",
            "448/448 [==============================] - 32s 72ms/step - loss: 0.6439 - accuracy: 0.7628 - val_loss: 0.8845 - val_accuracy: 0.6908 - lr: 1.2500e-04\n",
            "Epoch 67/150\n",
            "448/448 [==============================] - ETA: 0s - loss: 0.6317 - accuracy: 0.7664\n",
            "Epoch 67: val_accuracy improved from 0.69448 to 0.69475, saving model to vgg16_acc.h5\n",
            "\n",
            "Epoch 67: val_loss did not improve from 0.87673\n",
            "448/448 [==============================] - 34s 75ms/step - loss: 0.6317 - accuracy: 0.7664 - val_loss: 0.8824 - val_accuracy: 0.6948 - lr: 1.2500e-04\n",
            "Epoch 68/150\n",
            "448/448 [==============================] - ETA: 0s - loss: 0.6408 - accuracy: 0.7665\n",
            "Epoch 68: val_accuracy did not improve from 0.69475\n",
            "\n",
            "Epoch 68: val_loss did not improve from 0.87673\n",
            "448/448 [==============================] - 32s 72ms/step - loss: 0.6408 - accuracy: 0.7665 - val_loss: 0.8890 - val_accuracy: 0.6922 - lr: 1.2500e-04\n",
            "Epoch 69/150\n",
            "448/448 [==============================] - ETA: 0s - loss: 0.6340 - accuracy: 0.7655\n",
            "Epoch 69: val_accuracy did not improve from 0.69475\n",
            "\n",
            "Epoch 69: val_loss did not improve from 0.87673\n",
            "448/448 [==============================] - 33s 73ms/step - loss: 0.6340 - accuracy: 0.7655 - val_loss: 0.9236 - val_accuracy: 0.6917 - lr: 1.2500e-04\n",
            "Epoch 70/150\n",
            "448/448 [==============================] - ETA: 0s - loss: 0.6318 - accuracy: 0.7665\n",
            "Epoch 70: val_accuracy did not improve from 0.69475\n",
            "\n",
            "Epoch 70: val_loss did not improve from 0.87673\n",
            "448/448 [==============================] - 33s 73ms/step - loss: 0.6318 - accuracy: 0.7665 - val_loss: 0.9119 - val_accuracy: 0.6911 - lr: 1.2500e-04\n",
            "Epoch 71/150\n",
            "448/448 [==============================] - ETA: 0s - loss: 0.6254 - accuracy: 0.7688\n",
            "Epoch 71: val_accuracy improved from 0.69475 to 0.69838, saving model to vgg16_acc.h5\n",
            "\n",
            "Epoch 71: val_loss did not improve from 0.87673\n",
            "448/448 [==============================] - 34s 76ms/step - loss: 0.6254 - accuracy: 0.7688 - val_loss: 0.8968 - val_accuracy: 0.6984 - lr: 1.2500e-04\n",
            "Epoch 72/150\n",
            "448/448 [==============================] - ETA: 0s - loss: 0.6132 - accuracy: 0.7755\n",
            "Epoch 72: val_accuracy did not improve from 0.69838\n",
            "\n",
            "Epoch 72: val_loss did not improve from 0.87673\n",
            "448/448 [==============================] - 33s 73ms/step - loss: 0.6132 - accuracy: 0.7755 - val_loss: 0.9075 - val_accuracy: 0.6964 - lr: 1.2500e-04\n",
            "Epoch 73/150\n",
            "448/448 [==============================] - ETA: 0s - loss: 0.6169 - accuracy: 0.7744\n",
            "Epoch 73: val_accuracy did not improve from 0.69838\n",
            "\n",
            "Epoch 73: val_loss did not improve from 0.87673\n",
            "448/448 [==============================] - 33s 73ms/step - loss: 0.6169 - accuracy: 0.7744 - val_loss: 0.9142 - val_accuracy: 0.6895 - lr: 1.2500e-04\n",
            "Epoch 74/150\n",
            "448/448 [==============================] - ETA: 0s - loss: 0.6114 - accuracy: 0.7730\n",
            "Epoch 74: val_accuracy did not improve from 0.69838\n",
            "\n",
            "Epoch 74: val_loss did not improve from 0.87673\n",
            "448/448 [==============================] - 33s 73ms/step - loss: 0.6114 - accuracy: 0.7730 - val_loss: 0.9035 - val_accuracy: 0.6931 - lr: 1.2500e-04\n",
            "Epoch 75/150\n",
            "448/448 [==============================] - ETA: 0s - loss: 0.6115 - accuracy: 0.7755\n",
            "Epoch 75: val_accuracy did not improve from 0.69838\n",
            "\n",
            "Epoch 75: val_loss did not improve from 0.87673\n",
            "448/448 [==============================] - 33s 72ms/step - loss: 0.6115 - accuracy: 0.7755 - val_loss: 0.8925 - val_accuracy: 0.6975 - lr: 1.2500e-04\n",
            "Epoch 76/150\n",
            "448/448 [==============================] - ETA: 0s - loss: 0.6020 - accuracy: 0.7773\n",
            "Epoch 76: val_accuracy improved from 0.69838 to 0.70229, saving model to vgg16_acc.h5\n",
            "\n",
            "Epoch 76: val_loss did not improve from 0.87673\n",
            "448/448 [==============================] - 33s 75ms/step - loss: 0.6020 - accuracy: 0.7773 - val_loss: 0.9118 - val_accuracy: 0.7023 - lr: 1.2500e-04\n",
            "Epoch 77/150\n",
            "448/448 [==============================] - ETA: 0s - loss: 0.6046 - accuracy: 0.7783\n",
            "Epoch 77: val_accuracy did not improve from 0.70229\n",
            "\n",
            "Epoch 77: val_loss did not improve from 0.87673\n",
            "448/448 [==============================] - 32s 72ms/step - loss: 0.6046 - accuracy: 0.7783 - val_loss: 0.9249 - val_accuracy: 0.6978 - lr: 1.2500e-04\n",
            "Epoch 78/150\n",
            "448/448 [==============================] - ETA: 0s - loss: 0.6018 - accuracy: 0.7750\n",
            "Epoch 78: val_accuracy did not improve from 0.70229\n",
            "\n",
            "Epoch 78: val_loss did not improve from 0.87673\n",
            "448/448 [==============================] - 33s 73ms/step - loss: 0.6018 - accuracy: 0.7750 - val_loss: 0.9319 - val_accuracy: 0.6878 - lr: 1.2500e-04\n",
            "Epoch 79/150\n",
            "448/448 [==============================] - ETA: 0s - loss: 0.5978 - accuracy: 0.7804\n",
            "Epoch 79: val_accuracy did not improve from 0.70229\n",
            "\n",
            "Epoch 79: val_loss did not improve from 0.87673\n",
            "448/448 [==============================] - 32s 72ms/step - loss: 0.5978 - accuracy: 0.7804 - val_loss: 0.9057 - val_accuracy: 0.6956 - lr: 1.2500e-04\n",
            "Epoch 80/150\n",
            "448/448 [==============================] - ETA: 0s - loss: 0.5887 - accuracy: 0.7832\n",
            "Epoch 80: val_accuracy did not improve from 0.70229\n",
            "\n",
            "Epoch 80: val_loss did not improve from 0.87673\n",
            "448/448 [==============================] - 33s 73ms/step - loss: 0.5887 - accuracy: 0.7832 - val_loss: 0.9070 - val_accuracy: 0.6939 - lr: 1.2500e-04\n",
            "Epoch 81/150\n",
            "448/448 [==============================] - ETA: 0s - loss: 0.5939 - accuracy: 0.7814\n",
            "Epoch 81: val_accuracy did not improve from 0.70229\n",
            "\n",
            "Epoch 81: val_loss did not improve from 0.87673\n",
            "\n",
            "Epoch 81: ReduceLROnPlateau reducing learning rate to 6.25000029685907e-05.\n",
            "448/448 [==============================] - 32s 72ms/step - loss: 0.5939 - accuracy: 0.7814 - val_loss: 0.9117 - val_accuracy: 0.7006 - lr: 1.2500e-04\n",
            "Epoch 82/150\n",
            "448/448 [==============================] - ETA: 0s - loss: 0.5816 - accuracy: 0.7852\n",
            "Epoch 82: val_accuracy did not improve from 0.70229\n",
            "\n",
            "Epoch 82: val_loss did not improve from 0.87673\n",
            "448/448 [==============================] - 33s 72ms/step - loss: 0.5816 - accuracy: 0.7852 - val_loss: 0.9299 - val_accuracy: 0.6939 - lr: 6.2500e-05\n",
            "Epoch 83/150\n",
            "448/448 [==============================] - ETA: 0s - loss: 0.5731 - accuracy: 0.7886\n",
            "Epoch 83: val_accuracy did not improve from 0.70229\n",
            "\n",
            "Epoch 83: val_loss did not improve from 0.87673\n",
            "448/448 [==============================] - 32s 72ms/step - loss: 0.5731 - accuracy: 0.7886 - val_loss: 0.9177 - val_accuracy: 0.6936 - lr: 6.2500e-05\n",
            "Epoch 84/150\n",
            "448/448 [==============================] - ETA: 0s - loss: 0.5730 - accuracy: 0.7890\n",
            "Epoch 84: val_accuracy did not improve from 0.70229\n",
            "\n",
            "Epoch 84: val_loss did not improve from 0.87673\n",
            "448/448 [==============================] - 33s 72ms/step - loss: 0.5730 - accuracy: 0.7890 - val_loss: 0.9265 - val_accuracy: 0.6895 - lr: 6.2500e-05\n",
            "Epoch 85/150\n",
            "448/448 [==============================] - ETA: 0s - loss: 0.5664 - accuracy: 0.7921\n",
            "Epoch 85: val_accuracy did not improve from 0.70229\n",
            "\n",
            "Epoch 85: val_loss did not improve from 0.87673\n",
            "448/448 [==============================] - 33s 73ms/step - loss: 0.5664 - accuracy: 0.7921 - val_loss: 0.9205 - val_accuracy: 0.6911 - lr: 6.2500e-05\n",
            "Epoch 86/150\n",
            "448/448 [==============================] - ETA: 0s - loss: 0.5736 - accuracy: 0.7880\n",
            "Epoch 86: val_accuracy did not improve from 0.70229\n",
            "\n",
            "Epoch 86: val_loss did not improve from 0.87673\n",
            "\n",
            "Epoch 86: ReduceLROnPlateau reducing learning rate to 3.125000148429535e-05.\n",
            "448/448 [==============================] - 33s 73ms/step - loss: 0.5736 - accuracy: 0.7880 - val_loss: 0.9595 - val_accuracy: 0.6878 - lr: 6.2500e-05\n",
            "Epoch 87/150\n",
            "448/448 [==============================] - ETA: 0s - loss: 0.5705 - accuracy: 0.7907\n",
            "Epoch 87: val_accuracy did not improve from 0.70229\n",
            "\n",
            "Epoch 87: val_loss did not improve from 0.87673\n",
            "448/448 [==============================] - 33s 73ms/step - loss: 0.5705 - accuracy: 0.7907 - val_loss: 0.9358 - val_accuracy: 0.6936 - lr: 3.1250e-05\n",
            "Epoch 88/150\n",
            "448/448 [==============================] - ETA: 0s - loss: 0.5698 - accuracy: 0.7878\n",
            "Epoch 88: val_accuracy did not improve from 0.70229\n",
            "\n",
            "Epoch 88: val_loss did not improve from 0.87673\n",
            "448/448 [==============================] - 32s 72ms/step - loss: 0.5698 - accuracy: 0.7878 - val_loss: 0.9189 - val_accuracy: 0.6942 - lr: 3.1250e-05\n",
            "Epoch 89/150\n",
            "448/448 [==============================] - ETA: 0s - loss: 0.5642 - accuracy: 0.7899\n",
            "Epoch 89: val_accuracy did not improve from 0.70229\n",
            "\n",
            "Epoch 89: val_loss did not improve from 0.87673\n",
            "448/448 [==============================] - 33s 73ms/step - loss: 0.5642 - accuracy: 0.7899 - val_loss: 0.9241 - val_accuracy: 0.6975 - lr: 3.1250e-05\n",
            "Epoch 90/150\n",
            "448/448 [==============================] - ETA: 0s - loss: 0.5632 - accuracy: 0.7909\n",
            "Epoch 90: val_accuracy did not improve from 0.70229\n",
            "\n",
            "Epoch 90: val_loss did not improve from 0.87673\n",
            "448/448 [==============================] - 33s 72ms/step - loss: 0.5632 - accuracy: 0.7909 - val_loss: 0.9193 - val_accuracy: 0.6998 - lr: 3.1250e-05\n",
            "Epoch 91/150\n",
            "448/448 [==============================] - ETA: 0s - loss: 0.5555 - accuracy: 0.7926\n",
            "Epoch 91: val_accuracy did not improve from 0.70229\n",
            "\n",
            "Epoch 91: val_loss did not improve from 0.87673\n",
            "\n",
            "Epoch 91: ReduceLROnPlateau reducing learning rate to 1.5625000742147677e-05.\n",
            "448/448 [==============================] - 32s 72ms/step - loss: 0.5555 - accuracy: 0.7926 - val_loss: 0.9276 - val_accuracy: 0.6961 - lr: 3.1250e-05\n",
            "Epoch 92/150\n",
            "448/448 [==============================] - ETA: 0s - loss: 0.5637 - accuracy: 0.7945\n",
            "Epoch 92: val_accuracy did not improve from 0.70229\n",
            "\n",
            "Epoch 92: val_loss did not improve from 0.87673\n",
            "448/448 [==============================] - 32s 72ms/step - loss: 0.5637 - accuracy: 0.7945 - val_loss: 0.9227 - val_accuracy: 0.6989 - lr: 1.5625e-05\n",
            "Epoch 93/150\n",
            "448/448 [==============================] - ETA: 0s - loss: 0.5580 - accuracy: 0.7938\n",
            "Epoch 93: val_accuracy did not improve from 0.70229\n",
            "\n",
            "Epoch 93: val_loss did not improve from 0.87673\n",
            "448/448 [==============================] - 33s 73ms/step - loss: 0.5580 - accuracy: 0.7938 - val_loss: 0.9209 - val_accuracy: 0.7001 - lr: 1.5625e-05\n",
            "Epoch 94/150\n",
            "448/448 [==============================] - ETA: 0s - loss: 0.5457 - accuracy: 0.7992\n",
            "Epoch 94: val_accuracy did not improve from 0.70229\n",
            "\n",
            "Epoch 94: val_loss did not improve from 0.87673\n",
            "448/448 [==============================] - 33s 73ms/step - loss: 0.5457 - accuracy: 0.7992 - val_loss: 0.9280 - val_accuracy: 0.6987 - lr: 1.5625e-05\n",
            "Epoch 95/150\n",
            "448/448 [==============================] - ETA: 0s - loss: 0.5555 - accuracy: 0.7950\n",
            "Epoch 95: val_accuracy did not improve from 0.70229\n",
            "\n",
            "Epoch 95: val_loss did not improve from 0.87673\n",
            "448/448 [==============================] - 33s 73ms/step - loss: 0.5555 - accuracy: 0.7950 - val_loss: 0.9254 - val_accuracy: 0.6975 - lr: 1.5625e-05\n",
            "Epoch 96/150\n",
            "448/448 [==============================] - ETA: 0s - loss: 0.5589 - accuracy: 0.7934\n",
            "Epoch 96: val_accuracy did not improve from 0.70229\n",
            "\n",
            "Epoch 96: val_loss did not improve from 0.87673\n",
            "\n",
            "Epoch 96: ReduceLROnPlateau reducing learning rate to 7.812500371073838e-06.\n",
            "448/448 [==============================] - 33s 73ms/step - loss: 0.5589 - accuracy: 0.7934 - val_loss: 0.9255 - val_accuracy: 0.6950 - lr: 1.5625e-05\n",
            "Epoch 97/150\n",
            "448/448 [==============================] - ETA: 0s - loss: 0.5542 - accuracy: 0.7941\n",
            "Epoch 97: val_accuracy did not improve from 0.70229\n",
            "\n",
            "Epoch 97: val_loss did not improve from 0.87673\n",
            "448/448 [==============================] - 32s 72ms/step - loss: 0.5542 - accuracy: 0.7941 - val_loss: 0.9241 - val_accuracy: 0.6964 - lr: 7.8125e-06\n",
            "Epoch 98/150\n",
            "448/448 [==============================] - ETA: 0s - loss: 0.5595 - accuracy: 0.7938\n",
            "Epoch 98: val_accuracy did not improve from 0.70229\n",
            "\n",
            "Epoch 98: val_loss did not improve from 0.87673\n",
            "448/448 [==============================] - 33s 73ms/step - loss: 0.5595 - accuracy: 0.7938 - val_loss: 0.9265 - val_accuracy: 0.6964 - lr: 7.8125e-06\n",
            "Epoch 99/150\n",
            "448/448 [==============================] - ETA: 0s - loss: 0.5541 - accuracy: 0.7981\n",
            "Epoch 99: val_accuracy did not improve from 0.70229\n",
            "\n",
            "Epoch 99: val_loss did not improve from 0.87673\n",
            "448/448 [==============================] - 33s 73ms/step - loss: 0.5541 - accuracy: 0.7981 - val_loss: 0.9237 - val_accuracy: 0.6961 - lr: 7.8125e-06\n",
            "Epoch 100/150\n",
            "448/448 [==============================] - ETA: 0s - loss: 0.5544 - accuracy: 0.7987\n",
            "Epoch 100: val_accuracy did not improve from 0.70229\n",
            "\n",
            "Epoch 100: val_loss did not improve from 0.87673\n",
            "448/448 [==============================] - 33s 73ms/step - loss: 0.5544 - accuracy: 0.7987 - val_loss: 0.9217 - val_accuracy: 0.6989 - lr: 7.8125e-06\n",
            "Epoch 101/150\n",
            "448/448 [==============================] - ETA: 0s - loss: 0.5540 - accuracy: 0.7955\n",
            "Epoch 101: val_accuracy did not improve from 0.70229\n",
            "\n",
            "Epoch 101: val_loss did not improve from 0.87673\n",
            "\n",
            "Epoch 101: ReduceLROnPlateau reducing learning rate to 3.906250185536919e-06.\n",
            "448/448 [==============================] - 33s 73ms/step - loss: 0.5540 - accuracy: 0.7955 - val_loss: 0.9185 - val_accuracy: 0.7006 - lr: 7.8125e-06\n",
            "Epoch 102/150\n",
            "448/448 [==============================] - ETA: 0s - loss: 0.5515 - accuracy: 0.7958\n",
            "Epoch 102: val_accuracy did not improve from 0.70229\n",
            "\n",
            "Epoch 102: val_loss did not improve from 0.87673\n",
            "448/448 [==============================] - 33s 73ms/step - loss: 0.5515 - accuracy: 0.7958 - val_loss: 0.9235 - val_accuracy: 0.6992 - lr: 3.9063e-06\n",
            "Epoch 103/150\n",
            "448/448 [==============================] - ETA: 0s - loss: 0.5499 - accuracy: 0.7990\n",
            "Epoch 103: val_accuracy did not improve from 0.70229\n",
            "\n",
            "Epoch 103: val_loss did not improve from 0.87673\n",
            "448/448 [==============================] - 33s 73ms/step - loss: 0.5499 - accuracy: 0.7990 - val_loss: 0.9222 - val_accuracy: 0.7015 - lr: 3.9063e-06\n",
            "Epoch 104/150\n",
            "448/448 [==============================] - ETA: 0s - loss: 0.5456 - accuracy: 0.7988\n",
            "Epoch 104: val_accuracy did not improve from 0.70229\n",
            "\n",
            "Epoch 104: val_loss did not improve from 0.87673\n",
            "448/448 [==============================] - 33s 73ms/step - loss: 0.5456 - accuracy: 0.7988 - val_loss: 0.9244 - val_accuracy: 0.6998 - lr: 3.9063e-06\n",
            "Epoch 105/150\n",
            "448/448 [==============================] - ETA: 0s - loss: 0.5536 - accuracy: 0.7986\n",
            "Epoch 105: val_accuracy did not improve from 0.70229\n",
            "\n",
            "Epoch 105: val_loss did not improve from 0.87673\n",
            "448/448 [==============================] - 33s 73ms/step - loss: 0.5536 - accuracy: 0.7986 - val_loss: 0.9263 - val_accuracy: 0.7006 - lr: 3.9063e-06\n",
            "Epoch 106/150\n",
            "448/448 [==============================] - ETA: 0s - loss: 0.5513 - accuracy: 0.7971\n",
            "Epoch 106: val_accuracy did not improve from 0.70229\n",
            "\n",
            "Epoch 106: val_loss did not improve from 0.87673\n",
            "\n",
            "Epoch 106: ReduceLROnPlateau reducing learning rate to 1.9531250927684596e-06.\n",
            "448/448 [==============================] - 33s 74ms/step - loss: 0.5513 - accuracy: 0.7971 - val_loss: 0.9257 - val_accuracy: 0.6998 - lr: 3.9063e-06\n",
            "Epoch 106: early stopping\n"
          ]
        }
      ]
    },
    {
      "cell_type": "code",
      "source": [
        "from sklearn.metrics import confusion_matrix, classification_report, accuracy_score, f1_score"
      ],
      "metadata": {
        "id": "gWW2IWESuvXW"
      },
      "execution_count": null,
      "outputs": []
    },
    {
      "cell_type": "markdown",
      "source": [
        "Create a data generator for test data which will be given for prediction on the model"
      ],
      "metadata": {
        "id": "NevsqiH8c4T5"
      }
    },
    {
      "cell_type": "code",
      "source": [
        "test_gen = ImageDataGenerator()\n",
        "test_data = test_gen.flow(X_test,y_test,batch_size = 1,shuffle=False)"
      ],
      "metadata": {
        "id": "t9_UYOCfxtHh"
      },
      "execution_count": null,
      "outputs": []
    },
    {
      "cell_type": "markdown",
      "source": [
        "predict on the testing data on the model saved with highest validation accuracy"
      ],
      "metadata": {
        "id": "qwmjiRmLWDcv"
      }
    },
    {
      "cell_type": "code",
      "source": [
        "model.load_weights('vgg16_acc.h5')\n",
        "y_pred_acc = model.predict_generator(test_data, steps=X_test.shape[0])\n",
        "#convert probabilities to categorical data\n",
        "y_pred_cat_acc = np.argmax(y_pred_acc, axis=1)\n",
        "y_true_cat_acc = np.argmax(test_data.y, axis=1)\n",
        "result = classification_report(y_true_cat_acc, y_pred_cat_acc)\n",
        "result"
      ],
      "metadata": {
        "id": "OHvWqzKexdPG",
        "colab": {
          "base_uri": "https://localhost:8080/"
        },
        "outputId": "67736d4d-1eb8-4648-dd56-343969ce3b0f"
      },
      "execution_count": null,
      "outputs": [
        {
          "output_type": "stream",
          "name": "stderr",
          "text": [
            "/usr/local/lib/python3.7/dist-packages/ipykernel_launcher.py:2: UserWarning: `Model.predict_generator` is deprecated and will be removed in a future version. Please use `Model.predict`, which supports generators.\n",
            "  \n"
          ]
        },
        {
          "output_type": "stream",
          "name": "stdout",
          "text": [
            "              precision    recall  f1-score   support\n",
            "\n",
            "           0       0.57      0.64      0.60       467\n",
            "           1       0.68      0.46      0.55        56\n",
            "           2       0.61      0.46      0.53       496\n",
            "           3       0.86      0.87      0.87       895\n",
            "           4       0.58      0.52      0.55       653\n",
            "           5       0.83      0.83      0.83       415\n",
            "           6       0.55      0.68      0.61       607\n",
            "\n",
            "    accuracy                           0.68      3589\n",
            "   macro avg       0.67      0.64      0.65      3589\n",
            "weighted avg       0.68      0.68      0.67      3589\n",
            "\n"
          ]
        }
      ]
    },
    {
      "cell_type": "markdown",
      "source": [
        "predict on the testing data on the model saved with lowest validation loss"
      ],
      "metadata": {
        "id": "UnLluEh-V8zG"
      }
    },
    {
      "cell_type": "code",
      "source": [
        "model.load_weights('vgg16_loss.h5')\n",
        "#predict on the testing data for model with lowest loss\n",
        "y_pred_loss = model.predict_generator(test_data, steps=X_test.shape[0])\n",
        "#convert probabilities to categorical data\n",
        "y_pred_cat_loss = np.argmax(y_pred_loss, axis=1)\n",
        "y_true_cat_loss = np.argmax(test_data.y, axis=1)\n",
        "result = classification_report(y_true_cat_loss, y_pred_cat_loss)\n",
        "result"
      ],
      "metadata": {
        "colab": {
          "base_uri": "https://localhost:8080/"
        },
        "id": "C2kp7I08R8YT",
        "outputId": "9b8e6f38-d1e9-4b3a-eaf1-b68a5642ef35"
      },
      "execution_count": null,
      "outputs": [
        {
          "output_type": "stream",
          "name": "stderr",
          "text": [
            "/usr/local/lib/python3.7/dist-packages/ipykernel_launcher.py:2: UserWarning: `Model.predict_generator` is deprecated and will be removed in a future version. Please use `Model.predict`, which supports generators.\n",
            "  \n"
          ]
        },
        {
          "output_type": "stream",
          "name": "stdout",
          "text": [
            "              precision    recall  f1-score   support\n",
            "\n",
            "           0       0.57      0.65      0.61       467\n",
            "           1       0.61      0.50      0.55        56\n",
            "           2       0.59      0.42      0.49       496\n",
            "           3       0.87      0.87      0.87       895\n",
            "           4       0.61      0.54      0.57       653\n",
            "           5       0.80      0.85      0.82       415\n",
            "           6       0.56      0.68      0.61       607\n",
            "\n",
            "    accuracy                           0.68      3589\n",
            "   macro avg       0.66      0.64      0.65      3589\n",
            "weighted avg       0.68      0.68      0.68      3589\n",
            "\n"
          ]
        }
      ]
    },
    {
      "cell_type": "markdown",
      "source": [
        "Learning curve for train and validation loss and train and validation accuracy"
      ],
      "metadata": {
        "id": "nwYtGyKVdA_O"
      }
    },
    {
      "cell_type": "code",
      "source": [
        "\n",
        "import matplotlib.pyplot as plt\n",
        "plt.plot(hist.history['accuracy'])\n",
        "plt.plot(hist.history['val_accuracy'])\n",
        "plt.title('model accuracy-VGG16')\n",
        "plt.xlabel('epoch')\n",
        "plt.ylabel('accuracy')\n",
        "plt.legend(['train', 'validation'], loc='upper left')\n",
        "plt.show()\n",
        "\n",
        "plt.plot(hist.history['loss'])\n",
        "plt.plot(hist.history['val_loss'])\n",
        "plt.title('model loss-VGG16')\n",
        "plt.xlabel('epoch')\n",
        "plt.ylabel('loss')\n",
        "plt.legend(['train', 'validation'], loc='upper left')\n",
        "plt.show()"
      ],
      "metadata": {
        "id": "Zozww9__1Sst",
        "colab": {
          "base_uri": "https://localhost:8080/",
          "height": 573
        },
        "outputId": "f7c59245-9b12-46cb-a1c7-f33e82520f82"
      },
      "execution_count": null,
      "outputs": [
        {
          "output_type": "display_data",
          "data": {
            "text/plain": [
              "<Figure size 432x288 with 1 Axes>"
            ],
            "image/png": "[encoded data removed]"
          },
          "metadata": {
            "needs_background": "light"
          }
        },
        {
          "output_type": "display_data",
          "data": {
            "text/plain": [
              "<Figure size 432x288 with 1 Axes>"
            ],
            "image/png": "[encoded data removed]"
          },
          "metadata": {
            "needs_background": "light"
          }
        }
      ]
    }
  ]
}